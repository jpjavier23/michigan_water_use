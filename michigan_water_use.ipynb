{
 "cells": [
  {
   "cell_type": "markdown",
   "id": "b61cfe3a-50f4-4567-bfa9-0aaa94c273be",
   "metadata": {},
   "source": [
    "# AI Prediction of Michigan Water Use\n",
    "\n",
    "The primary objective of this project is predicting the future impact on Michigan’s water supply based on archived industry and geographical water consumption levels. More specifically, this project will showcase how water consumption changes over time across industries and counties. Population growth data will also be included as an explanatory variable for the increased demand on the industries. With the annual population data, correlations may be identified across the industries to explain changes in demand. Additionally, highlighting the relationships between industries’ water consumption will provide insight into any underlying effects on water use.\r\n",
    "\tAlthough water use data is not available for 2023, the predicted results will be ready to compare with the actual water use results when they become publicly available. Data from the past decade is useful in developing prediction models for 2025 and forecasting future trends. Additionally, aggregate data on the total available water is currently inaccessible. This data would be crucial in identifying the threshold at which the water basin would be critically impacted; so future studies will be required to determine preventative measures. Despite the missing water level data, measuring the current impacts is an important step in predicting high-risk industries\r\n"
   ]
  },
  {
   "cell_type": "markdown",
   "id": "7094a21e-a43c-4ca2-a2da-7dc076409da4",
   "metadata": {},
   "source": [
    "# Libraries"
   ]
  },
  {
   "cell_type": "code",
   "execution_count": 3,
   "id": "34a84fff-0993-403f-b092-b452a707a27d",
   "metadata": {},
   "outputs": [],
   "source": [
    "import pandas as pd\n",
    "import numpy as np\n",
    "import seaborn as sns\n",
    "sns.set_palette('PuBuGn')\n",
    "sns.set_style('dark')\n",
    "import matplotlib.pyplot as plt\n",
    "\n",
    "import warnings\n",
    "warnings.filterwarnings(\"ignore\", category=FutureWarning, module=\"seaborn._oldcore\")"
   ]
  },
  {
   "cell_type": "markdown",
   "id": "ab989eca-0b89-4db2-9f1d-72038ebcaf85",
   "metadata": {},
   "source": [
    "# Predefined Functions"
   ]
  },
  {
   "cell_type": "code",
   "execution_count": null,
   "id": "e75b3b2a-cbe4-4e38-b365-50ce3ecd5f30",
   "metadata": {},
   "outputs": [],
   "source": []
  },
  {
   "cell_type": "markdown",
   "id": "b9643c4e-dd03-42ca-83b0-4a751457a607",
   "metadata": {},
   "source": [
    "# Data Upload\n",
    "\n",
    "The Department of Environment, Great Lakes, and Energy's water usage data for the Great Lakes Basin ranges from 2013 to 2022. The dataset includes a list of the various Michigan counties, industries that reside within those counties, and their annual water consumption. The data does not include population growth data which will be supplemented by the U.S. Census Bureau.\n",
    "\n",
    "* Unnamed: Index number from merging data\n",
    "* county: Geographical division of Michigan\n",
    "* gallons_from_great_lakes: Water use from the Great Lakes\n",
    "* gallons_from_groundwater: Water use from ground water supplies\n",
    "* gallons_from_inland_surface: Water use from other resevoirs, lakes, rivers, etc.\n",
    "* total_gallons_all_sources: Aggregated sum of all gallons\n",
    "* industry: Distinction of entity type that used each water source\n",
    "* year: Surveyed year\n",
    "\n",
    "Martusiuk, O. (n.d.). Michigan water use data (2013 to 2022) [Data set]. Kaggle. https://www.kaggle.com/datasets/oleksiimartusiuk/michigan-water-use-data-2013-to-2022/data\r\n",
    "\n",
    "U.S. Census Bureau. (n.d.). State population totals: 2010-2020 [Data set]. U.S. Census Bureau. https://www2.census.gov/programs-surveys/popest/datasets/2010-2020/state/totals/\n",
    "\r\n",
    "U.S. Census Bureau. (n.d.). State population totals: 2020-2023 [Data set]. U.S. Census Bureau. https://www2.census.gov/programs-surveys/popest/datasets/2020-2023/state/totals/"
   ]
  },
  {
   "cell_type": "code",
   "execution_count": 6,
   "id": "d6ed01f4-7155-4b77-9530-8e9a87f6d87a",
   "metadata": {},
   "outputs": [],
   "source": [
    "pop20 = pd.read_csv('data/nst-est2020-alldata.csv')\n",
    "pop23 = pd.read_csv('data/NST-EST2023-ALLDATA.csv')\n",
    "df1 = pd.read_csv('data/water_use_data_2013_to_2022.csv')"
   ]
  },
  {
   "cell_type": "markdown",
   "id": "bc19a98a-bd7b-43a8-bc62-1e898f88b408",
   "metadata": {},
   "source": [
    "# Data Wrangling"
   ]
  },
  {
   "cell_type": "markdown",
   "id": "19b4ee97-17db-4e7a-84bf-5e95409699ac",
   "metadata": {},
   "source": [
    "## Population Data\n",
    "The population data for both date ranges provided by the U.S. Census Bureau estimates the number of individuals that reside within the states. For this project, Michigan is the only state that will be retained. All other state information will be dropped. Additionally, the dataset contains over 14 extraneous feature categories that are multiplied by the number of years surveyed within each range. To minimize the dimensionality and prepare them for merging, all features that are not annual total population estimates will be dropped. Future studies may be able to make use of analyses with features like natural deaths, imigration rates, or births; but those types of features fall outside the scope of this project. After all extraneous features and observations have been dropped, a single row will remain with a number of features equal to the date ranges. Those rows will be converted to a single column where each year is a single observation."
   ]
  },
  {
   "cell_type": "markdown",
   "id": "4b29f10e-d461-43dd-99f5-5b1adfae0ba3",
   "metadata": {},
   "source": [
    "### pop20\n",
    "\n",
    "The years range from 2010 - 2020. There are a total of 166 features that the data set includes, however only 8 features are required from this dataset."
   ]
  },
  {
   "cell_type": "code",
   "execution_count": 10,
   "id": "f612a876-410b-4211-91ba-d8b7bf995591",
   "metadata": {},
   "outputs": [
    {
     "data": {
      "text/html": [
       "<div>\n",
       "<style scoped>\n",
       "    .dataframe tbody tr th:only-of-type {\n",
       "        vertical-align: middle;\n",
       "    }\n",
       "\n",
       "    .dataframe tbody tr th {\n",
       "        vertical-align: top;\n",
       "    }\n",
       "\n",
       "    .dataframe thead th {\n",
       "        text-align: right;\n",
       "    }\n",
       "</style>\n",
       "<table border=\"1\" class=\"dataframe\">\n",
       "  <thead>\n",
       "    <tr style=\"text-align: right;\">\n",
       "      <th></th>\n",
       "      <th>SUMLEV</th>\n",
       "      <th>REGION</th>\n",
       "      <th>DIVISION</th>\n",
       "      <th>STATE</th>\n",
       "      <th>NAME</th>\n",
       "      <th>CENSUS2010POP</th>\n",
       "      <th>ESTIMATESBASE2010</th>\n",
       "      <th>POPESTIMATE2010</th>\n",
       "      <th>POPESTIMATE2011</th>\n",
       "      <th>POPESTIMATE2012</th>\n",
       "      <th>...</th>\n",
       "      <th>RNETMIG2011</th>\n",
       "      <th>RNETMIG2012</th>\n",
       "      <th>RNETMIG2013</th>\n",
       "      <th>RNETMIG2014</th>\n",
       "      <th>RNETMIG2015</th>\n",
       "      <th>RNETMIG2016</th>\n",
       "      <th>RNETMIG2017</th>\n",
       "      <th>RNETMIG2018</th>\n",
       "      <th>RNETMIG2019</th>\n",
       "      <th>RNETMIG2020</th>\n",
       "    </tr>\n",
       "  </thead>\n",
       "  <tbody>\n",
       "    <tr>\n",
       "      <th>0</th>\n",
       "      <td>10</td>\n",
       "      <td>0</td>\n",
       "      <td>0</td>\n",
       "      <td>0</td>\n",
       "      <td>United States</td>\n",
       "      <td>308745538</td>\n",
       "      <td>308758105</td>\n",
       "      <td>309327143</td>\n",
       "      <td>311583481</td>\n",
       "      <td>313877662</td>\n",
       "      <td>...</td>\n",
       "      <td>2.561705</td>\n",
       "      <td>2.745929</td>\n",
       "      <td>2.697816</td>\n",
       "      <td>2.980977</td>\n",
       "      <td>3.317393</td>\n",
       "      <td>3.308478</td>\n",
       "      <td>2.926260</td>\n",
       "      <td>2.208328</td>\n",
       "      <td>1.735857</td>\n",
       "      <td>1.450346</td>\n",
       "    </tr>\n",
       "    <tr>\n",
       "      <th>1</th>\n",
       "      <td>20</td>\n",
       "      <td>1</td>\n",
       "      <td>0</td>\n",
       "      <td>0</td>\n",
       "      <td>Northeast Region</td>\n",
       "      <td>55317240</td>\n",
       "      <td>55318414</td>\n",
       "      <td>55380764</td>\n",
       "      <td>55608318</td>\n",
       "      <td>55782661</td>\n",
       "      <td>...</td>\n",
       "      <td>0.951355</td>\n",
       "      <td>0.022910</td>\n",
       "      <td>-0.406301</td>\n",
       "      <td>-0.904675</td>\n",
       "      <td>-2.011990</td>\n",
       "      <td>-2.436197</td>\n",
       "      <td>-1.773545</td>\n",
       "      <td>-2.008364</td>\n",
       "      <td>-3.160710</td>\n",
       "      <td>-3.674490</td>\n",
       "    </tr>\n",
       "    <tr>\n",
       "      <th>2</th>\n",
       "      <td>20</td>\n",
       "      <td>2</td>\n",
       "      <td>0</td>\n",
       "      <td>0</td>\n",
       "      <td>Midwest Region</td>\n",
       "      <td>66927001</td>\n",
       "      <td>66929737</td>\n",
       "      <td>66975328</td>\n",
       "      <td>67164092</td>\n",
       "      <td>67348275</td>\n",
       "      <td>...</td>\n",
       "      <td>-0.883842</td>\n",
       "      <td>-0.895516</td>\n",
       "      <td>0.062390</td>\n",
       "      <td>-0.697566</td>\n",
       "      <td>-1.320504</td>\n",
       "      <td>-1.176126</td>\n",
       "      <td>-0.487257</td>\n",
       "      <td>-0.800567</td>\n",
       "      <td>-1.205668</td>\n",
       "      <td>-2.011623</td>\n",
       "    </tr>\n",
       "    <tr>\n",
       "      <th>3</th>\n",
       "      <td>20</td>\n",
       "      <td>3</td>\n",
       "      <td>0</td>\n",
       "      <td>0</td>\n",
       "      <td>South Region</td>\n",
       "      <td>114555744</td>\n",
       "      <td>114563042</td>\n",
       "      <td>114869421</td>\n",
       "      <td>116019483</td>\n",
       "      <td>117264196</td>\n",
       "      <td>...</td>\n",
       "      <td>5.218129</td>\n",
       "      <td>5.934440</td>\n",
       "      <td>5.373447</td>\n",
       "      <td>6.236211</td>\n",
       "      <td>7.355913</td>\n",
       "      <td>7.220696</td>\n",
       "      <td>6.272594</td>\n",
       "      <td>5.291755</td>\n",
       "      <td>5.479642</td>\n",
       "      <td>5.743507</td>\n",
       "    </tr>\n",
       "    <tr>\n",
       "      <th>4</th>\n",
       "      <td>20</td>\n",
       "      <td>4</td>\n",
       "      <td>0</td>\n",
       "      <td>0</td>\n",
       "      <td>West Region</td>\n",
       "      <td>71945553</td>\n",
       "      <td>71946912</td>\n",
       "      <td>72101630</td>\n",
       "      <td>72791588</td>\n",
       "      <td>73482530</td>\n",
       "      <td>...</td>\n",
       "      <td>2.752027</td>\n",
       "      <td>3.083047</td>\n",
       "      <td>3.183793</td>\n",
       "      <td>4.039593</td>\n",
       "      <td>5.004949</td>\n",
       "      <td>5.284859</td>\n",
       "      <td>4.022332</td>\n",
       "      <td>2.968883</td>\n",
       "      <td>1.822074</td>\n",
       "      <td>1.214309</td>\n",
       "    </tr>\n",
       "  </tbody>\n",
       "</table>\n",
       "<p>5 rows × 166 columns</p>\n",
       "</div>"
      ],
      "text/plain": [
       "   SUMLEV REGION DIVISION  STATE              NAME  CENSUS2010POP  \\\n",
       "0      10      0        0      0     United States      308745538   \n",
       "1      20      1        0      0  Northeast Region       55317240   \n",
       "2      20      2        0      0    Midwest Region       66927001   \n",
       "3      20      3        0      0      South Region      114555744   \n",
       "4      20      4        0      0       West Region       71945553   \n",
       "\n",
       "   ESTIMATESBASE2010  POPESTIMATE2010  POPESTIMATE2011  POPESTIMATE2012  ...  \\\n",
       "0          308758105        309327143        311583481        313877662  ...   \n",
       "1           55318414         55380764         55608318         55782661  ...   \n",
       "2           66929737         66975328         67164092         67348275  ...   \n",
       "3          114563042        114869421        116019483        117264196  ...   \n",
       "4           71946912         72101630         72791588         73482530  ...   \n",
       "\n",
       "   RNETMIG2011  RNETMIG2012  RNETMIG2013  RNETMIG2014  RNETMIG2015  \\\n",
       "0     2.561705     2.745929     2.697816     2.980977     3.317393   \n",
       "1     0.951355     0.022910    -0.406301    -0.904675    -2.011990   \n",
       "2    -0.883842    -0.895516     0.062390    -0.697566    -1.320504   \n",
       "3     5.218129     5.934440     5.373447     6.236211     7.355913   \n",
       "4     2.752027     3.083047     3.183793     4.039593     5.004949   \n",
       "\n",
       "   RNETMIG2016  RNETMIG2017  RNETMIG2018  RNETMIG2019  RNETMIG2020  \n",
       "0     3.308478     2.926260     2.208328     1.735857     1.450346  \n",
       "1    -2.436197    -1.773545    -2.008364    -3.160710    -3.674490  \n",
       "2    -1.176126    -0.487257    -0.800567    -1.205668    -2.011623  \n",
       "3     7.220696     6.272594     5.291755     5.479642     5.743507  \n",
       "4     5.284859     4.022332     2.968883     1.822074     1.214309  \n",
       "\n",
       "[5 rows x 166 columns]"
      ]
     },
     "execution_count": 10,
     "metadata": {},
     "output_type": "execute_result"
    }
   ],
   "source": [
    "pop20.head()"
   ]
  },
  {
   "cell_type": "code",
   "execution_count": 11,
   "id": "9de6e68c-02aa-4ac0-9f0b-ebe875f22c6d",
   "metadata": {},
   "outputs": [
    {
     "name": "stdout",
     "output_type": "stream",
     "text": [
      "<class 'pandas.core.frame.DataFrame'>\n",
      "RangeIndex: 57 entries, 0 to 56\n",
      "Columns: 166 entries, SUMLEV to RNETMIG2020\n",
      "dtypes: float64(60), int64(103), object(3)\n",
      "memory usage: 74.1+ KB\n"
     ]
    }
   ],
   "source": [
    "pop20.info()"
   ]
  },
  {
   "cell_type": "code",
   "execution_count": 12,
   "id": "aa8a0d7e-4498-4b8e-9f09-5270fbadc0a6",
   "metadata": {},
   "outputs": [],
   "source": [
    "pop20_1 = pop20[pop20['NAME'] == 'Michigan']"
   ]
  },
  {
   "cell_type": "code",
   "execution_count": 13,
   "id": "686d1d6f-5860-45c6-8b46-e8e3638a9bec",
   "metadata": {},
   "outputs": [],
   "source": [
    "pop20_2 = pop20_1.loc[:, 'POPESTIMATE2013':'POPESTIMATE2020']"
   ]
  },
  {
   "cell_type": "code",
   "execution_count": 14,
   "id": "9eef46b2-8978-4ef7-82fd-50ae0844f8f9",
   "metadata": {},
   "outputs": [],
   "source": [
    "pop20_3 = pop20_2.copy()\n",
    "pop20_3.columns = pop20_3.columns.str.removeprefix('POPESTIMATE')"
   ]
  },
  {
   "cell_type": "code",
   "execution_count": 15,
   "id": "f34df4a7-d923-4e8e-951d-3a1338583feb",
   "metadata": {},
   "outputs": [],
   "source": [
    "pop20_4 = pop20_3.transpose().reset_index()"
   ]
  },
  {
   "cell_type": "code",
   "execution_count": 16,
   "id": "2dd4d653-2bb7-4e2c-9c08-828645433efc",
   "metadata": {},
   "outputs": [],
   "source": [
    "pop20_5 = pop20_4.rename(columns = {'index': 'year', 27: 'population'})"
   ]
  },
  {
   "cell_type": "code",
   "execution_count": 17,
   "id": "6ee00d3f-9b43-4f5a-bdb4-5551ced7e9bf",
   "metadata": {},
   "outputs": [
    {
     "name": "stdout",
     "output_type": "stream",
     "text": [
      "<class 'pandas.core.frame.DataFrame'>\n",
      "RangeIndex: 8 entries, 0 to 7\n",
      "Data columns (total 2 columns):\n",
      " #   Column      Non-Null Count  Dtype\n",
      "---  ------      --------------  -----\n",
      " 0   year        8 non-null      int32\n",
      " 1   population  8 non-null      int64\n",
      "dtypes: int32(1), int64(1)\n",
      "memory usage: 228.0 bytes\n"
     ]
    }
   ],
   "source": [
    "pop20_6 = pop20_5.copy()\n",
    "pop20_6['year'] = pop20_6['year'].astype('int')\n",
    "pop20_6.info()"
   ]
  },
  {
   "cell_type": "markdown",
   "id": "5ab51605-6abb-4856-9a67-4a90fc0d1059",
   "metadata": {},
   "source": [
    "### pop23\n",
    "\n",
    "The years range from 2020 - 2023. There are a total of 60 features that the data set includes, however only 8 features are required from this dataset."
   ]
  },
  {
   "cell_type": "code",
   "execution_count": 19,
   "id": "4dcb026b-1f69-41f2-81e1-cafed8249e9c",
   "metadata": {},
   "outputs": [
    {
     "data": {
      "text/html": [
       "<div>\n",
       "<style scoped>\n",
       "    .dataframe tbody tr th:only-of-type {\n",
       "        vertical-align: middle;\n",
       "    }\n",
       "\n",
       "    .dataframe tbody tr th {\n",
       "        vertical-align: top;\n",
       "    }\n",
       "\n",
       "    .dataframe thead th {\n",
       "        text-align: right;\n",
       "    }\n",
       "</style>\n",
       "<table border=\"1\" class=\"dataframe\">\n",
       "  <thead>\n",
       "    <tr style=\"text-align: right;\">\n",
       "      <th></th>\n",
       "      <th>SUMLEV</th>\n",
       "      <th>REGION</th>\n",
       "      <th>DIVISION</th>\n",
       "      <th>STATE</th>\n",
       "      <th>NAME</th>\n",
       "      <th>ESTIMATESBASE2020</th>\n",
       "      <th>POPESTIMATE2020</th>\n",
       "      <th>POPESTIMATE2021</th>\n",
       "      <th>POPESTIMATE2022</th>\n",
       "      <th>POPESTIMATE2023</th>\n",
       "      <th>...</th>\n",
       "      <th>RNATURALCHG2023</th>\n",
       "      <th>RINTERNATIONALMIG2021</th>\n",
       "      <th>RINTERNATIONALMIG2022</th>\n",
       "      <th>RINTERNATIONALMIG2023</th>\n",
       "      <th>RDOMESTICMIG2021</th>\n",
       "      <th>RDOMESTICMIG2022</th>\n",
       "      <th>RDOMESTICMIG2023</th>\n",
       "      <th>RNETMIG2021</th>\n",
       "      <th>RNETMIG2022</th>\n",
       "      <th>RNETMIG2023</th>\n",
       "    </tr>\n",
       "  </thead>\n",
       "  <tbody>\n",
       "    <tr>\n",
       "      <th>0</th>\n",
       "      <td>10</td>\n",
       "      <td>0</td>\n",
       "      <td>0</td>\n",
       "      <td>0</td>\n",
       "      <td>United States</td>\n",
       "      <td>331464948</td>\n",
       "      <td>331526933</td>\n",
       "      <td>332048977</td>\n",
       "      <td>333271411</td>\n",
       "      <td>334914895</td>\n",
       "      <td>...</td>\n",
       "      <td>1.510043</td>\n",
       "      <td>1.133278</td>\n",
       "      <td>3.003867</td>\n",
       "      <td>3.409196</td>\n",
       "      <td>0.000000</td>\n",
       "      <td>0.000000</td>\n",
       "      <td>0.000000</td>\n",
       "      <td>1.133278</td>\n",
       "      <td>3.003867</td>\n",
       "      <td>3.409196</td>\n",
       "    </tr>\n",
       "    <tr>\n",
       "      <th>1</th>\n",
       "      <td>20</td>\n",
       "      <td>1</td>\n",
       "      <td>0</td>\n",
       "      <td>0</td>\n",
       "      <td>Northeast Region</td>\n",
       "      <td>57614141</td>\n",
       "      <td>57430477</td>\n",
       "      <td>57243423</td>\n",
       "      <td>57026847</td>\n",
       "      <td>56983517</td>\n",
       "      <td>...</td>\n",
       "      <td>0.976280</td>\n",
       "      <td>1.403074</td>\n",
       "      <td>3.678035</td>\n",
       "      <td>3.947167</td>\n",
       "      <td>-4.823207</td>\n",
       "      <td>-7.881683</td>\n",
       "      <td>-5.671414</td>\n",
       "      <td>-3.420133</td>\n",
       "      <td>-4.203648</td>\n",
       "      <td>-1.724247</td>\n",
       "    </tr>\n",
       "    <tr>\n",
       "      <th>2</th>\n",
       "      <td>30</td>\n",
       "      <td>1</td>\n",
       "      <td>1</td>\n",
       "      <td>0</td>\n",
       "      <td>New England</td>\n",
       "      <td>15119994</td>\n",
       "      <td>15057898</td>\n",
       "      <td>15106108</td>\n",
       "      <td>15120739</td>\n",
       "      <td>15159777</td>\n",
       "      <td>...</td>\n",
       "      <td>-0.019551</td>\n",
       "      <td>1.772643</td>\n",
       "      <td>4.532659</td>\n",
       "      <td>5.024221</td>\n",
       "      <td>1.615767</td>\n",
       "      <td>-3.086263</td>\n",
       "      <td>-2.445863</td>\n",
       "      <td>3.388409</td>\n",
       "      <td>1.446396</td>\n",
       "      <td>2.578358</td>\n",
       "    </tr>\n",
       "    <tr>\n",
       "      <th>3</th>\n",
       "      <td>30</td>\n",
       "      <td>1</td>\n",
       "      <td>2</td>\n",
       "      <td>0</td>\n",
       "      <td>Middle Atlantic</td>\n",
       "      <td>42494147</td>\n",
       "      <td>42372579</td>\n",
       "      <td>42137315</td>\n",
       "      <td>41906108</td>\n",
       "      <td>41823740</td>\n",
       "      <td>...</td>\n",
       "      <td>1.336417</td>\n",
       "      <td>1.271165</td>\n",
       "      <td>3.370662</td>\n",
       "      <td>3.557656</td>\n",
       "      <td>-7.121462</td>\n",
       "      <td>-9.606391</td>\n",
       "      <td>-6.837920</td>\n",
       "      <td>-5.850297</td>\n",
       "      <td>-6.235729</td>\n",
       "      <td>-3.280264</td>\n",
       "    </tr>\n",
       "    <tr>\n",
       "      <th>4</th>\n",
       "      <td>20</td>\n",
       "      <td>2</td>\n",
       "      <td>0</td>\n",
       "      <td>0</td>\n",
       "      <td>Midwest Region</td>\n",
       "      <td>68987296</td>\n",
       "      <td>68969794</td>\n",
       "      <td>68850246</td>\n",
       "      <td>68783028</td>\n",
       "      <td>68909283</td>\n",
       "      <td>...</td>\n",
       "      <td>0.665803</td>\n",
       "      <td>0.802684</td>\n",
       "      <td>2.098649</td>\n",
       "      <td>2.409866</td>\n",
       "      <td>-2.577042</td>\n",
       "      <td>-2.636615</td>\n",
       "      <td>-1.245226</td>\n",
       "      <td>-1.774357</td>\n",
       "      <td>-0.537966</td>\n",
       "      <td>1.164640</td>\n",
       "    </tr>\n",
       "  </tbody>\n",
       "</table>\n",
       "<p>5 rows × 60 columns</p>\n",
       "</div>"
      ],
      "text/plain": [
       "   SUMLEV REGION DIVISION  STATE              NAME  ESTIMATESBASE2020  \\\n",
       "0      10      0        0      0     United States          331464948   \n",
       "1      20      1        0      0  Northeast Region           57614141   \n",
       "2      30      1        1      0       New England           15119994   \n",
       "3      30      1        2      0   Middle Atlantic           42494147   \n",
       "4      20      2        0      0    Midwest Region           68987296   \n",
       "\n",
       "   POPESTIMATE2020  POPESTIMATE2021  POPESTIMATE2022  POPESTIMATE2023  ...  \\\n",
       "0        331526933        332048977        333271411        334914895  ...   \n",
       "1         57430477         57243423         57026847         56983517  ...   \n",
       "2         15057898         15106108         15120739         15159777  ...   \n",
       "3         42372579         42137315         41906108         41823740  ...   \n",
       "4         68969794         68850246         68783028         68909283  ...   \n",
       "\n",
       "   RNATURALCHG2023  RINTERNATIONALMIG2021  RINTERNATIONALMIG2022  \\\n",
       "0         1.510043               1.133278               3.003867   \n",
       "1         0.976280               1.403074               3.678035   \n",
       "2        -0.019551               1.772643               4.532659   \n",
       "3         1.336417               1.271165               3.370662   \n",
       "4         0.665803               0.802684               2.098649   \n",
       "\n",
       "   RINTERNATIONALMIG2023  RDOMESTICMIG2021  RDOMESTICMIG2022  \\\n",
       "0               3.409196          0.000000          0.000000   \n",
       "1               3.947167         -4.823207         -7.881683   \n",
       "2               5.024221          1.615767         -3.086263   \n",
       "3               3.557656         -7.121462         -9.606391   \n",
       "4               2.409866         -2.577042         -2.636615   \n",
       "\n",
       "   RDOMESTICMIG2023  RNETMIG2021  RNETMIG2022  RNETMIG2023  \n",
       "0          0.000000     1.133278     3.003867     3.409196  \n",
       "1         -5.671414    -3.420133    -4.203648    -1.724247  \n",
       "2         -2.445863     3.388409     1.446396     2.578358  \n",
       "3         -6.837920    -5.850297    -6.235729    -3.280264  \n",
       "4         -1.245226    -1.774357    -0.537966     1.164640  \n",
       "\n",
       "[5 rows x 60 columns]"
      ]
     },
     "execution_count": 19,
     "metadata": {},
     "output_type": "execute_result"
    }
   ],
   "source": [
    "pop23.head()"
   ]
  },
  {
   "cell_type": "code",
   "execution_count": 20,
   "id": "313c1227-4484-4144-a1b5-542f37f628b7",
   "metadata": {},
   "outputs": [
    {
     "name": "stdout",
     "output_type": "stream",
     "text": [
      "<class 'pandas.core.frame.DataFrame'>\n",
      "RangeIndex: 66 entries, 0 to 65\n",
      "Data columns (total 60 columns):\n",
      " #   Column                 Non-Null Count  Dtype  \n",
      "---  ------                 --------------  -----  \n",
      " 0   SUMLEV                 66 non-null     int64  \n",
      " 1   REGION                 66 non-null     object \n",
      " 2   DIVISION               66 non-null     object \n",
      " 3   STATE                  66 non-null     int64  \n",
      " 4   NAME                   66 non-null     object \n",
      " 5   ESTIMATESBASE2020      66 non-null     int64  \n",
      " 6   POPESTIMATE2020        66 non-null     int64  \n",
      " 7   POPESTIMATE2021        66 non-null     int64  \n",
      " 8   POPESTIMATE2022        66 non-null     int64  \n",
      " 9   POPESTIMATE2023        66 non-null     int64  \n",
      " 10  NPOPCHG_2020           66 non-null     int64  \n",
      " 11  NPOPCHG_2021           66 non-null     int64  \n",
      " 12  NPOPCHG_2022           66 non-null     int64  \n",
      " 13  NPOPCHG_2023           66 non-null     int64  \n",
      " 14  BIRTHS2020             66 non-null     int64  \n",
      " 15  BIRTHS2021             66 non-null     int64  \n",
      " 16  BIRTHS2022             66 non-null     int64  \n",
      " 17  BIRTHS2023             66 non-null     int64  \n",
      " 18  DEATHS2020             66 non-null     int64  \n",
      " 19  DEATHS2021             66 non-null     int64  \n",
      " 20  DEATHS2022             66 non-null     int64  \n",
      " 21  DEATHS2023             66 non-null     int64  \n",
      " 22  NATURALCHG2020         66 non-null     int64  \n",
      " 23  NATURALCHG2021         66 non-null     int64  \n",
      " 24  NATURALCHG2022         66 non-null     int64  \n",
      " 25  NATURALCHG2023         66 non-null     int64  \n",
      " 26  INTERNATIONALMIG2020   66 non-null     int64  \n",
      " 27  INTERNATIONALMIG2021   66 non-null     int64  \n",
      " 28  INTERNATIONALMIG2022   66 non-null     int64  \n",
      " 29  INTERNATIONALMIG2023   66 non-null     int64  \n",
      " 30  DOMESTICMIG2020        66 non-null     int64  \n",
      " 31  DOMESTICMIG2021        66 non-null     int64  \n",
      " 32  DOMESTICMIG2022        66 non-null     int64  \n",
      " 33  DOMESTICMIG2023        66 non-null     int64  \n",
      " 34  NETMIG2020             66 non-null     int64  \n",
      " 35  NETMIG2021             66 non-null     int64  \n",
      " 36  NETMIG2022             66 non-null     int64  \n",
      " 37  NETMIG2023             66 non-null     int64  \n",
      " 38  RESIDUAL2020           66 non-null     int64  \n",
      " 39  RESIDUAL2021           66 non-null     int64  \n",
      " 40  RESIDUAL2022           66 non-null     int64  \n",
      " 41  RESIDUAL2023           66 non-null     int64  \n",
      " 42  RBIRTH2021             66 non-null     float64\n",
      " 43  RBIRTH2022             66 non-null     float64\n",
      " 44  RBIRTH2023             66 non-null     float64\n",
      " 45  RDEATH2021             66 non-null     float64\n",
      " 46  RDEATH2022             66 non-null     float64\n",
      " 47  RDEATH2023             66 non-null     float64\n",
      " 48  RNATURALCHG2021        66 non-null     float64\n",
      " 49  RNATURALCHG2022        66 non-null     float64\n",
      " 50  RNATURALCHG2023        66 non-null     float64\n",
      " 51  RINTERNATIONALMIG2021  66 non-null     float64\n",
      " 52  RINTERNATIONALMIG2022  66 non-null     float64\n",
      " 53  RINTERNATIONALMIG2023  66 non-null     float64\n",
      " 54  RDOMESTICMIG2021       66 non-null     float64\n",
      " 55  RDOMESTICMIG2022       66 non-null     float64\n",
      " 56  RDOMESTICMIG2023       66 non-null     float64\n",
      " 57  RNETMIG2021            66 non-null     float64\n",
      " 58  RNETMIG2022            66 non-null     float64\n",
      " 59  RNETMIG2023            66 non-null     float64\n",
      "dtypes: float64(18), int64(39), object(3)\n",
      "memory usage: 31.1+ KB\n"
     ]
    }
   ],
   "source": [
    "pop23.info()"
   ]
  },
  {
   "cell_type": "code",
   "execution_count": 21,
   "id": "511e2b04-f192-4b1f-922b-335dbb1bd466",
   "metadata": {},
   "outputs": [],
   "source": [
    "pop23_1 = pop23[pop23['NAME'] == 'Michigan']"
   ]
  },
  {
   "cell_type": "code",
   "execution_count": 22,
   "id": "d789ca4d-7ea6-4832-b3a4-f2a307fd239f",
   "metadata": {},
   "outputs": [],
   "source": [
    "pop23_2 = pop23_1.loc[:, 'POPESTIMATE2020':'POPESTIMATE2022']"
   ]
  },
  {
   "cell_type": "code",
   "execution_count": 23,
   "id": "5c2223ab-c221-4acc-bd90-2eceadd19be9",
   "metadata": {},
   "outputs": [],
   "source": [
    "pop23_3 = pop23_2.copy()\n",
    "pop23_3.columns = pop23_3.columns.str.removeprefix('POPESTIMATE')"
   ]
  },
  {
   "cell_type": "code",
   "execution_count": 24,
   "id": "ba0d8679-a1e3-4952-83fe-e6692f5f2b9b",
   "metadata": {},
   "outputs": [],
   "source": [
    "pop23_4 = pop23_3.transpose().reset_index()"
   ]
  },
  {
   "cell_type": "code",
   "execution_count": 25,
   "id": "fc5b82d4-d5d9-4ff5-aa08-dfaf0c122bdc",
   "metadata": {},
   "outputs": [],
   "source": [
    "pop23_5 = pop23_4.rename(columns = {'index': 'year', 36: 'population'})"
   ]
  },
  {
   "cell_type": "code",
   "execution_count": 26,
   "id": "23bccdeb-9fcc-4e00-b07d-5559f3ada251",
   "metadata": {},
   "outputs": [
    {
     "name": "stdout",
     "output_type": "stream",
     "text": [
      "<class 'pandas.core.frame.DataFrame'>\n",
      "RangeIndex: 3 entries, 0 to 2\n",
      "Data columns (total 2 columns):\n",
      " #   Column      Non-Null Count  Dtype\n",
      "---  ------      --------------  -----\n",
      " 0   year        3 non-null      int32\n",
      " 1   population  3 non-null      int64\n",
      "dtypes: int32(1), int64(1)\n",
      "memory usage: 168.0 bytes\n"
     ]
    }
   ],
   "source": [
    "pop23_6 = pop23_5.copy()\n",
    "pop23_6['year'] = pop23_6['year'].astype('int')\n",
    "pop23_6.info()"
   ]
  },
  {
   "cell_type": "markdown",
   "id": "c5e7e986-0c30-45d7-aff1-7dd54f99280e",
   "metadata": {},
   "source": [
    "## Concatenating\n",
    "\n",
    "When concatenating these two tables, the 2023 population date range has a new occurence of the year 2020. This may be due to new methods or information being obtained post-2020 so this occurrence will be treated as the official 2020 population estimate. To join the two tables, pop23 will be concatenated on the end of pop20 as a continuation of the data."
   ]
  },
  {
   "cell_type": "code",
   "execution_count": 28,
   "id": "7cee5369-1342-478c-9034-8b9bcff22249",
   "metadata": {},
   "outputs": [
    {
     "data": {
      "text/html": [
       "<div>\n",
       "<style scoped>\n",
       "    .dataframe tbody tr th:only-of-type {\n",
       "        vertical-align: middle;\n",
       "    }\n",
       "\n",
       "    .dataframe tbody tr th {\n",
       "        vertical-align: top;\n",
       "    }\n",
       "\n",
       "    .dataframe thead th {\n",
       "        text-align: right;\n",
       "    }\n",
       "</style>\n",
       "<table border=\"1\" class=\"dataframe\">\n",
       "  <thead>\n",
       "    <tr style=\"text-align: right;\">\n",
       "      <th></th>\n",
       "      <th>year</th>\n",
       "      <th>population</th>\n",
       "    </tr>\n",
       "  </thead>\n",
       "  <tbody>\n",
       "    <tr>\n",
       "      <th>0</th>\n",
       "      <td>2013</td>\n",
       "      <td>9914802</td>\n",
       "    </tr>\n",
       "    <tr>\n",
       "      <th>1</th>\n",
       "      <td>2014</td>\n",
       "      <td>9932033</td>\n",
       "    </tr>\n",
       "    <tr>\n",
       "      <th>2</th>\n",
       "      <td>2015</td>\n",
       "      <td>9934483</td>\n",
       "    </tr>\n",
       "    <tr>\n",
       "      <th>3</th>\n",
       "      <td>2016</td>\n",
       "      <td>9954117</td>\n",
       "    </tr>\n",
       "    <tr>\n",
       "      <th>4</th>\n",
       "      <td>2017</td>\n",
       "      <td>9976752</td>\n",
       "    </tr>\n",
       "    <tr>\n",
       "      <th>5</th>\n",
       "      <td>2018</td>\n",
       "      <td>9987286</td>\n",
       "    </tr>\n",
       "    <tr>\n",
       "      <th>6</th>\n",
       "      <td>2019</td>\n",
       "      <td>9984795</td>\n",
       "    </tr>\n",
       "  </tbody>\n",
       "</table>\n",
       "</div>"
      ],
      "text/plain": [
       "   year  population\n",
       "0  2013     9914802\n",
       "1  2014     9932033\n",
       "2  2015     9934483\n",
       "3  2016     9954117\n",
       "4  2017     9976752\n",
       "5  2018     9987286\n",
       "6  2019     9984795"
      ]
     },
     "execution_count": 28,
     "metadata": {},
     "output_type": "execute_result"
    }
   ],
   "source": [
    "pop20_7 = pop20_6[pop20_5['year'] != '2020']\n",
    "pop20_7"
   ]
  },
  {
   "cell_type": "code",
   "execution_count": 29,
   "id": "2159d8f2-ccd0-4a41-9793-7f85f5ef5c38",
   "metadata": {},
   "outputs": [
    {
     "data": {
      "text/html": [
       "<div>\n",
       "<style scoped>\n",
       "    .dataframe tbody tr th:only-of-type {\n",
       "        vertical-align: middle;\n",
       "    }\n",
       "\n",
       "    .dataframe tbody tr th {\n",
       "        vertical-align: top;\n",
       "    }\n",
       "\n",
       "    .dataframe thead th {\n",
       "        text-align: right;\n",
       "    }\n",
       "</style>\n",
       "<table border=\"1\" class=\"dataframe\">\n",
       "  <thead>\n",
       "    <tr style=\"text-align: right;\">\n",
       "      <th></th>\n",
       "      <th>year</th>\n",
       "      <th>population</th>\n",
       "    </tr>\n",
       "  </thead>\n",
       "  <tbody>\n",
       "    <tr>\n",
       "      <th>0</th>\n",
       "      <td>2013</td>\n",
       "      <td>9914802</td>\n",
       "    </tr>\n",
       "    <tr>\n",
       "      <th>1</th>\n",
       "      <td>2014</td>\n",
       "      <td>9932033</td>\n",
       "    </tr>\n",
       "    <tr>\n",
       "      <th>2</th>\n",
       "      <td>2015</td>\n",
       "      <td>9934483</td>\n",
       "    </tr>\n",
       "    <tr>\n",
       "      <th>3</th>\n",
       "      <td>2016</td>\n",
       "      <td>9954117</td>\n",
       "    </tr>\n",
       "    <tr>\n",
       "      <th>4</th>\n",
       "      <td>2017</td>\n",
       "      <td>9976752</td>\n",
       "    </tr>\n",
       "    <tr>\n",
       "      <th>5</th>\n",
       "      <td>2018</td>\n",
       "      <td>9987286</td>\n",
       "    </tr>\n",
       "    <tr>\n",
       "      <th>6</th>\n",
       "      <td>2019</td>\n",
       "      <td>9984795</td>\n",
       "    </tr>\n",
       "    <tr>\n",
       "      <th>7</th>\n",
       "      <td>2020</td>\n",
       "      <td>10070627</td>\n",
       "    </tr>\n",
       "    <tr>\n",
       "      <th>8</th>\n",
       "      <td>2021</td>\n",
       "      <td>10038117</td>\n",
       "    </tr>\n",
       "    <tr>\n",
       "      <th>9</th>\n",
       "      <td>2022</td>\n",
       "      <td>10033281</td>\n",
       "    </tr>\n",
       "  </tbody>\n",
       "</table>\n",
       "</div>"
      ],
      "text/plain": [
       "   year  population\n",
       "0  2013     9914802\n",
       "1  2014     9932033\n",
       "2  2015     9934483\n",
       "3  2016     9954117\n",
       "4  2017     9976752\n",
       "5  2018     9987286\n",
       "6  2019     9984795\n",
       "7  2020    10070627\n",
       "8  2021    10038117\n",
       "9  2022    10033281"
      ]
     },
     "execution_count": 29,
     "metadata": {},
     "output_type": "execute_result"
    }
   ],
   "source": [
    "popdf = pd.concat([pop20_7, pop23_6], axis = 0, ignore_index = True)\n",
    "popdf"
   ]
  },
  {
   "cell_type": "code",
   "execution_count": 30,
   "id": "ac770661-5e77-4e46-8eeb-eaa3321a02b7",
   "metadata": {},
   "outputs": [
    {
     "name": "stdout",
     "output_type": "stream",
     "text": [
      "<class 'pandas.core.frame.DataFrame'>\n",
      "RangeIndex: 10 entries, 0 to 9\n",
      "Data columns (total 2 columns):\n",
      " #   Column      Non-Null Count  Dtype\n",
      "---  ------      --------------  -----\n",
      " 0   year        10 non-null     int32\n",
      " 1   population  10 non-null     int64\n",
      "dtypes: int32(1), int64(1)\n",
      "memory usage: 252.0 bytes\n"
     ]
    }
   ],
   "source": [
    "popdf.info()"
   ]
  },
  {
   "cell_type": "markdown",
   "id": "3aa30bf2-b601-4ccb-8a09-58d67f4ae849",
   "metadata": {},
   "source": [
    "## Water Use Data\n",
    "\n",
    "The data provided by he Department of Environment, Great Lakes, and Energy comprehensively details the water use for industries, counties, and from various water sources. For this project, policy and controls for high-risk industries is the primary concern; so counties will be removed from the study as residential uses fall outside the scope of this project. Additionally, the original index from when Martusiuk merged the datasets has no bearing as a feature; so it will be removed."
   ]
  },
  {
   "cell_type": "code",
   "execution_count": 32,
   "id": "a09f2ec4-1ac9-447e-a692-60a9843c1b7a",
   "metadata": {},
   "outputs": [
    {
     "data": {
      "text/html": [
       "<div>\n",
       "<style scoped>\n",
       "    .dataframe tbody tr th:only-of-type {\n",
       "        vertical-align: middle;\n",
       "    }\n",
       "\n",
       "    .dataframe tbody tr th {\n",
       "        vertical-align: top;\n",
       "    }\n",
       "\n",
       "    .dataframe thead th {\n",
       "        text-align: right;\n",
       "    }\n",
       "</style>\n",
       "<table border=\"1\" class=\"dataframe\">\n",
       "  <thead>\n",
       "    <tr style=\"text-align: right;\">\n",
       "      <th></th>\n",
       "      <th>Unnamed: 0</th>\n",
       "      <th>county</th>\n",
       "      <th>gallons_from_great_lakes</th>\n",
       "      <th>gallons_from_groundwater</th>\n",
       "      <th>gallons_from_inland_surface</th>\n",
       "      <th>total_gallons_all_sources</th>\n",
       "      <th>industry</th>\n",
       "      <th>year</th>\n",
       "    </tr>\n",
       "  </thead>\n",
       "  <tbody>\n",
       "    <tr>\n",
       "      <th>0</th>\n",
       "      <td>0</td>\n",
       "      <td>Alcona</td>\n",
       "      <td>0</td>\n",
       "      <td>2666085962</td>\n",
       "      <td>4695086047</td>\n",
       "      <td>7361172009</td>\n",
       "      <td>Total All Sectors</td>\n",
       "      <td>2014</td>\n",
       "    </tr>\n",
       "    <tr>\n",
       "      <th>1</th>\n",
       "      <td>1</td>\n",
       "      <td>Alger</td>\n",
       "      <td>1512160000</td>\n",
       "      <td>1608226431</td>\n",
       "      <td>799089999</td>\n",
       "      <td>3919476431</td>\n",
       "      <td>Total All Sectors</td>\n",
       "      <td>2014</td>\n",
       "    </tr>\n",
       "    <tr>\n",
       "      <th>2</th>\n",
       "      <td>2</td>\n",
       "      <td>Allegan</td>\n",
       "      <td>0</td>\n",
       "      <td>5552539983</td>\n",
       "      <td>3784550040</td>\n",
       "      <td>9337090023</td>\n",
       "      <td>Total All Sectors</td>\n",
       "      <td>2014</td>\n",
       "    </tr>\n",
       "    <tr>\n",
       "      <th>3</th>\n",
       "      <td>3</td>\n",
       "      <td>Alpena</td>\n",
       "      <td>40839120000</td>\n",
       "      <td>10948600250</td>\n",
       "      <td>2532270000</td>\n",
       "      <td>54319990250</td>\n",
       "      <td>Total All Sectors</td>\n",
       "      <td>2014</td>\n",
       "    </tr>\n",
       "    <tr>\n",
       "      <th>4</th>\n",
       "      <td>4</td>\n",
       "      <td>Antrim</td>\n",
       "      <td>0</td>\n",
       "      <td>12214548686</td>\n",
       "      <td>54526097</td>\n",
       "      <td>12269074783</td>\n",
       "      <td>Total All Sectors</td>\n",
       "      <td>2014</td>\n",
       "    </tr>\n",
       "  </tbody>\n",
       "</table>\n",
       "</div>"
      ],
      "text/plain": [
       "   Unnamed: 0   county  gallons_from_great_lakes  gallons_from_groundwater  \\\n",
       "0           0   Alcona                         0                2666085962   \n",
       "1           1    Alger                1512160000                1608226431   \n",
       "2           2  Allegan                         0                5552539983   \n",
       "3           3   Alpena               40839120000               10948600250   \n",
       "4           4   Antrim                         0               12214548686   \n",
       "\n",
       "   gallons_from_inland_surface  total_gallons_all_sources           industry  \\\n",
       "0                   4695086047                 7361172009  Total All Sectors   \n",
       "1                    799089999                 3919476431  Total All Sectors   \n",
       "2                   3784550040                 9337090023  Total All Sectors   \n",
       "3                   2532270000                54319990250  Total All Sectors   \n",
       "4                     54526097                12269074783  Total All Sectors   \n",
       "\n",
       "   year  \n",
       "0  2014  \n",
       "1  2014  \n",
       "2  2014  \n",
       "3  2014  \n",
       "4  2014  "
      ]
     },
     "execution_count": 32,
     "metadata": {},
     "output_type": "execute_result"
    }
   ],
   "source": [
    "df1.head()"
   ]
  },
  {
   "cell_type": "code",
   "execution_count": 33,
   "id": "2c1f65f3-3efc-47ff-bba6-fd884ee08d23",
   "metadata": {},
   "outputs": [
    {
     "name": "stdout",
     "output_type": "stream",
     "text": [
      "<class 'pandas.core.frame.DataFrame'>\n",
      "RangeIndex: 6630 entries, 0 to 6629\n",
      "Data columns (total 8 columns):\n",
      " #   Column                       Non-Null Count  Dtype \n",
      "---  ------                       --------------  ----- \n",
      " 0   Unnamed: 0                   6630 non-null   int64 \n",
      " 1   county                       6630 non-null   object\n",
      " 2   gallons_from_great_lakes     6630 non-null   int64 \n",
      " 3   gallons_from_groundwater     6630 non-null   int64 \n",
      " 4   gallons_from_inland_surface  6630 non-null   int64 \n",
      " 5   total_gallons_all_sources    6630 non-null   int64 \n",
      " 6   industry                     6630 non-null   object\n",
      " 7   year                         6630 non-null   int64 \n",
      "dtypes: int64(6), object(2)\n",
      "memory usage: 414.5+ KB\n"
     ]
    }
   ],
   "source": [
    "df1.info()"
   ]
  },
  {
   "cell_type": "markdown",
   "id": "140570b7-81d2-4e13-9c39-392b7f791b3a",
   "metadata": {},
   "source": [
    "### Dropping Features\n",
    "\n",
    "In addition to dropping the unnecessary columns, water source columns will be abbreviated to remove gallon indicators since all of these units are synonymous. Renaming the features will enable cleaner referencing for future manipulation."
   ]
  },
  {
   "cell_type": "code",
   "execution_count": 35,
   "id": "c4f90b38-4bbe-4084-aef1-00cbe53352f7",
   "metadata": {},
   "outputs": [],
   "source": [
    "df2 = df1.drop(columns = ['Unnamed: 0', 'county']).rename(columns = {\n",
    "    'gallons_from_great_lakes': 'great_lakes',\n",
    "    'gallons_from_groundwater': 'groundwater',\n",
    "    'gallons_from_inland_surface': 'inland',\n",
    "    'total_gallons_all_sources': 'total'\n",
    "})"
   ]
  },
  {
   "cell_type": "markdown",
   "id": "934d2778-a36e-4a38-98ed-b083e1cb9021",
   "metadata": {},
   "source": [
    "### Rearranging\n",
    "\n",
    "Year is the main explanatory variable to understand how water use per industry changes over time. Additionally, all other features are divided by industry. After aggregation, population data will be arranged between year and industry features because population is a response variable to the year but not to the industry. Industry being the driving explanatory variable for the water sources will be grouped to the left of the water source features. This rearrangement of features would then put total at the end of the DataFrame because it is the response variable to the different sources."
   ]
  },
  {
   "cell_type": "code",
   "execution_count": 37,
   "id": "14d8d31d-6a73-46ed-b3c5-8f7283c02dd8",
   "metadata": {},
   "outputs": [],
   "source": [
    "df2_cols = ['year', 'industry', 'inland', 'great_lakes', 'groundwater', 'total']\n",
    "df3 = df2[df2_cols]"
   ]
  },
  {
   "cell_type": "code",
   "execution_count": 38,
   "id": "7ad90888-61a2-461d-974b-175a3f3df19b",
   "metadata": {},
   "outputs": [
    {
     "data": {
      "text/plain": [
       "(6630, 6)"
      ]
     },
     "execution_count": 38,
     "metadata": {},
     "output_type": "execute_result"
    }
   ],
   "source": [
    "df3.shape"
   ]
  },
  {
   "cell_type": "code",
   "execution_count": 39,
   "id": "a4f56384-5f1c-41f7-a62c-46685ff8c89d",
   "metadata": {},
   "outputs": [
    {
     "data": {
      "text/plain": [
       "year\n",
       "2014    664\n",
       "2018    664\n",
       "2021    664\n",
       "2022    664\n",
       "2016    664\n",
       "2013    664\n",
       "2019    664\n",
       "2017    664\n",
       "2020    664\n",
       "2015    654\n",
       "Name: count, dtype: int64"
      ]
     },
     "execution_count": 39,
     "metadata": {},
     "output_type": "execute_result"
    }
   ],
   "source": [
    "df3['year'].value_counts()"
   ]
  },
  {
   "cell_type": "markdown",
   "id": "27aaa359-8f62-455e-adb4-c09d8bf7c47b",
   "metadata": {},
   "source": [
    "The industry feature has 8 values in total describing the various industry sectors that Michigan has divided its water use by. The value 'Total All Sectors', is a summation of all other industry values. During EDA and modeling, this value will be analyzed separately to prevent artificially weighing those features."
   ]
  },
  {
   "cell_type": "code",
   "execution_count": 41,
   "id": "db7f6fe9-3b3e-4c4c-806a-c853b8c56790",
   "metadata": {},
   "outputs": [
    {
     "data": {
      "text/plain": [
       "industry\n",
       "Total All Sectors            830\n",
       "Commercial-Institutional     830\n",
       "Electric Power Generation    830\n",
       "Irrigation                   830\n",
       "Livestock                    830\n",
       "Other                        830\n",
       "Public Water Supply          830\n",
       "Industrial-Manufacturing     820\n",
       "Name: count, dtype: int64"
      ]
     },
     "execution_count": 41,
     "metadata": {},
     "output_type": "execute_result"
    }
   ],
   "source": [
    "df3['industry'].value_counts()"
   ]
  },
  {
   "cell_type": "markdown",
   "id": "a28784e2-3c2d-4ac8-94a6-1e1f27b34328",
   "metadata": {},
   "source": [
    "### Aggregation\n",
    "\n",
    "Because counties have been removed from analysis, the DataFrame will now need to be aggregated to remove multiple counts of the explanatory features: year and industry. All aggregated features will be sum totalled. Even though this is a reduction in the number of observations, the weights of the individual observations will now be true to the year's estimations."
   ]
  },
  {
   "cell_type": "code",
   "execution_count": 43,
   "id": "df4f697f-7eed-47d1-857a-6f4e817f7890",
   "metadata": {},
   "outputs": [
    {
     "data": {
      "text/html": [
       "<div>\n",
       "<style scoped>\n",
       "    .dataframe tbody tr th:only-of-type {\n",
       "        vertical-align: middle;\n",
       "    }\n",
       "\n",
       "    .dataframe tbody tr th {\n",
       "        vertical-align: top;\n",
       "    }\n",
       "\n",
       "    .dataframe thead th {\n",
       "        text-align: right;\n",
       "    }\n",
       "</style>\n",
       "<table border=\"1\" class=\"dataframe\">\n",
       "  <thead>\n",
       "    <tr style=\"text-align: right;\">\n",
       "      <th></th>\n",
       "      <th>year</th>\n",
       "      <th>industry</th>\n",
       "      <th>inland</th>\n",
       "      <th>great_lakes</th>\n",
       "      <th>groundwater</th>\n",
       "      <th>total</th>\n",
       "    </tr>\n",
       "  </thead>\n",
       "  <tbody>\n",
       "    <tr>\n",
       "      <th>0</th>\n",
       "      <td>2013</td>\n",
       "      <td>Commercial-Institutional</td>\n",
       "      <td>126374387</td>\n",
       "      <td>1266400</td>\n",
       "      <td>2794492157</td>\n",
       "      <td>2922132944</td>\n",
       "    </tr>\n",
       "    <tr>\n",
       "      <th>1</th>\n",
       "      <td>2013</td>\n",
       "      <td>Electric Power Generation</td>\n",
       "      <td>391466708822</td>\n",
       "      <td>2531554552320</td>\n",
       "      <td>1085990916</td>\n",
       "      <td>2924107252058</td>\n",
       "    </tr>\n",
       "    <tr>\n",
       "      <th>2</th>\n",
       "      <td>2013</td>\n",
       "      <td>Industrial-Manufacturing</td>\n",
       "      <td>118823433041</td>\n",
       "      <td>111853330944</td>\n",
       "      <td>39327552184</td>\n",
       "      <td>270004316169</td>\n",
       "    </tr>\n",
       "    <tr>\n",
       "      <th>3</th>\n",
       "      <td>2013</td>\n",
       "      <td>Irrigation</td>\n",
       "      <td>42803613219</td>\n",
       "      <td>207733128</td>\n",
       "      <td>121431654825</td>\n",
       "      <td>164443001172</td>\n",
       "    </tr>\n",
       "    <tr>\n",
       "      <th>4</th>\n",
       "      <td>2013</td>\n",
       "      <td>Livestock</td>\n",
       "      <td>8345185168</td>\n",
       "      <td>0</td>\n",
       "      <td>9882541420</td>\n",
       "      <td>18227726588</td>\n",
       "    </tr>\n",
       "  </tbody>\n",
       "</table>\n",
       "</div>"
      ],
      "text/plain": [
       "   year                   industry        inland    great_lakes   groundwater  \\\n",
       "0  2013   Commercial-Institutional     126374387        1266400    2794492157   \n",
       "1  2013  Electric Power Generation  391466708822  2531554552320    1085990916   \n",
       "2  2013   Industrial-Manufacturing  118823433041   111853330944   39327552184   \n",
       "3  2013                 Irrigation   42803613219      207733128  121431654825   \n",
       "4  2013                  Livestock    8345185168              0    9882541420   \n",
       "\n",
       "           total  \n",
       "0     2922132944  \n",
       "1  2924107252058  \n",
       "2   270004316169  \n",
       "3   164443001172  \n",
       "4    18227726588  "
      ]
     },
     "execution_count": 43,
     "metadata": {},
     "output_type": "execute_result"
    }
   ],
   "source": [
    "df4 = df3.groupby(by = ['year', 'industry']).agg('sum').reset_index()\n",
    "df4.head()"
   ]
  },
  {
   "cell_type": "code",
   "execution_count": 44,
   "id": "54d50cb1-dc0c-4c23-a159-f319e7911c2d",
   "metadata": {},
   "outputs": [
    {
     "data": {
      "text/plain": [
       "(80, 6)"
      ]
     },
     "execution_count": 44,
     "metadata": {},
     "output_type": "execute_result"
    }
   ],
   "source": [
    "df4.shape"
   ]
  },
  {
   "cell_type": "markdown",
   "id": "0c70d00e-cc4c-4c0b-8a5f-52ae6680a903",
   "metadata": {},
   "source": [
    "## Joining Population to Water Use\n",
    "\n",
    "Now that the data has been aggregated and cleaned, the two DataFrames are now ready to be merged. Population will be merged to the water use data as a one-to-many relationship. Population data, like 'year', will be replicated throughout the DataFrame. The repetition of this data will not impact modeling since EDA will account for the relationships between the features."
   ]
  },
  {
   "cell_type": "code",
   "execution_count": 46,
   "id": "dd9d5f9f-b4ad-4865-88cf-27968fc03331",
   "metadata": {},
   "outputs": [
    {
     "data": {
      "text/html": [
       "<div>\n",
       "<style scoped>\n",
       "    .dataframe tbody tr th:only-of-type {\n",
       "        vertical-align: middle;\n",
       "    }\n",
       "\n",
       "    .dataframe tbody tr th {\n",
       "        vertical-align: top;\n",
       "    }\n",
       "\n",
       "    .dataframe thead th {\n",
       "        text-align: right;\n",
       "    }\n",
       "</style>\n",
       "<table border=\"1\" class=\"dataframe\">\n",
       "  <thead>\n",
       "    <tr style=\"text-align: right;\">\n",
       "      <th></th>\n",
       "      <th>year</th>\n",
       "      <th>industry</th>\n",
       "      <th>inland</th>\n",
       "      <th>great_lakes</th>\n",
       "      <th>groundwater</th>\n",
       "      <th>total</th>\n",
       "      <th>population</th>\n",
       "    </tr>\n",
       "  </thead>\n",
       "  <tbody>\n",
       "    <tr>\n",
       "      <th>0</th>\n",
       "      <td>2013</td>\n",
       "      <td>Commercial-Institutional</td>\n",
       "      <td>126374387</td>\n",
       "      <td>1266400</td>\n",
       "      <td>2794492157</td>\n",
       "      <td>2922132944</td>\n",
       "      <td>9914802</td>\n",
       "    </tr>\n",
       "    <tr>\n",
       "      <th>1</th>\n",
       "      <td>2013</td>\n",
       "      <td>Electric Power Generation</td>\n",
       "      <td>391466708822</td>\n",
       "      <td>2531554552320</td>\n",
       "      <td>1085990916</td>\n",
       "      <td>2924107252058</td>\n",
       "      <td>9914802</td>\n",
       "    </tr>\n",
       "    <tr>\n",
       "      <th>2</th>\n",
       "      <td>2013</td>\n",
       "      <td>Industrial-Manufacturing</td>\n",
       "      <td>118823433041</td>\n",
       "      <td>111853330944</td>\n",
       "      <td>39327552184</td>\n",
       "      <td>270004316169</td>\n",
       "      <td>9914802</td>\n",
       "    </tr>\n",
       "    <tr>\n",
       "      <th>3</th>\n",
       "      <td>2013</td>\n",
       "      <td>Irrigation</td>\n",
       "      <td>42803613219</td>\n",
       "      <td>207733128</td>\n",
       "      <td>121431654825</td>\n",
       "      <td>164443001172</td>\n",
       "      <td>9914802</td>\n",
       "    </tr>\n",
       "    <tr>\n",
       "      <th>4</th>\n",
       "      <td>2013</td>\n",
       "      <td>Livestock</td>\n",
       "      <td>8345185168</td>\n",
       "      <td>0</td>\n",
       "      <td>9882541420</td>\n",
       "      <td>18227726588</td>\n",
       "      <td>9914802</td>\n",
       "    </tr>\n",
       "  </tbody>\n",
       "</table>\n",
       "</div>"
      ],
      "text/plain": [
       "   year                   industry        inland    great_lakes   groundwater  \\\n",
       "0  2013   Commercial-Institutional     126374387        1266400    2794492157   \n",
       "1  2013  Electric Power Generation  391466708822  2531554552320    1085990916   \n",
       "2  2013   Industrial-Manufacturing  118823433041   111853330944   39327552184   \n",
       "3  2013                 Irrigation   42803613219      207733128  121431654825   \n",
       "4  2013                  Livestock    8345185168              0    9882541420   \n",
       "\n",
       "           total  population  \n",
       "0     2922132944     9914802  \n",
       "1  2924107252058     9914802  \n",
       "2   270004316169     9914802  \n",
       "3   164443001172     9914802  \n",
       "4    18227726588     9914802  "
      ]
     },
     "execution_count": 46,
     "metadata": {},
     "output_type": "execute_result"
    }
   ],
   "source": [
    "df5 = df4.merge(popdf, how = 'left', on = 'year')\n",
    "df5.head()"
   ]
  },
  {
   "cell_type": "markdown",
   "id": "49008e8b-7d62-4682-bf0d-e2d8f94c00e0",
   "metadata": {},
   "source": [
    "### Rearrangement\n",
    "\n",
    "As mentioned previously, population will be moved between 'year' and 'industry' because it is assumed to only be a function of time; not industry. Additionally, for organizational purposes, the data will be sorted by year, then by industry."
   ]
  },
  {
   "cell_type": "code",
   "execution_count": 48,
   "id": "7062bf93-20e1-455b-b754-2e40e9c6bf39",
   "metadata": {},
   "outputs": [],
   "source": [
    "df6_col = ['year', 'population', 'industry', 'great_lakes', 'groundwater', 'inland', 'total']"
   ]
  },
  {
   "cell_type": "code",
   "execution_count": 49,
   "id": "a97f6cdf-fed6-4cb1-8d59-52296f99fb1c",
   "metadata": {},
   "outputs": [],
   "source": [
    "df6 = df5[df6_col].sort_values(['year', 'industry'])"
   ]
  },
  {
   "cell_type": "code",
   "execution_count": 50,
   "id": "f2fc93bb-9d0f-4131-9797-5c1032d3dafc",
   "metadata": {},
   "outputs": [
    {
     "data": {
      "text/html": [
       "<div>\n",
       "<style scoped>\n",
       "    .dataframe tbody tr th:only-of-type {\n",
       "        vertical-align: middle;\n",
       "    }\n",
       "\n",
       "    .dataframe tbody tr th {\n",
       "        vertical-align: top;\n",
       "    }\n",
       "\n",
       "    .dataframe thead th {\n",
       "        text-align: right;\n",
       "    }\n",
       "</style>\n",
       "<table border=\"1\" class=\"dataframe\">\n",
       "  <thead>\n",
       "    <tr style=\"text-align: right;\">\n",
       "      <th></th>\n",
       "      <th>year</th>\n",
       "      <th>population</th>\n",
       "      <th>industry</th>\n",
       "      <th>great_lakes</th>\n",
       "      <th>groundwater</th>\n",
       "      <th>inland</th>\n",
       "      <th>total</th>\n",
       "    </tr>\n",
       "  </thead>\n",
       "  <tbody>\n",
       "    <tr>\n",
       "      <th>0</th>\n",
       "      <td>2013</td>\n",
       "      <td>9914802</td>\n",
       "      <td>Commercial-Institutional</td>\n",
       "      <td>1266400</td>\n",
       "      <td>2794492157</td>\n",
       "      <td>126374387</td>\n",
       "      <td>2922132944</td>\n",
       "    </tr>\n",
       "    <tr>\n",
       "      <th>1</th>\n",
       "      <td>2013</td>\n",
       "      <td>9914802</td>\n",
       "      <td>Electric Power Generation</td>\n",
       "      <td>2531554552320</td>\n",
       "      <td>1085990916</td>\n",
       "      <td>391466708822</td>\n",
       "      <td>2924107252058</td>\n",
       "    </tr>\n",
       "    <tr>\n",
       "      <th>2</th>\n",
       "      <td>2013</td>\n",
       "      <td>9914802</td>\n",
       "      <td>Industrial-Manufacturing</td>\n",
       "      <td>111853330944</td>\n",
       "      <td>39327552184</td>\n",
       "      <td>118823433041</td>\n",
       "      <td>270004316169</td>\n",
       "    </tr>\n",
       "    <tr>\n",
       "      <th>3</th>\n",
       "      <td>2013</td>\n",
       "      <td>9914802</td>\n",
       "      <td>Irrigation</td>\n",
       "      <td>207733128</td>\n",
       "      <td>121431654825</td>\n",
       "      <td>42803613219</td>\n",
       "      <td>164443001172</td>\n",
       "    </tr>\n",
       "    <tr>\n",
       "      <th>4</th>\n",
       "      <td>2013</td>\n",
       "      <td>9914802</td>\n",
       "      <td>Livestock</td>\n",
       "      <td>0</td>\n",
       "      <td>9882541420</td>\n",
       "      <td>8345185168</td>\n",
       "      <td>18227726588</td>\n",
       "    </tr>\n",
       "    <tr>\n",
       "      <th>5</th>\n",
       "      <td>2013</td>\n",
       "      <td>9914802</td>\n",
       "      <td>Other</td>\n",
       "      <td>164337600</td>\n",
       "      <td>2048536695</td>\n",
       "      <td>775839170</td>\n",
       "      <td>2988713465</td>\n",
       "    </tr>\n",
       "    <tr>\n",
       "      <th>6</th>\n",
       "      <td>2013</td>\n",
       "      <td>9914802</td>\n",
       "      <td>Public Water Supply</td>\n",
       "      <td>274498809256</td>\n",
       "      <td>81445974953</td>\n",
       "      <td>5649455350</td>\n",
       "      <td>361594239565</td>\n",
       "    </tr>\n",
       "    <tr>\n",
       "      <th>7</th>\n",
       "      <td>2013</td>\n",
       "      <td>9914802</td>\n",
       "      <td>Total All Sectors</td>\n",
       "      <td>2918280029648</td>\n",
       "      <td>258016743163</td>\n",
       "      <td>567990609157</td>\n",
       "      <td>3744287381973</td>\n",
       "    </tr>\n",
       "    <tr>\n",
       "      <th>8</th>\n",
       "      <td>2014</td>\n",
       "      <td>9932033</td>\n",
       "      <td>Commercial-Institutional</td>\n",
       "      <td>1328700</td>\n",
       "      <td>2646046489</td>\n",
       "      <td>975901711</td>\n",
       "      <td>3623276900</td>\n",
       "    </tr>\n",
       "    <tr>\n",
       "      <th>9</th>\n",
       "      <td>2014</td>\n",
       "      <td>9932033</td>\n",
       "      <td>Electric Power Generation</td>\n",
       "      <td>2506268739829</td>\n",
       "      <td>1586444335</td>\n",
       "      <td>379306798040</td>\n",
       "      <td>2887161982204</td>\n",
       "    </tr>\n",
       "  </tbody>\n",
       "</table>\n",
       "</div>"
      ],
      "text/plain": [
       "   year  population                   industry    great_lakes   groundwater  \\\n",
       "0  2013     9914802   Commercial-Institutional        1266400    2794492157   \n",
       "1  2013     9914802  Electric Power Generation  2531554552320    1085990916   \n",
       "2  2013     9914802   Industrial-Manufacturing   111853330944   39327552184   \n",
       "3  2013     9914802                 Irrigation      207733128  121431654825   \n",
       "4  2013     9914802                  Livestock              0    9882541420   \n",
       "5  2013     9914802                      Other      164337600    2048536695   \n",
       "6  2013     9914802        Public Water Supply   274498809256   81445974953   \n",
       "7  2013     9914802          Total All Sectors  2918280029648  258016743163   \n",
       "8  2014     9932033   Commercial-Institutional        1328700    2646046489   \n",
       "9  2014     9932033  Electric Power Generation  2506268739829    1586444335   \n",
       "\n",
       "         inland          total  \n",
       "0     126374387     2922132944  \n",
       "1  391466708822  2924107252058  \n",
       "2  118823433041   270004316169  \n",
       "3   42803613219   164443001172  \n",
       "4    8345185168    18227726588  \n",
       "5     775839170     2988713465  \n",
       "6    5649455350   361594239565  \n",
       "7  567990609157  3744287381973  \n",
       "8     975901711     3623276900  \n",
       "9  379306798040  2887161982204  "
      ]
     },
     "execution_count": 50,
     "metadata": {},
     "output_type": "execute_result"
    }
   ],
   "source": [
    "df6.head(10)"
   ]
  },
  {
   "cell_type": "code",
   "execution_count": 51,
   "id": "5aed4af0-5e36-4cf1-9534-baffc54c7d8e",
   "metadata": {},
   "outputs": [
    {
     "data": {
      "text/plain": [
       "(80, 7)"
      ]
     },
     "execution_count": 51,
     "metadata": {},
     "output_type": "execute_result"
    }
   ],
   "source": [
    "df6.shape"
   ]
  },
  {
   "cell_type": "markdown",
   "id": "ba1e3069-478b-4dc1-b0ac-7341acd9d5af",
   "metadata": {},
   "source": [
    "### Null Values\n",
    "\n",
    "These data sets did not come with any null values initially; however, null values will be checked in the event of a corrrupted file."
   ]
  },
  {
   "cell_type": "code",
   "execution_count": 53,
   "id": "2f00136f-c10c-4264-af2d-64b846b53448",
   "metadata": {},
   "outputs": [
    {
     "data": {
      "text/plain": [
       "year           0\n",
       "population     0\n",
       "industry       0\n",
       "great_lakes    0\n",
       "groundwater    0\n",
       "inland         0\n",
       "total          0\n",
       "dtype: int64"
      ]
     },
     "execution_count": 53,
     "metadata": {},
     "output_type": "execute_result"
    }
   ],
   "source": [
    "df6.isna().sum()"
   ]
  },
  {
   "cell_type": "markdown",
   "id": "28c792b2-61a1-44be-b381-c8b7ea026c63",
   "metadata": {},
   "source": [
    "### Year Data Type\n",
    "\n",
    "For EDA time series analysis, the years will be adjusted from integer to a datetime object and set as the index. Since there are seven rows eight rows for each year, time indexing for ARIMA time series analysis will be done later. All datetime objects and year indexing will be reverted back to integers as part of the preprocessing."
   ]
  },
  {
   "cell_type": "code",
   "execution_count": 55,
   "id": "1b805404-daab-4451-92d9-e0b61471b07b",
   "metadata": {},
   "outputs": [
    {
     "name": "stdout",
     "output_type": "stream",
     "text": [
      "<class 'pandas.core.frame.DataFrame'>\n",
      "RangeIndex: 80 entries, 0 to 79\n",
      "Data columns (total 7 columns):\n",
      " #   Column       Non-Null Count  Dtype \n",
      "---  ------       --------------  ----- \n",
      " 0   year         80 non-null     int64 \n",
      " 1   population   80 non-null     int64 \n",
      " 2   industry     80 non-null     object\n",
      " 3   great_lakes  80 non-null     int64 \n",
      " 4   groundwater  80 non-null     int64 \n",
      " 5   inland       80 non-null     int64 \n",
      " 6   total        80 non-null     int64 \n",
      "dtypes: int64(6), object(1)\n",
      "memory usage: 4.5+ KB\n"
     ]
    }
   ],
   "source": [
    "df6.info()"
   ]
  },
  {
   "cell_type": "code",
   "execution_count": 56,
   "id": "59e0aeb0-1914-46ad-8f7d-bf88fdbb7318",
   "metadata": {},
   "outputs": [],
   "source": [
    "df = df6.copy()\n",
    "df['year'] = pd.to_datetime(df['year'], format = '%Y')"
   ]
  },
  {
   "cell_type": "code",
   "execution_count": 57,
   "id": "bafbf242-4b87-4071-be98-7cd26540b3dd",
   "metadata": {},
   "outputs": [
    {
     "name": "stdout",
     "output_type": "stream",
     "text": [
      "<class 'pandas.core.frame.DataFrame'>\n",
      "RangeIndex: 80 entries, 0 to 79\n",
      "Data columns (total 7 columns):\n",
      " #   Column       Non-Null Count  Dtype         \n",
      "---  ------       --------------  -----         \n",
      " 0   year         80 non-null     datetime64[ns]\n",
      " 1   population   80 non-null     int64         \n",
      " 2   industry     80 non-null     object        \n",
      " 3   great_lakes  80 non-null     int64         \n",
      " 4   groundwater  80 non-null     int64         \n",
      " 5   inland       80 non-null     int64         \n",
      " 6   total        80 non-null     int64         \n",
      "dtypes: datetime64[ns](1), int64(5), object(1)\n",
      "memory usage: 4.5+ KB\n"
     ]
    }
   ],
   "source": [
    "df.info()"
   ]
  },
  {
   "cell_type": "markdown",
   "id": "00e74a6e-c24e-4c33-85df-426aca030fc1",
   "metadata": {},
   "source": [
    "# Exploratory Data Analysis\n",
    "\n",
    "The goal of this project is to forecast Michigan's water use; using industries as a potential explanatory feature. To better understand this, water use data for each industry will be plotted over the years to understand how it changes over time. Additionally, correlations between industries must be drawn to see if there are any underlying relationships between changes over time. Lastly, each industry will be analyzed using the autocorrelation function to show any relationships from the data within itself over time.\n",
    "\n",
    "* How does water use change over time?\n",
    "* How do the different industries relate to one another?\n",
    "* Do the industries have annual change patterns?\n",
    "\n",
    "For simplicity in syntax, sets will be extracted from the data for easy referencing in the plots."
   ]
  },
  {
   "cell_type": "code",
   "execution_count": 60,
   "id": "00e069d8-c437-4c74-a07e-c3d180f20dd5",
   "metadata": {},
   "outputs": [],
   "source": [
    "year = df['year'].values\n",
    "pop = popdf['population'].values\n",
    "\n",
    "# Commercial-Institutional\n",
    "ci_great = df[df['industry'] == 'Commercial-Institutional']['great_lakes'].values\n",
    "ci_ground = df[df['industry'] == 'Commercial-Institutional']['groundwater'].values\n",
    "ci_inland = df[df['industry'] == 'Commercial-Institutional']['inland'].values\n",
    "ci_total = df[df['industry'] == 'Commercial-Institutional']['total'].values\n",
    "\n",
    "# Electric Power Generation\n",
    "epg_great = df[df['industry'] == 'Electric Power Generation']['great_lakes'].values\n",
    "epg_ground = df[df['industry'] == 'Electric Power Generation']['groundwater'].values\n",
    "epg_inland = df[df['industry'] == 'Electric Power Generation']['inland'].values\n",
    "epg_total = df[df['industry'] == 'Electric Power Generation']['total'].values\n",
    "\n",
    "# Industrial-Manufacturing\n",
    "im_great = df[df['industry'] == 'Industrial-Manufacturing']['great_lakes'].values\n",
    "im_ground = df[df['industry'] == 'Industrial-Manufacturing']['groundwater'].values\n",
    "im_inland = df[df['industry'] == 'Industrial-Manufacturing']['inland'].values\n",
    "im_total = df[df['industry'] == 'Industrial-Manufacturing']['total'].values\n",
    "\n",
    "# Irrigation\n",
    "i_great = df[df['industry'] == 'Irrigation']['great_lakes'].values\n",
    "i_ground = df[df['industry'] == 'Irrigation']['groundwater'].values\n",
    "i_inland = df[df['industry'] == 'Irrigation']['inland'].values\n",
    "i_total = df[df['industry'] == 'Irrigation']['total'].values\n",
    "\n",
    "# Livestock\n",
    "l_great = df[df['industry'] == 'Livestock']['great_lakes'].values\n",
    "l_ground = df[df['industry'] == 'Livestock']['groundwater'].values\n",
    "l_inland = df[df['industry'] == 'Livestock']['inland'].values\n",
    "l_total = df[df['industry'] == 'Livestock']['total'].values\n",
    "\n",
    "# Other\n",
    "o_great = df[df['industry'] == 'Other']['great_lakes'].values\n",
    "o_ground = df[df['industry'] == 'Other']['groundwater'].values\n",
    "o_inland = df[df['industry'] == 'Other']['inland'].values\n",
    "o_total = df[df['industry'] == 'Other']['total'].values\n",
    "\n",
    "# Public Water Supply\n",
    "pws_great = df[df['industry'] == 'Public Water Supply']['great_lakes'].values\n",
    "pws_ground = df[df['industry'] == 'Public Water Supply']['groundwater'].values\n",
    "pws_inland = df[df['industry'] == 'Public Water Supply']['inland'].values\n",
    "pws_total = df[df['industry'] == 'Public Water Supply']['total'].values\n",
    "\n",
    "# Total All Sectors\n",
    "t_great = df[df['industry'] == 'Total All Sectors']['great_lakes'].values\n",
    "t_ground = df[df['industry'] == 'Total All Sectors']['groundwater'].values\n",
    "t_inland = df[df['industry'] == 'Total All Sectors']['inland'].values\n",
    "t_total = df[df['industry'] == 'Total All Sectors']['total'].values"
   ]
  },
  {
   "cell_type": "markdown",
   "id": "bac3353a-89be-4725-a19e-9c60bd78aeb7",
   "metadata": {},
   "source": [
    "## How does water use change over time?\n",
    "\n",
    "To answer this question, industry water use data for each of the water sources (Great Lakes, Groundwater, Inland, and Total) will be plotted over years to show the industry trends. Initial regression will be analyzed to see whether or not linear relationships exist by industry. "
   ]
  },
  {
   "cell_type": "code",
   "execution_count": 118,
   "id": "b9b4b1c9-ed85-4c1c-8d07-c28898302775",
   "metadata": {},
   "outputs": [
    {
     "data": {
      "image/png": "[encoded data removed]",
      "text/plain": [
       "<Figure size 1200x1200 with 6 Axes>"
      ]
     },
     "metadata": {},
     "output_type": "display_data"
    }
   ],
   "source": [
    "fig, ax = plt.subplots(3, 2, sharex=True, figsize=(12, 12))\n",
    "sns.lineplot(data = df, x = 'year', y = 'great_lakes', hue = 'industry', ax = ax[0, 0], legend = True).set_title('Great Lakes')\n",
    "sns.lineplot(data = df, x = 'year', y = 'groundwater', hue = 'industry', ax = ax[1, 0], legend = False).set_title('Groundwater')\n",
    "sns.lineplot(data = df, x = 'year', y = 'inland', hue = 'industry', ax = ax[0, 1], legend = False).set_title('Inland')\n",
    "sns.lineplot(data = df, x = 'year', y = 'total', hue = 'industry', ax = ax[1, 1], legend = False).set_title('Total')\n",
    "ax[-1, -1].axis('off')\n",
    "handles, labels = ax[0, 0].get_legend_handles_labels()\n",
    "ax[-1, -1].legend(handles, labels, loc = 'center', ncol = 2)\n",
    "fig.suptitle('Water Use by Industry and Water Sources Over Time', fontsize = 16)\n",
    "plt.tight_layout(rect=[0, 0.03, 1, 0.95])\n",
    "# plt.savefig('figures/troubleshooting.png')\n",
    "plt.show()"
   ]
  },
  {
   "cell_type": "markdown",
   "id": "4ef65e5c-735e-420a-b7b2-ea7c4f7b5853",
   "metadata": {},
   "source": [
    "fig, ax = plt.subplots(2, 2, sharex = True, figsize = (12, 8))\n",
    "ax[0, 0] = sns.lineplot(data = df, x = 'year', y = 'great_lakes', hue = 'industry', ax = ax[0, 0])\n",
    "ax[0, 0].set_title('Great Lakes')\n",
    "ax[0, 0].set_axis_labels('Water Use (gallons)')\n",
    "sns.lineplot(data = df, x = 'year', y = 'groundwater', hue = 'industry', ax = ax[1, 0]).set_title('Groundwater')\n",
    "sns.lineplot(data = df, x = 'year', y = 'inland', hue = 'industry', ax = ax[0, 1]).set_title('Inland')\n",
    "sns.lineplot(data = df, x = 'year', y = 'total', hue = 'industry', ax = ax[1, 1]).set_title('Total')\n",
    "fig.suptitle('Water Use by Industry and Water Sources Over Time', fontsize = 16)\n",
    "plt.show()"
   ]
  },
  {
   "cell_type": "markdown",
   "id": "332ba2b0-7f9d-4ef3-bfeb-9f608a35462f",
   "metadata": {},
   "source": [
    "For most sources, electric power generation seems to be the most impactful industry on water use. The distribution of water use for all sectors most closely follows the pattern of electric power generation. This changes specifically with groundwater sources where almost no water is used in electric power generation. All other industries use less than half a billion gallons "
   ]
  },
  {
   "cell_type": "code",
   "execution_count": 114,
   "id": "f0c37911-0280-4566-b524-a191d75d1b0a",
   "metadata": {},
   "outputs": [
    {
     "data": {
      "text/plain": [
       "5000000000000"
      ]
     },
     "execution_count": 114,
     "metadata": {},
     "output_type": "execute_result"
    }
   ],
   "source": [
    "5*(10**12)"
   ]
  }
 ],
 "metadata": {
  "kernelspec": {
   "display_name": "Python 3 (ipykernel)",
   "language": "python",
   "name": "python3"
  },
  "language_info": {
   "codemirror_mode": {
    "name": "ipython",
    "version": 3
   },
   "file_extension": ".py",
   "mimetype": "text/x-python",
   "name": "python",
   "nbconvert_exporter": "python",
   "pygments_lexer": "ipython3",
   "version": "3.11.9"
  }
 },
 "nbformat": 4,
 "nbformat_minor": 5
}
