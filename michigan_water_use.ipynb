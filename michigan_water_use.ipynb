{
 "cells": [
  {
   "cell_type": "markdown",
   "id": "b61cfe3a-50f4-4567-bfa9-0aaa94c273be",
   "metadata": {},
   "source": [
    "# AI Prediction of Michigan Water Use\n",
    "\n",
    "The primary objective of this project is predicting the future impact on Michigan’s water supply based on archived industry and geographical water consumption levels. More specifically, this project will showcase how water consumption changes over time across industries and counties. Population growth data will also be included as an explanatory variable for the increased demand on the industries. With the annual population data, correlations may be identified across the industries to explain changes in demand. Additionally, highlighting the relationships between industries’ water consumption will provide insight into any underlying effects on water use.\r\n",
    "\tAlthough water use data is not available for 2023, the predicted results will be ready to compare with the actual water use results when they become publicly available. Data from the past decade is useful in developing prediction models for 2025 and forecasting future trends. Additionally, aggregate data on the total available water is currently inaccessible. This data would be crucial in identifying the threshold at which the water basin would be critically impacted; so future studies will be required to determine preventative measures. Despite the missing water level data, measuring the current impacts is an important step in predicting high-risk industries\r\n"
   ]
  },
  {
   "cell_type": "markdown",
   "id": "7094a21e-a43c-4ca2-a2da-7dc076409da4",
   "metadata": {},
   "source": [
    "# Libraries"
   ]
  },
  {
   "cell_type": "code",
   "execution_count": 195,
   "id": "34a84fff-0993-403f-b092-b452a707a27d",
   "metadata": {},
   "outputs": [],
   "source": [
    "import pandas as pd\n",
    "import dataframe_image as dfi\n",
    "import numpy as np\n",
    "import seaborn as sns\n",
    "sns.set_palette('colorblind')\n",
    "sns.set_style('white')\n",
    "import matplotlib.pyplot as plt\n",
    "from scipy import stats\n",
    "import statsmodels.api as sm\n",
    "from statsmodels.tsa.stattools import acf\n",
    "from statsmodels.graphics.tsaplots import plot_acf\n",
    "from math import sqrt\n",
    "\n",
    "import warnings\n",
    "warnings.filterwarnings(\"ignore\", category=FutureWarning, module=\"seaborn._oldcore\")\n",
    "warnings.filterwarnings('ignore', category=UserWarning, module='scipy.stats')"
   ]
  },
  {
   "cell_type": "markdown",
   "id": "ab989eca-0b89-4db2-9f1d-72038ebcaf85",
   "metadata": {},
   "source": [
    "# Predefined Functions"
   ]
  },
  {
   "cell_type": "code",
   "execution_count": 5,
   "id": "e75b3b2a-cbe4-4e38-b365-50ce3ecd5f30",
   "metadata": {},
   "outputs": [],
   "source": [
    "def pearson_r(x, y):\n",
    "    \"\"\"Compute Pearson correlation coefficient between two arrays.\"\"\"\n",
    "    corr_mat = np.corrcoef(x, y)\n",
    "    return corr_mat[0, 1]\n",
    "\n",
    "def save_table(data, file_name):\n",
    "    data.dfi.export(file_name)\n",
    "\n",
    "def run_ols(pivot_table, x_feature, y_feature):\n",
    "    X = pivot_table[x_feature].dropna()\n",
    "    y = pivot_table[y_feature].dropna()\n",
    "    common_index = X.index.intersection(y.index)\n",
    "    X = X.loc[common_index]\n",
    "    y = y.loc[common_index]\n",
    "    X = sm.add_constant(X)\n",
    "    model = sm.OLS(y, X).fit()\n",
    "    return model"
   ]
  },
  {
   "cell_type": "markdown",
   "id": "b9643c4e-dd03-42ca-83b0-4a751457a607",
   "metadata": {},
   "source": [
    "# Data Upload\n",
    "\n",
    "The Department of Environment, Great Lakes, and Energy's water usage data for the Great Lakes Basin ranges from 2013 to 2022. The dataset includes a list of the various Michigan counties, industries that reside within those counties, and their annual water consumption. The data does not include population growth data which will be supplemented by the U.S. Census Bureau.\n",
    "\n",
    "* Unnamed: Index number from merging data\n",
    "* county: Geographical division of Michigan\n",
    "* gallons_from_great_lakes: Water use from the Great Lakes\n",
    "* gallons_from_groundwater: Water use from ground water supplies\n",
    "* gallons_from_inland_surface: Water use from other resevoirs, lakes, rivers, etc.\n",
    "* total_gallons_all_sources: Aggregated sum of all gallons\n",
    "* industry: Distinction of entity type that used each water source\n",
    "* year: Surveyed year\n",
    "\n",
    "Martusiuk, O. (n.d.). Michigan water use data (2013 to 2022) [Data set]. Kaggle. https://www.kaggle.com/datasets/oleksiimartusiuk/michigan-water-use-data-2013-to-2022/data\r\n",
    "\n",
    "U.S. Census Bureau. (n.d.). State population totals: 2010-2020 [Data set]. U.S. Census Bureau. https://www2.census.gov/programs-surveys/popest/datasets/2010-2020/state/totals/\n",
    "\r\n",
    "U.S. Census Bureau. (n.d.). State population totals: 2020-2023 [Data set]. U.S. Census Bureau. https://www2.census.gov/programs-surveys/popest/datasets/2020-2023/state/totals/"
   ]
  },
  {
   "cell_type": "code",
   "execution_count": 7,
   "id": "d6ed01f4-7155-4b77-9530-8e9a87f6d87a",
   "metadata": {},
   "outputs": [],
   "source": [
    "pop20 = pd.read_csv('data/nst-est2020-alldata.csv')\n",
    "pop23 = pd.read_csv('data/NST-EST2023-ALLDATA.csv')\n",
    "df1 = pd.read_csv('data/water_use_data_2013_to_2022.csv')"
   ]
  },
  {
   "cell_type": "markdown",
   "id": "bc19a98a-bd7b-43a8-bc62-1e898f88b408",
   "metadata": {},
   "source": [
    "# Data Wrangling"
   ]
  },
  {
   "cell_type": "markdown",
   "id": "19b4ee97-17db-4e7a-84bf-5e95409699ac",
   "metadata": {},
   "source": [
    "## Population Data\n",
    "The population data for both date ranges provided by the U.S. Census Bureau estimates the number of individuals that reside within the states. For this project, Michigan is the only state that will be retained. All other state information will be dropped. Additionally, the dataset contains over 14 extraneous feature categories that are multiplied by the number of years surveyed within each range. To minimize the dimensionality and prepare them for merging, all features that are not annual total population estimates will be dropped. Future studies may be able to make use of analyses with features like natural deaths, imigration rates, or births; but those types of features fall outside the scope of this project. After all extraneous features and observations have been dropped, a single row will remain with a number of features equal to the date ranges. Those rows will be converted to a single column where each year is a single observation."
   ]
  },
  {
   "cell_type": "markdown",
   "id": "4b29f10e-d461-43dd-99f5-5b1adfae0ba3",
   "metadata": {},
   "source": [
    "### pop20\n",
    "\n",
    "The years range from 2010 - 2020. There are a total of 166 features that the data set includes, however only 8 features are required from this dataset."
   ]
  },
  {
   "cell_type": "code",
   "execution_count": 11,
   "id": "f612a876-410b-4211-91ba-d8b7bf995591",
   "metadata": {},
   "outputs": [
    {
     "data": {
      "text/html": [
       "<div>\n",
       "<style scoped>\n",
       "    .dataframe tbody tr th:only-of-type {\n",
       "        vertical-align: middle;\n",
       "    }\n",
       "\n",
       "    .dataframe tbody tr th {\n",
       "        vertical-align: top;\n",
       "    }\n",
       "\n",
       "    .dataframe thead th {\n",
       "        text-align: right;\n",
       "    }\n",
       "</style>\n",
       "<table border=\"1\" class=\"dataframe\">\n",
       "  <thead>\n",
       "    <tr style=\"text-align: right;\">\n",
       "      <th></th>\n",
       "      <th>SUMLEV</th>\n",
       "      <th>REGION</th>\n",
       "      <th>DIVISION</th>\n",
       "      <th>STATE</th>\n",
       "      <th>NAME</th>\n",
       "      <th>CENSUS2010POP</th>\n",
       "      <th>ESTIMATESBASE2010</th>\n",
       "      <th>POPESTIMATE2010</th>\n",
       "      <th>POPESTIMATE2011</th>\n",
       "      <th>POPESTIMATE2012</th>\n",
       "      <th>...</th>\n",
       "      <th>RNETMIG2011</th>\n",
       "      <th>RNETMIG2012</th>\n",
       "      <th>RNETMIG2013</th>\n",
       "      <th>RNETMIG2014</th>\n",
       "      <th>RNETMIG2015</th>\n",
       "      <th>RNETMIG2016</th>\n",
       "      <th>RNETMIG2017</th>\n",
       "      <th>RNETMIG2018</th>\n",
       "      <th>RNETMIG2019</th>\n",
       "      <th>RNETMIG2020</th>\n",
       "    </tr>\n",
       "  </thead>\n",
       "  <tbody>\n",
       "    <tr>\n",
       "      <th>0</th>\n",
       "      <td>10</td>\n",
       "      <td>0</td>\n",
       "      <td>0</td>\n",
       "      <td>0</td>\n",
       "      <td>United States</td>\n",
       "      <td>308745538</td>\n",
       "      <td>308758105</td>\n",
       "      <td>309327143</td>\n",
       "      <td>311583481</td>\n",
       "      <td>313877662</td>\n",
       "      <td>...</td>\n",
       "      <td>2.561705</td>\n",
       "      <td>2.745929</td>\n",
       "      <td>2.697816</td>\n",
       "      <td>2.980977</td>\n",
       "      <td>3.317393</td>\n",
       "      <td>3.308478</td>\n",
       "      <td>2.926260</td>\n",
       "      <td>2.208328</td>\n",
       "      <td>1.735857</td>\n",
       "      <td>1.450346</td>\n",
       "    </tr>\n",
       "    <tr>\n",
       "      <th>1</th>\n",
       "      <td>20</td>\n",
       "      <td>1</td>\n",
       "      <td>0</td>\n",
       "      <td>0</td>\n",
       "      <td>Northeast Region</td>\n",
       "      <td>55317240</td>\n",
       "      <td>55318414</td>\n",
       "      <td>55380764</td>\n",
       "      <td>55608318</td>\n",
       "      <td>55782661</td>\n",
       "      <td>...</td>\n",
       "      <td>0.951355</td>\n",
       "      <td>0.022910</td>\n",
       "      <td>-0.406301</td>\n",
       "      <td>-0.904675</td>\n",
       "      <td>-2.011990</td>\n",
       "      <td>-2.436197</td>\n",
       "      <td>-1.773545</td>\n",
       "      <td>-2.008364</td>\n",
       "      <td>-3.160710</td>\n",
       "      <td>-3.674490</td>\n",
       "    </tr>\n",
       "    <tr>\n",
       "      <th>2</th>\n",
       "      <td>20</td>\n",
       "      <td>2</td>\n",
       "      <td>0</td>\n",
       "      <td>0</td>\n",
       "      <td>Midwest Region</td>\n",
       "      <td>66927001</td>\n",
       "      <td>66929737</td>\n",
       "      <td>66975328</td>\n",
       "      <td>67164092</td>\n",
       "      <td>67348275</td>\n",
       "      <td>...</td>\n",
       "      <td>-0.883842</td>\n",
       "      <td>-0.895516</td>\n",
       "      <td>0.062390</td>\n",
       "      <td>-0.697566</td>\n",
       "      <td>-1.320504</td>\n",
       "      <td>-1.176126</td>\n",
       "      <td>-0.487257</td>\n",
       "      <td>-0.800567</td>\n",
       "      <td>-1.205668</td>\n",
       "      <td>-2.011623</td>\n",
       "    </tr>\n",
       "    <tr>\n",
       "      <th>3</th>\n",
       "      <td>20</td>\n",
       "      <td>3</td>\n",
       "      <td>0</td>\n",
       "      <td>0</td>\n",
       "      <td>South Region</td>\n",
       "      <td>114555744</td>\n",
       "      <td>114563042</td>\n",
       "      <td>114869421</td>\n",
       "      <td>116019483</td>\n",
       "      <td>117264196</td>\n",
       "      <td>...</td>\n",
       "      <td>5.218129</td>\n",
       "      <td>5.934440</td>\n",
       "      <td>5.373447</td>\n",
       "      <td>6.236211</td>\n",
       "      <td>7.355913</td>\n",
       "      <td>7.220696</td>\n",
       "      <td>6.272594</td>\n",
       "      <td>5.291755</td>\n",
       "      <td>5.479642</td>\n",
       "      <td>5.743507</td>\n",
       "    </tr>\n",
       "    <tr>\n",
       "      <th>4</th>\n",
       "      <td>20</td>\n",
       "      <td>4</td>\n",
       "      <td>0</td>\n",
       "      <td>0</td>\n",
       "      <td>West Region</td>\n",
       "      <td>71945553</td>\n",
       "      <td>71946912</td>\n",
       "      <td>72101630</td>\n",
       "      <td>72791588</td>\n",
       "      <td>73482530</td>\n",
       "      <td>...</td>\n",
       "      <td>2.752027</td>\n",
       "      <td>3.083047</td>\n",
       "      <td>3.183793</td>\n",
       "      <td>4.039593</td>\n",
       "      <td>5.004949</td>\n",
       "      <td>5.284859</td>\n",
       "      <td>4.022332</td>\n",
       "      <td>2.968883</td>\n",
       "      <td>1.822074</td>\n",
       "      <td>1.214309</td>\n",
       "    </tr>\n",
       "  </tbody>\n",
       "</table>\n",
       "<p>5 rows × 166 columns</p>\n",
       "</div>"
      ],
      "text/plain": [
       "   SUMLEV REGION DIVISION  STATE              NAME  CENSUS2010POP  \\\n",
       "0      10      0        0      0     United States      308745538   \n",
       "1      20      1        0      0  Northeast Region       55317240   \n",
       "2      20      2        0      0    Midwest Region       66927001   \n",
       "3      20      3        0      0      South Region      114555744   \n",
       "4      20      4        0      0       West Region       71945553   \n",
       "\n",
       "   ESTIMATESBASE2010  POPESTIMATE2010  POPESTIMATE2011  POPESTIMATE2012  ...  \\\n",
       "0          308758105        309327143        311583481        313877662  ...   \n",
       "1           55318414         55380764         55608318         55782661  ...   \n",
       "2           66929737         66975328         67164092         67348275  ...   \n",
       "3          114563042        114869421        116019483        117264196  ...   \n",
       "4           71946912         72101630         72791588         73482530  ...   \n",
       "\n",
       "   RNETMIG2011  RNETMIG2012  RNETMIG2013  RNETMIG2014  RNETMIG2015  \\\n",
       "0     2.561705     2.745929     2.697816     2.980977     3.317393   \n",
       "1     0.951355     0.022910    -0.406301    -0.904675    -2.011990   \n",
       "2    -0.883842    -0.895516     0.062390    -0.697566    -1.320504   \n",
       "3     5.218129     5.934440     5.373447     6.236211     7.355913   \n",
       "4     2.752027     3.083047     3.183793     4.039593     5.004949   \n",
       "\n",
       "   RNETMIG2016  RNETMIG2017  RNETMIG2018  RNETMIG2019  RNETMIG2020  \n",
       "0     3.308478     2.926260     2.208328     1.735857     1.450346  \n",
       "1    -2.436197    -1.773545    -2.008364    -3.160710    -3.674490  \n",
       "2    -1.176126    -0.487257    -0.800567    -1.205668    -2.011623  \n",
       "3     7.220696     6.272594     5.291755     5.479642     5.743507  \n",
       "4     5.284859     4.022332     2.968883     1.822074     1.214309  \n",
       "\n",
       "[5 rows x 166 columns]"
      ]
     },
     "execution_count": 11,
     "metadata": {},
     "output_type": "execute_result"
    }
   ],
   "source": [
    "pop20.head()"
   ]
  },
  {
   "cell_type": "code",
   "execution_count": 12,
   "id": "9de6e68c-02aa-4ac0-9f0b-ebe875f22c6d",
   "metadata": {},
   "outputs": [
    {
     "name": "stdout",
     "output_type": "stream",
     "text": [
      "<class 'pandas.core.frame.DataFrame'>\n",
      "RangeIndex: 57 entries, 0 to 56\n",
      "Columns: 166 entries, SUMLEV to RNETMIG2020\n",
      "dtypes: float64(60), int64(103), object(3)\n",
      "memory usage: 74.1+ KB\n"
     ]
    }
   ],
   "source": [
    "pop20.info()"
   ]
  },
  {
   "cell_type": "code",
   "execution_count": 13,
   "id": "aa8a0d7e-4498-4b8e-9f09-5270fbadc0a6",
   "metadata": {},
   "outputs": [],
   "source": [
    "pop20_1 = pop20[pop20['NAME'] == 'Michigan']"
   ]
  },
  {
   "cell_type": "code",
   "execution_count": 14,
   "id": "686d1d6f-5860-45c6-8b46-e8e3638a9bec",
   "metadata": {},
   "outputs": [],
   "source": [
    "pop20_2 = pop20_1.loc[:, 'POPESTIMATE2013':'POPESTIMATE2020']"
   ]
  },
  {
   "cell_type": "code",
   "execution_count": 15,
   "id": "9eef46b2-8978-4ef7-82fd-50ae0844f8f9",
   "metadata": {},
   "outputs": [],
   "source": [
    "pop20_3 = pop20_2.copy()\n",
    "pop20_3.columns = pop20_3.columns.str.removeprefix('POPESTIMATE')"
   ]
  },
  {
   "cell_type": "code",
   "execution_count": 16,
   "id": "f34df4a7-d923-4e8e-951d-3a1338583feb",
   "metadata": {},
   "outputs": [],
   "source": [
    "pop20_4 = pop20_3.transpose().reset_index()"
   ]
  },
  {
   "cell_type": "code",
   "execution_count": 17,
   "id": "2dd4d653-2bb7-4e2c-9c08-828645433efc",
   "metadata": {},
   "outputs": [],
   "source": [
    "pop20_5 = pop20_4.rename(columns = {'index': 'year', 27: 'population'})"
   ]
  },
  {
   "cell_type": "code",
   "execution_count": 18,
   "id": "6ee00d3f-9b43-4f5a-bdb4-5551ced7e9bf",
   "metadata": {},
   "outputs": [
    {
     "name": "stdout",
     "output_type": "stream",
     "text": [
      "<class 'pandas.core.frame.DataFrame'>\n",
      "RangeIndex: 8 entries, 0 to 7\n",
      "Data columns (total 2 columns):\n",
      " #   Column      Non-Null Count  Dtype\n",
      "---  ------      --------------  -----\n",
      " 0   year        8 non-null      int32\n",
      " 1   population  8 non-null      int64\n",
      "dtypes: int32(1), int64(1)\n",
      "memory usage: 228.0 bytes\n"
     ]
    }
   ],
   "source": [
    "pop20_6 = pop20_5.copy()\n",
    "pop20_6['year'] = pop20_6['year'].astype('int')\n",
    "pop20_6.info()"
   ]
  },
  {
   "cell_type": "markdown",
   "id": "5ab51605-6abb-4856-9a67-4a90fc0d1059",
   "metadata": {},
   "source": [
    "### pop23\n",
    "\n",
    "The years range from 2020 - 2023. There are a total of 60 features that the data set includes, however only 8 features are required from this dataset."
   ]
  },
  {
   "cell_type": "code",
   "execution_count": 20,
   "id": "4dcb026b-1f69-41f2-81e1-cafed8249e9c",
   "metadata": {},
   "outputs": [
    {
     "data": {
      "text/html": [
       "<div>\n",
       "<style scoped>\n",
       "    .dataframe tbody tr th:only-of-type {\n",
       "        vertical-align: middle;\n",
       "    }\n",
       "\n",
       "    .dataframe tbody tr th {\n",
       "        vertical-align: top;\n",
       "    }\n",
       "\n",
       "    .dataframe thead th {\n",
       "        text-align: right;\n",
       "    }\n",
       "</style>\n",
       "<table border=\"1\" class=\"dataframe\">\n",
       "  <thead>\n",
       "    <tr style=\"text-align: right;\">\n",
       "      <th></th>\n",
       "      <th>SUMLEV</th>\n",
       "      <th>REGION</th>\n",
       "      <th>DIVISION</th>\n",
       "      <th>STATE</th>\n",
       "      <th>NAME</th>\n",
       "      <th>ESTIMATESBASE2020</th>\n",
       "      <th>POPESTIMATE2020</th>\n",
       "      <th>POPESTIMATE2021</th>\n",
       "      <th>POPESTIMATE2022</th>\n",
       "      <th>POPESTIMATE2023</th>\n",
       "      <th>...</th>\n",
       "      <th>RNATURALCHG2023</th>\n",
       "      <th>RINTERNATIONALMIG2021</th>\n",
       "      <th>RINTERNATIONALMIG2022</th>\n",
       "      <th>RINTERNATIONALMIG2023</th>\n",
       "      <th>RDOMESTICMIG2021</th>\n",
       "      <th>RDOMESTICMIG2022</th>\n",
       "      <th>RDOMESTICMIG2023</th>\n",
       "      <th>RNETMIG2021</th>\n",
       "      <th>RNETMIG2022</th>\n",
       "      <th>RNETMIG2023</th>\n",
       "    </tr>\n",
       "  </thead>\n",
       "  <tbody>\n",
       "    <tr>\n",
       "      <th>0</th>\n",
       "      <td>10</td>\n",
       "      <td>0</td>\n",
       "      <td>0</td>\n",
       "      <td>0</td>\n",
       "      <td>United States</td>\n",
       "      <td>331464948</td>\n",
       "      <td>331526933</td>\n",
       "      <td>332048977</td>\n",
       "      <td>333271411</td>\n",
       "      <td>334914895</td>\n",
       "      <td>...</td>\n",
       "      <td>1.510043</td>\n",
       "      <td>1.133278</td>\n",
       "      <td>3.003867</td>\n",
       "      <td>3.409196</td>\n",
       "      <td>0.000000</td>\n",
       "      <td>0.000000</td>\n",
       "      <td>0.000000</td>\n",
       "      <td>1.133278</td>\n",
       "      <td>3.003867</td>\n",
       "      <td>3.409196</td>\n",
       "    </tr>\n",
       "    <tr>\n",
       "      <th>1</th>\n",
       "      <td>20</td>\n",
       "      <td>1</td>\n",
       "      <td>0</td>\n",
       "      <td>0</td>\n",
       "      <td>Northeast Region</td>\n",
       "      <td>57614141</td>\n",
       "      <td>57430477</td>\n",
       "      <td>57243423</td>\n",
       "      <td>57026847</td>\n",
       "      <td>56983517</td>\n",
       "      <td>...</td>\n",
       "      <td>0.976280</td>\n",
       "      <td>1.403074</td>\n",
       "      <td>3.678035</td>\n",
       "      <td>3.947167</td>\n",
       "      <td>-4.823207</td>\n",
       "      <td>-7.881683</td>\n",
       "      <td>-5.671414</td>\n",
       "      <td>-3.420133</td>\n",
       "      <td>-4.203648</td>\n",
       "      <td>-1.724247</td>\n",
       "    </tr>\n",
       "    <tr>\n",
       "      <th>2</th>\n",
       "      <td>30</td>\n",
       "      <td>1</td>\n",
       "      <td>1</td>\n",
       "      <td>0</td>\n",
       "      <td>New England</td>\n",
       "      <td>15119994</td>\n",
       "      <td>15057898</td>\n",
       "      <td>15106108</td>\n",
       "      <td>15120739</td>\n",
       "      <td>15159777</td>\n",
       "      <td>...</td>\n",
       "      <td>-0.019551</td>\n",
       "      <td>1.772643</td>\n",
       "      <td>4.532659</td>\n",
       "      <td>5.024221</td>\n",
       "      <td>1.615767</td>\n",
       "      <td>-3.086263</td>\n",
       "      <td>-2.445863</td>\n",
       "      <td>3.388409</td>\n",
       "      <td>1.446396</td>\n",
       "      <td>2.578358</td>\n",
       "    </tr>\n",
       "    <tr>\n",
       "      <th>3</th>\n",
       "      <td>30</td>\n",
       "      <td>1</td>\n",
       "      <td>2</td>\n",
       "      <td>0</td>\n",
       "      <td>Middle Atlantic</td>\n",
       "      <td>42494147</td>\n",
       "      <td>42372579</td>\n",
       "      <td>42137315</td>\n",
       "      <td>41906108</td>\n",
       "      <td>41823740</td>\n",
       "      <td>...</td>\n",
       "      <td>1.336417</td>\n",
       "      <td>1.271165</td>\n",
       "      <td>3.370662</td>\n",
       "      <td>3.557656</td>\n",
       "      <td>-7.121462</td>\n",
       "      <td>-9.606391</td>\n",
       "      <td>-6.837920</td>\n",
       "      <td>-5.850297</td>\n",
       "      <td>-6.235729</td>\n",
       "      <td>-3.280264</td>\n",
       "    </tr>\n",
       "    <tr>\n",
       "      <th>4</th>\n",
       "      <td>20</td>\n",
       "      <td>2</td>\n",
       "      <td>0</td>\n",
       "      <td>0</td>\n",
       "      <td>Midwest Region</td>\n",
       "      <td>68987296</td>\n",
       "      <td>68969794</td>\n",
       "      <td>68850246</td>\n",
       "      <td>68783028</td>\n",
       "      <td>68909283</td>\n",
       "      <td>...</td>\n",
       "      <td>0.665803</td>\n",
       "      <td>0.802684</td>\n",
       "      <td>2.098649</td>\n",
       "      <td>2.409866</td>\n",
       "      <td>-2.577042</td>\n",
       "      <td>-2.636615</td>\n",
       "      <td>-1.245226</td>\n",
       "      <td>-1.774357</td>\n",
       "      <td>-0.537966</td>\n",
       "      <td>1.164640</td>\n",
       "    </tr>\n",
       "  </tbody>\n",
       "</table>\n",
       "<p>5 rows × 60 columns</p>\n",
       "</div>"
      ],
      "text/plain": [
       "   SUMLEV REGION DIVISION  STATE              NAME  ESTIMATESBASE2020  \\\n",
       "0      10      0        0      0     United States          331464948   \n",
       "1      20      1        0      0  Northeast Region           57614141   \n",
       "2      30      1        1      0       New England           15119994   \n",
       "3      30      1        2      0   Middle Atlantic           42494147   \n",
       "4      20      2        0      0    Midwest Region           68987296   \n",
       "\n",
       "   POPESTIMATE2020  POPESTIMATE2021  POPESTIMATE2022  POPESTIMATE2023  ...  \\\n",
       "0        331526933        332048977        333271411        334914895  ...   \n",
       "1         57430477         57243423         57026847         56983517  ...   \n",
       "2         15057898         15106108         15120739         15159777  ...   \n",
       "3         42372579         42137315         41906108         41823740  ...   \n",
       "4         68969794         68850246         68783028         68909283  ...   \n",
       "\n",
       "   RNATURALCHG2023  RINTERNATIONALMIG2021  RINTERNATIONALMIG2022  \\\n",
       "0         1.510043               1.133278               3.003867   \n",
       "1         0.976280               1.403074               3.678035   \n",
       "2        -0.019551               1.772643               4.532659   \n",
       "3         1.336417               1.271165               3.370662   \n",
       "4         0.665803               0.802684               2.098649   \n",
       "\n",
       "   RINTERNATIONALMIG2023  RDOMESTICMIG2021  RDOMESTICMIG2022  \\\n",
       "0               3.409196          0.000000          0.000000   \n",
       "1               3.947167         -4.823207         -7.881683   \n",
       "2               5.024221          1.615767         -3.086263   \n",
       "3               3.557656         -7.121462         -9.606391   \n",
       "4               2.409866         -2.577042         -2.636615   \n",
       "\n",
       "   RDOMESTICMIG2023  RNETMIG2021  RNETMIG2022  RNETMIG2023  \n",
       "0          0.000000     1.133278     3.003867     3.409196  \n",
       "1         -5.671414    -3.420133    -4.203648    -1.724247  \n",
       "2         -2.445863     3.388409     1.446396     2.578358  \n",
       "3         -6.837920    -5.850297    -6.235729    -3.280264  \n",
       "4         -1.245226    -1.774357    -0.537966     1.164640  \n",
       "\n",
       "[5 rows x 60 columns]"
      ]
     },
     "execution_count": 20,
     "metadata": {},
     "output_type": "execute_result"
    }
   ],
   "source": [
    "pop23.head()"
   ]
  },
  {
   "cell_type": "code",
   "execution_count": 21,
   "id": "313c1227-4484-4144-a1b5-542f37f628b7",
   "metadata": {},
   "outputs": [
    {
     "name": "stdout",
     "output_type": "stream",
     "text": [
      "<class 'pandas.core.frame.DataFrame'>\n",
      "RangeIndex: 66 entries, 0 to 65\n",
      "Data columns (total 60 columns):\n",
      " #   Column                 Non-Null Count  Dtype  \n",
      "---  ------                 --------------  -----  \n",
      " 0   SUMLEV                 66 non-null     int64  \n",
      " 1   REGION                 66 non-null     object \n",
      " 2   DIVISION               66 non-null     object \n",
      " 3   STATE                  66 non-null     int64  \n",
      " 4   NAME                   66 non-null     object \n",
      " 5   ESTIMATESBASE2020      66 non-null     int64  \n",
      " 6   POPESTIMATE2020        66 non-null     int64  \n",
      " 7   POPESTIMATE2021        66 non-null     int64  \n",
      " 8   POPESTIMATE2022        66 non-null     int64  \n",
      " 9   POPESTIMATE2023        66 non-null     int64  \n",
      " 10  NPOPCHG_2020           66 non-null     int64  \n",
      " 11  NPOPCHG_2021           66 non-null     int64  \n",
      " 12  NPOPCHG_2022           66 non-null     int64  \n",
      " 13  NPOPCHG_2023           66 non-null     int64  \n",
      " 14  BIRTHS2020             66 non-null     int64  \n",
      " 15  BIRTHS2021             66 non-null     int64  \n",
      " 16  BIRTHS2022             66 non-null     int64  \n",
      " 17  BIRTHS2023             66 non-null     int64  \n",
      " 18  DEATHS2020             66 non-null     int64  \n",
      " 19  DEATHS2021             66 non-null     int64  \n",
      " 20  DEATHS2022             66 non-null     int64  \n",
      " 21  DEATHS2023             66 non-null     int64  \n",
      " 22  NATURALCHG2020         66 non-null     int64  \n",
      " 23  NATURALCHG2021         66 non-null     int64  \n",
      " 24  NATURALCHG2022         66 non-null     int64  \n",
      " 25  NATURALCHG2023         66 non-null     int64  \n",
      " 26  INTERNATIONALMIG2020   66 non-null     int64  \n",
      " 27  INTERNATIONALMIG2021   66 non-null     int64  \n",
      " 28  INTERNATIONALMIG2022   66 non-null     int64  \n",
      " 29  INTERNATIONALMIG2023   66 non-null     int64  \n",
      " 30  DOMESTICMIG2020        66 non-null     int64  \n",
      " 31  DOMESTICMIG2021        66 non-null     int64  \n",
      " 32  DOMESTICMIG2022        66 non-null     int64  \n",
      " 33  DOMESTICMIG2023        66 non-null     int64  \n",
      " 34  NETMIG2020             66 non-null     int64  \n",
      " 35  NETMIG2021             66 non-null     int64  \n",
      " 36  NETMIG2022             66 non-null     int64  \n",
      " 37  NETMIG2023             66 non-null     int64  \n",
      " 38  RESIDUAL2020           66 non-null     int64  \n",
      " 39  RESIDUAL2021           66 non-null     int64  \n",
      " 40  RESIDUAL2022           66 non-null     int64  \n",
      " 41  RESIDUAL2023           66 non-null     int64  \n",
      " 42  RBIRTH2021             66 non-null     float64\n",
      " 43  RBIRTH2022             66 non-null     float64\n",
      " 44  RBIRTH2023             66 non-null     float64\n",
      " 45  RDEATH2021             66 non-null     float64\n",
      " 46  RDEATH2022             66 non-null     float64\n",
      " 47  RDEATH2023             66 non-null     float64\n",
      " 48  RNATURALCHG2021        66 non-null     float64\n",
      " 49  RNATURALCHG2022        66 non-null     float64\n",
      " 50  RNATURALCHG2023        66 non-null     float64\n",
      " 51  RINTERNATIONALMIG2021  66 non-null     float64\n",
      " 52  RINTERNATIONALMIG2022  66 non-null     float64\n",
      " 53  RINTERNATIONALMIG2023  66 non-null     float64\n",
      " 54  RDOMESTICMIG2021       66 non-null     float64\n",
      " 55  RDOMESTICMIG2022       66 non-null     float64\n",
      " 56  RDOMESTICMIG2023       66 non-null     float64\n",
      " 57  RNETMIG2021            66 non-null     float64\n",
      " 58  RNETMIG2022            66 non-null     float64\n",
      " 59  RNETMIG2023            66 non-null     float64\n",
      "dtypes: float64(18), int64(39), object(3)\n",
      "memory usage: 31.1+ KB\n"
     ]
    }
   ],
   "source": [
    "pop23.info()"
   ]
  },
  {
   "cell_type": "code",
   "execution_count": 22,
   "id": "511e2b04-f192-4b1f-922b-335dbb1bd466",
   "metadata": {},
   "outputs": [],
   "source": [
    "pop23_1 = pop23[pop23['NAME'] == 'Michigan']"
   ]
  },
  {
   "cell_type": "code",
   "execution_count": 23,
   "id": "d789ca4d-7ea6-4832-b3a4-f2a307fd239f",
   "metadata": {},
   "outputs": [],
   "source": [
    "pop23_2 = pop23_1.loc[:, 'POPESTIMATE2020':'POPESTIMATE2022']"
   ]
  },
  {
   "cell_type": "code",
   "execution_count": 24,
   "id": "5c2223ab-c221-4acc-bd90-2eceadd19be9",
   "metadata": {},
   "outputs": [],
   "source": [
    "pop23_3 = pop23_2.copy()\n",
    "pop23_3.columns = pop23_3.columns.str.removeprefix('POPESTIMATE')"
   ]
  },
  {
   "cell_type": "code",
   "execution_count": 25,
   "id": "ba0d8679-a1e3-4952-83fe-e6692f5f2b9b",
   "metadata": {},
   "outputs": [],
   "source": [
    "pop23_4 = pop23_3.transpose().reset_index()"
   ]
  },
  {
   "cell_type": "code",
   "execution_count": 26,
   "id": "fc5b82d4-d5d9-4ff5-aa08-dfaf0c122bdc",
   "metadata": {},
   "outputs": [],
   "source": [
    "pop23_5 = pop23_4.rename(columns = {'index': 'year', 36: 'population'})"
   ]
  },
  {
   "cell_type": "code",
   "execution_count": 27,
   "id": "23bccdeb-9fcc-4e00-b07d-5559f3ada251",
   "metadata": {},
   "outputs": [
    {
     "name": "stdout",
     "output_type": "stream",
     "text": [
      "<class 'pandas.core.frame.DataFrame'>\n",
      "RangeIndex: 3 entries, 0 to 2\n",
      "Data columns (total 2 columns):\n",
      " #   Column      Non-Null Count  Dtype\n",
      "---  ------      --------------  -----\n",
      " 0   year        3 non-null      int32\n",
      " 1   population  3 non-null      int64\n",
      "dtypes: int32(1), int64(1)\n",
      "memory usage: 168.0 bytes\n"
     ]
    }
   ],
   "source": [
    "pop23_6 = pop23_5.copy()\n",
    "pop23_6['year'] = pop23_6['year'].astype('int')\n",
    "pop23_6.info()"
   ]
  },
  {
   "cell_type": "markdown",
   "id": "c5e7e986-0c30-45d7-aff1-7dd54f99280e",
   "metadata": {},
   "source": [
    "## Concatenating\n",
    "\n",
    "When concatenating these two tables, the 2023 population date range has a new occurence of the year 2020. This may be due to new methods or information being obtained post-2020 so this occurrence will be treated as the official 2020 population estimate. To join the two tables, pop23 will be concatenated on the end of pop20 as a continuation of the data."
   ]
  },
  {
   "cell_type": "code",
   "execution_count": 29,
   "id": "7cee5369-1342-478c-9034-8b9bcff22249",
   "metadata": {},
   "outputs": [
    {
     "data": {
      "text/html": [
       "<div>\n",
       "<style scoped>\n",
       "    .dataframe tbody tr th:only-of-type {\n",
       "        vertical-align: middle;\n",
       "    }\n",
       "\n",
       "    .dataframe tbody tr th {\n",
       "        vertical-align: top;\n",
       "    }\n",
       "\n",
       "    .dataframe thead th {\n",
       "        text-align: right;\n",
       "    }\n",
       "</style>\n",
       "<table border=\"1\" class=\"dataframe\">\n",
       "  <thead>\n",
       "    <tr style=\"text-align: right;\">\n",
       "      <th></th>\n",
       "      <th>year</th>\n",
       "      <th>population</th>\n",
       "    </tr>\n",
       "  </thead>\n",
       "  <tbody>\n",
       "    <tr>\n",
       "      <th>0</th>\n",
       "      <td>2013</td>\n",
       "      <td>9914802</td>\n",
       "    </tr>\n",
       "    <tr>\n",
       "      <th>1</th>\n",
       "      <td>2014</td>\n",
       "      <td>9932033</td>\n",
       "    </tr>\n",
       "    <tr>\n",
       "      <th>2</th>\n",
       "      <td>2015</td>\n",
       "      <td>9934483</td>\n",
       "    </tr>\n",
       "    <tr>\n",
       "      <th>3</th>\n",
       "      <td>2016</td>\n",
       "      <td>9954117</td>\n",
       "    </tr>\n",
       "    <tr>\n",
       "      <th>4</th>\n",
       "      <td>2017</td>\n",
       "      <td>9976752</td>\n",
       "    </tr>\n",
       "    <tr>\n",
       "      <th>5</th>\n",
       "      <td>2018</td>\n",
       "      <td>9987286</td>\n",
       "    </tr>\n",
       "    <tr>\n",
       "      <th>6</th>\n",
       "      <td>2019</td>\n",
       "      <td>9984795</td>\n",
       "    </tr>\n",
       "  </tbody>\n",
       "</table>\n",
       "</div>"
      ],
      "text/plain": [
       "   year  population\n",
       "0  2013     9914802\n",
       "1  2014     9932033\n",
       "2  2015     9934483\n",
       "3  2016     9954117\n",
       "4  2017     9976752\n",
       "5  2018     9987286\n",
       "6  2019     9984795"
      ]
     },
     "execution_count": 29,
     "metadata": {},
     "output_type": "execute_result"
    }
   ],
   "source": [
    "pop20_7 = pop20_6[pop20_5['year'] != '2020']\n",
    "pop20_7"
   ]
  },
  {
   "cell_type": "code",
   "execution_count": 30,
   "id": "2159d8f2-ccd0-4a41-9793-7f85f5ef5c38",
   "metadata": {},
   "outputs": [
    {
     "data": {
      "text/html": [
       "<div>\n",
       "<style scoped>\n",
       "    .dataframe tbody tr th:only-of-type {\n",
       "        vertical-align: middle;\n",
       "    }\n",
       "\n",
       "    .dataframe tbody tr th {\n",
       "        vertical-align: top;\n",
       "    }\n",
       "\n",
       "    .dataframe thead th {\n",
       "        text-align: right;\n",
       "    }\n",
       "</style>\n",
       "<table border=\"1\" class=\"dataframe\">\n",
       "  <thead>\n",
       "    <tr style=\"text-align: right;\">\n",
       "      <th></th>\n",
       "      <th>year</th>\n",
       "      <th>population</th>\n",
       "    </tr>\n",
       "  </thead>\n",
       "  <tbody>\n",
       "    <tr>\n",
       "      <th>0</th>\n",
       "      <td>2013</td>\n",
       "      <td>9914802</td>\n",
       "    </tr>\n",
       "    <tr>\n",
       "      <th>1</th>\n",
       "      <td>2014</td>\n",
       "      <td>9932033</td>\n",
       "    </tr>\n",
       "    <tr>\n",
       "      <th>2</th>\n",
       "      <td>2015</td>\n",
       "      <td>9934483</td>\n",
       "    </tr>\n",
       "    <tr>\n",
       "      <th>3</th>\n",
       "      <td>2016</td>\n",
       "      <td>9954117</td>\n",
       "    </tr>\n",
       "    <tr>\n",
       "      <th>4</th>\n",
       "      <td>2017</td>\n",
       "      <td>9976752</td>\n",
       "    </tr>\n",
       "    <tr>\n",
       "      <th>5</th>\n",
       "      <td>2018</td>\n",
       "      <td>9987286</td>\n",
       "    </tr>\n",
       "    <tr>\n",
       "      <th>6</th>\n",
       "      <td>2019</td>\n",
       "      <td>9984795</td>\n",
       "    </tr>\n",
       "    <tr>\n",
       "      <th>7</th>\n",
       "      <td>2020</td>\n",
       "      <td>10070627</td>\n",
       "    </tr>\n",
       "    <tr>\n",
       "      <th>8</th>\n",
       "      <td>2021</td>\n",
       "      <td>10038117</td>\n",
       "    </tr>\n",
       "    <tr>\n",
       "      <th>9</th>\n",
       "      <td>2022</td>\n",
       "      <td>10033281</td>\n",
       "    </tr>\n",
       "  </tbody>\n",
       "</table>\n",
       "</div>"
      ],
      "text/plain": [
       "   year  population\n",
       "0  2013     9914802\n",
       "1  2014     9932033\n",
       "2  2015     9934483\n",
       "3  2016     9954117\n",
       "4  2017     9976752\n",
       "5  2018     9987286\n",
       "6  2019     9984795\n",
       "7  2020    10070627\n",
       "8  2021    10038117\n",
       "9  2022    10033281"
      ]
     },
     "execution_count": 30,
     "metadata": {},
     "output_type": "execute_result"
    }
   ],
   "source": [
    "popdf = pd.concat([pop20_7, pop23_6], axis = 0, ignore_index = True)\n",
    "popdf"
   ]
  },
  {
   "cell_type": "code",
   "execution_count": 31,
   "id": "ac770661-5e77-4e46-8eeb-eaa3321a02b7",
   "metadata": {},
   "outputs": [
    {
     "name": "stdout",
     "output_type": "stream",
     "text": [
      "<class 'pandas.core.frame.DataFrame'>\n",
      "RangeIndex: 10 entries, 0 to 9\n",
      "Data columns (total 2 columns):\n",
      " #   Column      Non-Null Count  Dtype\n",
      "---  ------      --------------  -----\n",
      " 0   year        10 non-null     int32\n",
      " 1   population  10 non-null     int64\n",
      "dtypes: int32(1), int64(1)\n",
      "memory usage: 252.0 bytes\n"
     ]
    }
   ],
   "source": [
    "popdf.info()"
   ]
  },
  {
   "cell_type": "markdown",
   "id": "3aa30bf2-b601-4ccb-8a09-58d67f4ae849",
   "metadata": {},
   "source": [
    "## Water Use Data\n",
    "\n",
    "The data provided by he Department of Environment, Great Lakes, and Energy comprehensively details the water use for industries, counties, and from various water sources. For this project, policy and controls for high-risk industries is the primary concern; so counties will be removed from the study as residential uses fall outside the scope of this project. Additionally, the original index from when Martusiuk merged the datasets has no bearing as a feature; so it will be removed."
   ]
  },
  {
   "cell_type": "code",
   "execution_count": 33,
   "id": "a09f2ec4-1ac9-447e-a692-60a9843c1b7a",
   "metadata": {},
   "outputs": [
    {
     "data": {
      "text/html": [
       "<div>\n",
       "<style scoped>\n",
       "    .dataframe tbody tr th:only-of-type {\n",
       "        vertical-align: middle;\n",
       "    }\n",
       "\n",
       "    .dataframe tbody tr th {\n",
       "        vertical-align: top;\n",
       "    }\n",
       "\n",
       "    .dataframe thead th {\n",
       "        text-align: right;\n",
       "    }\n",
       "</style>\n",
       "<table border=\"1\" class=\"dataframe\">\n",
       "  <thead>\n",
       "    <tr style=\"text-align: right;\">\n",
       "      <th></th>\n",
       "      <th>Unnamed: 0</th>\n",
       "      <th>county</th>\n",
       "      <th>gallons_from_great_lakes</th>\n",
       "      <th>gallons_from_groundwater</th>\n",
       "      <th>gallons_from_inland_surface</th>\n",
       "      <th>total_gallons_all_sources</th>\n",
       "      <th>industry</th>\n",
       "      <th>year</th>\n",
       "    </tr>\n",
       "  </thead>\n",
       "  <tbody>\n",
       "    <tr>\n",
       "      <th>0</th>\n",
       "      <td>0</td>\n",
       "      <td>Alcona</td>\n",
       "      <td>0</td>\n",
       "      <td>2666085962</td>\n",
       "      <td>4695086047</td>\n",
       "      <td>7361172009</td>\n",
       "      <td>Total All Sectors</td>\n",
       "      <td>2014</td>\n",
       "    </tr>\n",
       "    <tr>\n",
       "      <th>1</th>\n",
       "      <td>1</td>\n",
       "      <td>Alger</td>\n",
       "      <td>1512160000</td>\n",
       "      <td>1608226431</td>\n",
       "      <td>799089999</td>\n",
       "      <td>3919476431</td>\n",
       "      <td>Total All Sectors</td>\n",
       "      <td>2014</td>\n",
       "    </tr>\n",
       "    <tr>\n",
       "      <th>2</th>\n",
       "      <td>2</td>\n",
       "      <td>Allegan</td>\n",
       "      <td>0</td>\n",
       "      <td>5552539983</td>\n",
       "      <td>3784550040</td>\n",
       "      <td>9337090023</td>\n",
       "      <td>Total All Sectors</td>\n",
       "      <td>2014</td>\n",
       "    </tr>\n",
       "    <tr>\n",
       "      <th>3</th>\n",
       "      <td>3</td>\n",
       "      <td>Alpena</td>\n",
       "      <td>40839120000</td>\n",
       "      <td>10948600250</td>\n",
       "      <td>2532270000</td>\n",
       "      <td>54319990250</td>\n",
       "      <td>Total All Sectors</td>\n",
       "      <td>2014</td>\n",
       "    </tr>\n",
       "    <tr>\n",
       "      <th>4</th>\n",
       "      <td>4</td>\n",
       "      <td>Antrim</td>\n",
       "      <td>0</td>\n",
       "      <td>12214548686</td>\n",
       "      <td>54526097</td>\n",
       "      <td>12269074783</td>\n",
       "      <td>Total All Sectors</td>\n",
       "      <td>2014</td>\n",
       "    </tr>\n",
       "  </tbody>\n",
       "</table>\n",
       "</div>"
      ],
      "text/plain": [
       "   Unnamed: 0   county  gallons_from_great_lakes  gallons_from_groundwater  \\\n",
       "0           0   Alcona                         0                2666085962   \n",
       "1           1    Alger                1512160000                1608226431   \n",
       "2           2  Allegan                         0                5552539983   \n",
       "3           3   Alpena               40839120000               10948600250   \n",
       "4           4   Antrim                         0               12214548686   \n",
       "\n",
       "   gallons_from_inland_surface  total_gallons_all_sources           industry  \\\n",
       "0                   4695086047                 7361172009  Total All Sectors   \n",
       "1                    799089999                 3919476431  Total All Sectors   \n",
       "2                   3784550040                 9337090023  Total All Sectors   \n",
       "3                   2532270000                54319990250  Total All Sectors   \n",
       "4                     54526097                12269074783  Total All Sectors   \n",
       "\n",
       "   year  \n",
       "0  2014  \n",
       "1  2014  \n",
       "2  2014  \n",
       "3  2014  \n",
       "4  2014  "
      ]
     },
     "execution_count": 33,
     "metadata": {},
     "output_type": "execute_result"
    }
   ],
   "source": [
    "df1.head()"
   ]
  },
  {
   "cell_type": "code",
   "execution_count": 34,
   "id": "2c1f65f3-3efc-47ff-bba6-fd884ee08d23",
   "metadata": {},
   "outputs": [
    {
     "name": "stdout",
     "output_type": "stream",
     "text": [
      "<class 'pandas.core.frame.DataFrame'>\n",
      "RangeIndex: 6630 entries, 0 to 6629\n",
      "Data columns (total 8 columns):\n",
      " #   Column                       Non-Null Count  Dtype \n",
      "---  ------                       --------------  ----- \n",
      " 0   Unnamed: 0                   6630 non-null   int64 \n",
      " 1   county                       6630 non-null   object\n",
      " 2   gallons_from_great_lakes     6630 non-null   int64 \n",
      " 3   gallons_from_groundwater     6630 non-null   int64 \n",
      " 4   gallons_from_inland_surface  6630 non-null   int64 \n",
      " 5   total_gallons_all_sources    6630 non-null   int64 \n",
      " 6   industry                     6630 non-null   object\n",
      " 7   year                         6630 non-null   int64 \n",
      "dtypes: int64(6), object(2)\n",
      "memory usage: 414.5+ KB\n"
     ]
    }
   ],
   "source": [
    "df1.info()"
   ]
  },
  {
   "cell_type": "markdown",
   "id": "140570b7-81d2-4e13-9c39-392b7f791b3a",
   "metadata": {},
   "source": [
    "### Dropping Features\n",
    "\n",
    "In addition to dropping the unnecessary columns, water source columns will be abbreviated to remove gallon indicators since all of these units are synonymous. Renaming the features will enable cleaner referencing for future manipulation."
   ]
  },
  {
   "cell_type": "code",
   "execution_count": 36,
   "id": "c4f90b38-4bbe-4084-aef1-00cbe53352f7",
   "metadata": {},
   "outputs": [],
   "source": [
    "df2 = df1.drop(columns = ['Unnamed: 0', 'county']).rename(columns = {\n",
    "    'gallons_from_great_lakes': 'great_lakes',\n",
    "    'gallons_from_groundwater': 'groundwater',\n",
    "    'gallons_from_inland_surface': 'inland',\n",
    "    'total_gallons_all_sources': 'total'\n",
    "})"
   ]
  },
  {
   "cell_type": "markdown",
   "id": "934d2778-a36e-4a38-98ed-b083e1cb9021",
   "metadata": {},
   "source": [
    "### Rearranging\n",
    "\n",
    "Year is the main explanatory variable to understand how water use per industry changes over time. Additionally, all other features are divided by industry. After aggregation, population data will be arranged between year and industry features because population is a response variable to the year but not to the industry. Industry being the driving explanatory variable for the water sources will be grouped to the left of the water source features. This rearrangement of features would then put total at the end of the DataFrame because it is the response variable to the different sources."
   ]
  },
  {
   "cell_type": "code",
   "execution_count": 38,
   "id": "14d8d31d-6a73-46ed-b3c5-8f7283c02dd8",
   "metadata": {},
   "outputs": [],
   "source": [
    "df2_cols = ['year', 'industry', 'inland', 'great_lakes', 'groundwater', 'total']\n",
    "df3 = df2[df2_cols]"
   ]
  },
  {
   "cell_type": "code",
   "execution_count": 39,
   "id": "7ad90888-61a2-461d-974b-175a3f3df19b",
   "metadata": {},
   "outputs": [
    {
     "data": {
      "text/plain": [
       "(6630, 6)"
      ]
     },
     "execution_count": 39,
     "metadata": {},
     "output_type": "execute_result"
    }
   ],
   "source": [
    "df3.shape"
   ]
  },
  {
   "cell_type": "code",
   "execution_count": 40,
   "id": "a4f56384-5f1c-41f7-a62c-46685ff8c89d",
   "metadata": {},
   "outputs": [
    {
     "data": {
      "text/plain": [
       "year\n",
       "2014    664\n",
       "2018    664\n",
       "2021    664\n",
       "2022    664\n",
       "2016    664\n",
       "2013    664\n",
       "2019    664\n",
       "2017    664\n",
       "2020    664\n",
       "2015    654\n",
       "Name: count, dtype: int64"
      ]
     },
     "execution_count": 40,
     "metadata": {},
     "output_type": "execute_result"
    }
   ],
   "source": [
    "df3['year'].value_counts()"
   ]
  },
  {
   "cell_type": "markdown",
   "id": "27aaa359-8f62-455e-adb4-c09d8bf7c47b",
   "metadata": {},
   "source": [
    "The industry feature has 8 values in total describing the various industry sectors that Michigan has divided its water use by. The value 'Total All Sectors', is a summation of all other industry values. During EDA and modeling, this value will be analyzed separately to prevent artificially weighing those features."
   ]
  },
  {
   "cell_type": "code",
   "execution_count": 42,
   "id": "db7f6fe9-3b3e-4c4c-806a-c853b8c56790",
   "metadata": {},
   "outputs": [
    {
     "data": {
      "text/plain": [
       "industry\n",
       "Total All Sectors            830\n",
       "Commercial-Institutional     830\n",
       "Electric Power Generation    830\n",
       "Irrigation                   830\n",
       "Livestock                    830\n",
       "Other                        830\n",
       "Public Water Supply          830\n",
       "Industrial-Manufacturing     820\n",
       "Name: count, dtype: int64"
      ]
     },
     "execution_count": 42,
     "metadata": {},
     "output_type": "execute_result"
    }
   ],
   "source": [
    "df3['industry'].value_counts()"
   ]
  },
  {
   "cell_type": "markdown",
   "id": "a28784e2-3c2d-4ac8-94a6-1e1f27b34328",
   "metadata": {},
   "source": [
    "### Aggregation\n",
    "\n",
    "Because counties have been removed from analysis, the DataFrame will now need to be aggregated to remove multiple counts of the explanatory features: year and industry. All aggregated features will be sum totalled. Even though this is a reduction in the number of observations, the weights of the individual observations will now be true to the year's estimations."
   ]
  },
  {
   "cell_type": "code",
   "execution_count": 44,
   "id": "df4f697f-7eed-47d1-857a-6f4e817f7890",
   "metadata": {},
   "outputs": [
    {
     "data": {
      "text/html": [
       "<div>\n",
       "<style scoped>\n",
       "    .dataframe tbody tr th:only-of-type {\n",
       "        vertical-align: middle;\n",
       "    }\n",
       "\n",
       "    .dataframe tbody tr th {\n",
       "        vertical-align: top;\n",
       "    }\n",
       "\n",
       "    .dataframe thead th {\n",
       "        text-align: right;\n",
       "    }\n",
       "</style>\n",
       "<table border=\"1\" class=\"dataframe\">\n",
       "  <thead>\n",
       "    <tr style=\"text-align: right;\">\n",
       "      <th></th>\n",
       "      <th>year</th>\n",
       "      <th>industry</th>\n",
       "      <th>inland</th>\n",
       "      <th>great_lakes</th>\n",
       "      <th>groundwater</th>\n",
       "      <th>total</th>\n",
       "    </tr>\n",
       "  </thead>\n",
       "  <tbody>\n",
       "    <tr>\n",
       "      <th>0</th>\n",
       "      <td>2013</td>\n",
       "      <td>Commercial-Institutional</td>\n",
       "      <td>126374387</td>\n",
       "      <td>1266400</td>\n",
       "      <td>2794492157</td>\n",
       "      <td>2922132944</td>\n",
       "    </tr>\n",
       "    <tr>\n",
       "      <th>1</th>\n",
       "      <td>2013</td>\n",
       "      <td>Electric Power Generation</td>\n",
       "      <td>391466708822</td>\n",
       "      <td>2531554552320</td>\n",
       "      <td>1085990916</td>\n",
       "      <td>2924107252058</td>\n",
       "    </tr>\n",
       "    <tr>\n",
       "      <th>2</th>\n",
       "      <td>2013</td>\n",
       "      <td>Industrial-Manufacturing</td>\n",
       "      <td>118823433041</td>\n",
       "      <td>111853330944</td>\n",
       "      <td>39327552184</td>\n",
       "      <td>270004316169</td>\n",
       "    </tr>\n",
       "    <tr>\n",
       "      <th>3</th>\n",
       "      <td>2013</td>\n",
       "      <td>Irrigation</td>\n",
       "      <td>42803613219</td>\n",
       "      <td>207733128</td>\n",
       "      <td>121431654825</td>\n",
       "      <td>164443001172</td>\n",
       "    </tr>\n",
       "    <tr>\n",
       "      <th>4</th>\n",
       "      <td>2013</td>\n",
       "      <td>Livestock</td>\n",
       "      <td>8345185168</td>\n",
       "      <td>0</td>\n",
       "      <td>9882541420</td>\n",
       "      <td>18227726588</td>\n",
       "    </tr>\n",
       "  </tbody>\n",
       "</table>\n",
       "</div>"
      ],
      "text/plain": [
       "   year                   industry        inland    great_lakes   groundwater  \\\n",
       "0  2013   Commercial-Institutional     126374387        1266400    2794492157   \n",
       "1  2013  Electric Power Generation  391466708822  2531554552320    1085990916   \n",
       "2  2013   Industrial-Manufacturing  118823433041   111853330944   39327552184   \n",
       "3  2013                 Irrigation   42803613219      207733128  121431654825   \n",
       "4  2013                  Livestock    8345185168              0    9882541420   \n",
       "\n",
       "           total  \n",
       "0     2922132944  \n",
       "1  2924107252058  \n",
       "2   270004316169  \n",
       "3   164443001172  \n",
       "4    18227726588  "
      ]
     },
     "execution_count": 44,
     "metadata": {},
     "output_type": "execute_result"
    }
   ],
   "source": [
    "df4 = df3.groupby(by = ['year', 'industry']).agg('sum').reset_index()\n",
    "df4.head()"
   ]
  },
  {
   "cell_type": "code",
   "execution_count": 45,
   "id": "54d50cb1-dc0c-4c23-a159-f319e7911c2d",
   "metadata": {},
   "outputs": [
    {
     "data": {
      "text/plain": [
       "(80, 6)"
      ]
     },
     "execution_count": 45,
     "metadata": {},
     "output_type": "execute_result"
    }
   ],
   "source": [
    "df4.shape"
   ]
  },
  {
   "cell_type": "markdown",
   "id": "b1c28015-8a05-4296-9a33-b367c29c5d9a",
   "metadata": {},
   "source": [
    "### Water Source\n",
    "\n",
    "The original data set distinguishes the water sources as different features. To make the data tidy and easier to analyze, the water source features will be aggregated into a single categorical feature and the gallons used will be a continuous feature. The number of gallons used is also difficult to interpret at the single unit scale. To better understand the relationships, gallons will be converted to billions of gallons to better compare with population."
   ]
  },
  {
   "cell_type": "code",
   "execution_count": 47,
   "id": "c1fcbe16-3bc3-47df-972d-eb30beeab363",
   "metadata": {},
   "outputs": [],
   "source": [
    "df5 = df4.melt(\n",
    "    id_vars = ['year', 'industry'],\n",
    "    value_vars = ['inland', 'great_lakes', 'groundwater', 'total'],\n",
    "    var_name = 'water_source',\n",
    "    value_name = 'gallons'\n",
    ")"
   ]
  },
  {
   "cell_type": "code",
   "execution_count": 48,
   "id": "260576a8-f204-4892-9933-b2ffe2baa9f7",
   "metadata": {},
   "outputs": [],
   "source": [
    "df6 = df5.copy()\n",
    "df6['water_use (Bil. gal)'] = df6['gallons'] / 1000000000"
   ]
  },
  {
   "cell_type": "code",
   "execution_count": 49,
   "id": "3819d6d3-8781-41a1-ae2c-e06714cbaf21",
   "metadata": {},
   "outputs": [
    {
     "data": {
      "text/html": [
       "<div>\n",
       "<style scoped>\n",
       "    .dataframe tbody tr th:only-of-type {\n",
       "        vertical-align: middle;\n",
       "    }\n",
       "\n",
       "    .dataframe tbody tr th {\n",
       "        vertical-align: top;\n",
       "    }\n",
       "\n",
       "    .dataframe thead th {\n",
       "        text-align: right;\n",
       "    }\n",
       "</style>\n",
       "<table border=\"1\" class=\"dataframe\">\n",
       "  <thead>\n",
       "    <tr style=\"text-align: right;\">\n",
       "      <th></th>\n",
       "      <th>year</th>\n",
       "      <th>industry</th>\n",
       "      <th>water_source</th>\n",
       "      <th>water_use (Bil. gal)</th>\n",
       "    </tr>\n",
       "  </thead>\n",
       "  <tbody>\n",
       "    <tr>\n",
       "      <th>0</th>\n",
       "      <td>2013</td>\n",
       "      <td>Commercial-Institutional</td>\n",
       "      <td>inland</td>\n",
       "      <td>0.126374</td>\n",
       "    </tr>\n",
       "    <tr>\n",
       "      <th>1</th>\n",
       "      <td>2013</td>\n",
       "      <td>Electric Power Generation</td>\n",
       "      <td>inland</td>\n",
       "      <td>391.466709</td>\n",
       "    </tr>\n",
       "    <tr>\n",
       "      <th>2</th>\n",
       "      <td>2013</td>\n",
       "      <td>Industrial-Manufacturing</td>\n",
       "      <td>inland</td>\n",
       "      <td>118.823433</td>\n",
       "    </tr>\n",
       "    <tr>\n",
       "      <th>3</th>\n",
       "      <td>2013</td>\n",
       "      <td>Irrigation</td>\n",
       "      <td>inland</td>\n",
       "      <td>42.803613</td>\n",
       "    </tr>\n",
       "    <tr>\n",
       "      <th>4</th>\n",
       "      <td>2013</td>\n",
       "      <td>Livestock</td>\n",
       "      <td>inland</td>\n",
       "      <td>8.345185</td>\n",
       "    </tr>\n",
       "  </tbody>\n",
       "</table>\n",
       "</div>"
      ],
      "text/plain": [
       "   year                   industry water_source  water_use (Bil. gal)\n",
       "0  2013   Commercial-Institutional       inland              0.126374\n",
       "1  2013  Electric Power Generation       inland            391.466709\n",
       "2  2013   Industrial-Manufacturing       inland            118.823433\n",
       "3  2013                 Irrigation       inland             42.803613\n",
       "4  2013                  Livestock       inland              8.345185"
      ]
     },
     "execution_count": 49,
     "metadata": {},
     "output_type": "execute_result"
    }
   ],
   "source": [
    "df7 = df6.drop(columns = 'gallons')\n",
    "df7.head()"
   ]
  },
  {
   "cell_type": "code",
   "execution_count": 50,
   "id": "0b0431f6-642c-4ac8-a5ca-eedbb593b714",
   "metadata": {},
   "outputs": [
    {
     "data": {
      "text/plain": [
       "(320, 4)"
      ]
     },
     "execution_count": 50,
     "metadata": {},
     "output_type": "execute_result"
    }
   ],
   "source": [
    "df7.shape"
   ]
  },
  {
   "cell_type": "markdown",
   "id": "0c70d00e-cc4c-4c0b-8a5f-52ae6680a903",
   "metadata": {},
   "source": [
    "## Joining Population to Water Use\n",
    "\n",
    "Now that the data has been aggregated and cleaned, the two DataFrames are now ready to be merged. Population will be merged to the water use data as a one-to-many relationship. Population data, like 'year', will be replicated throughout the DataFrame. The repetition of this data will not impact modeling since EDA will account for the relationships between the features."
   ]
  },
  {
   "cell_type": "code",
   "execution_count": 52,
   "id": "dd9d5f9f-b4ad-4865-88cf-27968fc03331",
   "metadata": {},
   "outputs": [
    {
     "data": {
      "text/html": [
       "<div>\n",
       "<style scoped>\n",
       "    .dataframe tbody tr th:only-of-type {\n",
       "        vertical-align: middle;\n",
       "    }\n",
       "\n",
       "    .dataframe tbody tr th {\n",
       "        vertical-align: top;\n",
       "    }\n",
       "\n",
       "    .dataframe thead th {\n",
       "        text-align: right;\n",
       "    }\n",
       "</style>\n",
       "<table border=\"1\" class=\"dataframe\">\n",
       "  <thead>\n",
       "    <tr style=\"text-align: right;\">\n",
       "      <th></th>\n",
       "      <th>year</th>\n",
       "      <th>industry</th>\n",
       "      <th>water_source</th>\n",
       "      <th>water_use (Bil. gal)</th>\n",
       "      <th>population</th>\n",
       "    </tr>\n",
       "  </thead>\n",
       "  <tbody>\n",
       "    <tr>\n",
       "      <th>0</th>\n",
       "      <td>2013</td>\n",
       "      <td>Commercial-Institutional</td>\n",
       "      <td>inland</td>\n",
       "      <td>0.126374</td>\n",
       "      <td>9914802</td>\n",
       "    </tr>\n",
       "    <tr>\n",
       "      <th>1</th>\n",
       "      <td>2013</td>\n",
       "      <td>Electric Power Generation</td>\n",
       "      <td>inland</td>\n",
       "      <td>391.466709</td>\n",
       "      <td>9914802</td>\n",
       "    </tr>\n",
       "    <tr>\n",
       "      <th>2</th>\n",
       "      <td>2013</td>\n",
       "      <td>Industrial-Manufacturing</td>\n",
       "      <td>inland</td>\n",
       "      <td>118.823433</td>\n",
       "      <td>9914802</td>\n",
       "    </tr>\n",
       "    <tr>\n",
       "      <th>3</th>\n",
       "      <td>2013</td>\n",
       "      <td>Irrigation</td>\n",
       "      <td>inland</td>\n",
       "      <td>42.803613</td>\n",
       "      <td>9914802</td>\n",
       "    </tr>\n",
       "    <tr>\n",
       "      <th>4</th>\n",
       "      <td>2013</td>\n",
       "      <td>Livestock</td>\n",
       "      <td>inland</td>\n",
       "      <td>8.345185</td>\n",
       "      <td>9914802</td>\n",
       "    </tr>\n",
       "  </tbody>\n",
       "</table>\n",
       "</div>"
      ],
      "text/plain": [
       "   year                   industry water_source  water_use (Bil. gal)  \\\n",
       "0  2013   Commercial-Institutional       inland              0.126374   \n",
       "1  2013  Electric Power Generation       inland            391.466709   \n",
       "2  2013   Industrial-Manufacturing       inland            118.823433   \n",
       "3  2013                 Irrigation       inland             42.803613   \n",
       "4  2013                  Livestock       inland              8.345185   \n",
       "\n",
       "   population  \n",
       "0     9914802  \n",
       "1     9914802  \n",
       "2     9914802  \n",
       "3     9914802  \n",
       "4     9914802  "
      ]
     },
     "execution_count": 52,
     "metadata": {},
     "output_type": "execute_result"
    }
   ],
   "source": [
    "df8 = df7.merge(popdf, how = 'left', on = 'year')\n",
    "df8.head()"
   ]
  },
  {
   "cell_type": "code",
   "execution_count": 53,
   "id": "e39721fa-3ab2-46fd-86c2-0eb2690d3f9b",
   "metadata": {},
   "outputs": [],
   "source": [
    "df9 = df8.copy()\n",
    "df9['population (Bil.)'] = df9['population'] / 1000000000\n",
    "df10 = df9.drop(columns = 'population')"
   ]
  },
  {
   "cell_type": "markdown",
   "id": "49008e8b-7d62-4682-bf0d-e2d8f94c00e0",
   "metadata": {},
   "source": [
    "### Rearrangement\n",
    "\n",
    "As mentioned previously, population will be moved between 'year' and 'water_source' because it is assumed to only be a function of time; not industry or water source. Additionally, for organizational purposes, the data will be sorted by year, water source, and industry. Population will also be converted to billions to be scalable with water use."
   ]
  },
  {
   "cell_type": "code",
   "execution_count": 55,
   "id": "7062bf93-20e1-455b-b754-2e40e9c6bf39",
   "metadata": {},
   "outputs": [],
   "source": [
    "df11_col = ['year', 'population (Bil.)', 'water_source', 'industry', 'water_use (Bil. gal)']"
   ]
  },
  {
   "cell_type": "code",
   "execution_count": 56,
   "id": "a97f6cdf-fed6-4cb1-8d59-52296f99fb1c",
   "metadata": {},
   "outputs": [],
   "source": [
    "df11 = df10[df11_col].sort_values(['year', 'water_source', 'industry'])"
   ]
  },
  {
   "cell_type": "code",
   "execution_count": 57,
   "id": "f2fc93bb-9d0f-4131-9797-5c1032d3dafc",
   "metadata": {},
   "outputs": [
    {
     "data": {
      "text/html": [
       "<div>\n",
       "<style scoped>\n",
       "    .dataframe tbody tr th:only-of-type {\n",
       "        vertical-align: middle;\n",
       "    }\n",
       "\n",
       "    .dataframe tbody tr th {\n",
       "        vertical-align: top;\n",
       "    }\n",
       "\n",
       "    .dataframe thead th {\n",
       "        text-align: right;\n",
       "    }\n",
       "</style>\n",
       "<table border=\"1\" class=\"dataframe\">\n",
       "  <thead>\n",
       "    <tr style=\"text-align: right;\">\n",
       "      <th></th>\n",
       "      <th>year</th>\n",
       "      <th>population (Bil.)</th>\n",
       "      <th>water_source</th>\n",
       "      <th>industry</th>\n",
       "      <th>water_use (Bil. gal)</th>\n",
       "    </tr>\n",
       "  </thead>\n",
       "  <tbody>\n",
       "    <tr>\n",
       "      <th>80</th>\n",
       "      <td>2013</td>\n",
       "      <td>0.009915</td>\n",
       "      <td>great_lakes</td>\n",
       "      <td>Commercial-Institutional</td>\n",
       "      <td>0.001266</td>\n",
       "    </tr>\n",
       "    <tr>\n",
       "      <th>81</th>\n",
       "      <td>2013</td>\n",
       "      <td>0.009915</td>\n",
       "      <td>great_lakes</td>\n",
       "      <td>Electric Power Generation</td>\n",
       "      <td>2531.554552</td>\n",
       "    </tr>\n",
       "    <tr>\n",
       "      <th>82</th>\n",
       "      <td>2013</td>\n",
       "      <td>0.009915</td>\n",
       "      <td>great_lakes</td>\n",
       "      <td>Industrial-Manufacturing</td>\n",
       "      <td>111.853331</td>\n",
       "    </tr>\n",
       "    <tr>\n",
       "      <th>83</th>\n",
       "      <td>2013</td>\n",
       "      <td>0.009915</td>\n",
       "      <td>great_lakes</td>\n",
       "      <td>Irrigation</td>\n",
       "      <td>0.207733</td>\n",
       "    </tr>\n",
       "    <tr>\n",
       "      <th>84</th>\n",
       "      <td>2013</td>\n",
       "      <td>0.009915</td>\n",
       "      <td>great_lakes</td>\n",
       "      <td>Livestock</td>\n",
       "      <td>0.000000</td>\n",
       "    </tr>\n",
       "    <tr>\n",
       "      <th>85</th>\n",
       "      <td>2013</td>\n",
       "      <td>0.009915</td>\n",
       "      <td>great_lakes</td>\n",
       "      <td>Other</td>\n",
       "      <td>0.164338</td>\n",
       "    </tr>\n",
       "    <tr>\n",
       "      <th>86</th>\n",
       "      <td>2013</td>\n",
       "      <td>0.009915</td>\n",
       "      <td>great_lakes</td>\n",
       "      <td>Public Water Supply</td>\n",
       "      <td>274.498809</td>\n",
       "    </tr>\n",
       "    <tr>\n",
       "      <th>87</th>\n",
       "      <td>2013</td>\n",
       "      <td>0.009915</td>\n",
       "      <td>great_lakes</td>\n",
       "      <td>Total All Sectors</td>\n",
       "      <td>2918.280030</td>\n",
       "    </tr>\n",
       "    <tr>\n",
       "      <th>160</th>\n",
       "      <td>2013</td>\n",
       "      <td>0.009915</td>\n",
       "      <td>groundwater</td>\n",
       "      <td>Commercial-Institutional</td>\n",
       "      <td>2.794492</td>\n",
       "    </tr>\n",
       "    <tr>\n",
       "      <th>161</th>\n",
       "      <td>2013</td>\n",
       "      <td>0.009915</td>\n",
       "      <td>groundwater</td>\n",
       "      <td>Electric Power Generation</td>\n",
       "      <td>1.085991</td>\n",
       "    </tr>\n",
       "  </tbody>\n",
       "</table>\n",
       "</div>"
      ],
      "text/plain": [
       "     year  population (Bil.) water_source                   industry  \\\n",
       "80   2013           0.009915  great_lakes   Commercial-Institutional   \n",
       "81   2013           0.009915  great_lakes  Electric Power Generation   \n",
       "82   2013           0.009915  great_lakes   Industrial-Manufacturing   \n",
       "83   2013           0.009915  great_lakes                 Irrigation   \n",
       "84   2013           0.009915  great_lakes                  Livestock   \n",
       "85   2013           0.009915  great_lakes                      Other   \n",
       "86   2013           0.009915  great_lakes        Public Water Supply   \n",
       "87   2013           0.009915  great_lakes          Total All Sectors   \n",
       "160  2013           0.009915  groundwater   Commercial-Institutional   \n",
       "161  2013           0.009915  groundwater  Electric Power Generation   \n",
       "\n",
       "     water_use (Bil. gal)  \n",
       "80               0.001266  \n",
       "81            2531.554552  \n",
       "82             111.853331  \n",
       "83               0.207733  \n",
       "84               0.000000  \n",
       "85               0.164338  \n",
       "86             274.498809  \n",
       "87            2918.280030  \n",
       "160              2.794492  \n",
       "161              1.085991  "
      ]
     },
     "execution_count": 57,
     "metadata": {},
     "output_type": "execute_result"
    }
   ],
   "source": [
    "df11.head(10)"
   ]
  },
  {
   "cell_type": "code",
   "execution_count": 58,
   "id": "5aed4af0-5e36-4cf1-9534-baffc54c7d8e",
   "metadata": {},
   "outputs": [
    {
     "data": {
      "text/plain": [
       "(320, 5)"
      ]
     },
     "execution_count": 58,
     "metadata": {},
     "output_type": "execute_result"
    }
   ],
   "source": [
    "df11.shape"
   ]
  },
  {
   "cell_type": "markdown",
   "id": "ba1e3069-478b-4dc1-b0ac-7341acd9d5af",
   "metadata": {},
   "source": [
    "### Null Values\n",
    "\n",
    "These data sets did not come with any null values initially; however, null values will be checked in the event of a corrrupted file."
   ]
  },
  {
   "cell_type": "code",
   "execution_count": 60,
   "id": "2f00136f-c10c-4264-af2d-64b846b53448",
   "metadata": {},
   "outputs": [
    {
     "data": {
      "text/plain": [
       "year                    0\n",
       "population (Bil.)       0\n",
       "water_source            0\n",
       "industry                0\n",
       "water_use (Bil. gal)    0\n",
       "dtype: int64"
      ]
     },
     "execution_count": 60,
     "metadata": {},
     "output_type": "execute_result"
    }
   ],
   "source": [
    "df11.isna().sum()"
   ]
  },
  {
   "cell_type": "markdown",
   "id": "28c792b2-61a1-44be-b381-c8b7ea026c63",
   "metadata": {},
   "source": [
    "### Year Data Type\n",
    "\n",
    "For EDA time series analysis, the years will be adjusted from integer to a datetime object and set as the index. Since there are seven rows eight rows for each year, time indexing for ARIMA time series analysis will be done later. All datetime objects and year indexing will be reverted back to integers as part of the preprocessing."
   ]
  },
  {
   "cell_type": "code",
   "execution_count": 62,
   "id": "1b805404-daab-4451-92d9-e0b61471b07b",
   "metadata": {},
   "outputs": [
    {
     "name": "stdout",
     "output_type": "stream",
     "text": [
      "<class 'pandas.core.frame.DataFrame'>\n",
      "Index: 320 entries, 80 to 319\n",
      "Data columns (total 5 columns):\n",
      " #   Column                Non-Null Count  Dtype  \n",
      "---  ------                --------------  -----  \n",
      " 0   year                  320 non-null    int64  \n",
      " 1   population (Bil.)     320 non-null    float64\n",
      " 2   water_source          320 non-null    object \n",
      " 3   industry              320 non-null    object \n",
      " 4   water_use (Bil. gal)  320 non-null    float64\n",
      "dtypes: float64(2), int64(1), object(2)\n",
      "memory usage: 15.0+ KB\n"
     ]
    }
   ],
   "source": [
    "df11.info()"
   ]
  },
  {
   "cell_type": "code",
   "execution_count": 63,
   "id": "59e0aeb0-1914-46ad-8f7d-bf88fdbb7318",
   "metadata": {},
   "outputs": [],
   "source": [
    "df12 = df11.copy()\n",
    "df12['year'] = pd.to_datetime(df10['year'], format = '%Y')"
   ]
  },
  {
   "cell_type": "code",
   "execution_count": 64,
   "id": "bafbf242-4b87-4071-be98-7cd26540b3dd",
   "metadata": {},
   "outputs": [
    {
     "name": "stdout",
     "output_type": "stream",
     "text": [
      "<class 'pandas.core.frame.DataFrame'>\n",
      "Index: 320 entries, 80 to 319\n",
      "Data columns (total 5 columns):\n",
      " #   Column                Non-Null Count  Dtype         \n",
      "---  ------                --------------  -----         \n",
      " 0   year                  320 non-null    datetime64[ns]\n",
      " 1   population (Bil.)     320 non-null    float64       \n",
      " 2   water_source          320 non-null    object        \n",
      " 3   industry              320 non-null    object        \n",
      " 4   water_use (Bil. gal)  320 non-null    float64       \n",
      "dtypes: datetime64[ns](1), float64(2), object(2)\n",
      "memory usage: 15.0+ KB\n"
     ]
    }
   ],
   "source": [
    "df12.info()"
   ]
  },
  {
   "cell_type": "markdown",
   "id": "60904c8c-2b2d-4d97-af24-7e227b35c818",
   "metadata": {},
   "source": [
    "## Removing Redundancies\n",
    "\n",
    "There are two redundant observation values: 'Total All Sectors' and 'total'. These two observations are already accounted for by the other observations and can be calculated during EDA. To prevent an overweighted feature, these two observations will be dropped."
   ]
  },
  {
   "cell_type": "code",
   "execution_count": 66,
   "id": "99278ad0-2b3f-4acc-a9c2-1116c84493c5",
   "metadata": {},
   "outputs": [
    {
     "data": {
      "text/plain": [
       "(210, 5)"
      ]
     },
     "execution_count": 66,
     "metadata": {},
     "output_type": "execute_result"
    }
   ],
   "source": [
    "df13 = df12[df12['industry'] != 'Total All Sectors']\n",
    "df = df13[df13['water_source'] != 'total']\n",
    "df.shape"
   ]
  },
  {
   "cell_type": "code",
   "execution_count": 67,
   "id": "ed4e040e-a0ea-45b1-87ef-07db5145e6ea",
   "metadata": {},
   "outputs": [
    {
     "name": "stdout",
     "output_type": "stream",
     "text": [
      "<class 'pandas.core.frame.DataFrame'>\n",
      "Index: 210 entries, 80 to 78\n",
      "Data columns (total 5 columns):\n",
      " #   Column                Non-Null Count  Dtype         \n",
      "---  ------                --------------  -----         \n",
      " 0   year                  210 non-null    datetime64[ns]\n",
      " 1   population (Bil.)     210 non-null    float64       \n",
      " 2   water_source          210 non-null    object        \n",
      " 3   industry              210 non-null    object        \n",
      " 4   water_use (Bil. gal)  210 non-null    float64       \n",
      "dtypes: datetime64[ns](1), float64(2), object(2)\n",
      "memory usage: 9.8+ KB\n"
     ]
    }
   ],
   "source": [
    "df.info()"
   ]
  },
  {
   "cell_type": "code",
   "execution_count": 68,
   "id": "91b04c8c-1c89-486e-8083-54ebc1a2df21",
   "metadata": {},
   "outputs": [
    {
     "data": {
      "text/html": [
       "<div>\n",
       "<style scoped>\n",
       "    .dataframe tbody tr th:only-of-type {\n",
       "        vertical-align: middle;\n",
       "    }\n",
       "\n",
       "    .dataframe tbody tr th {\n",
       "        vertical-align: top;\n",
       "    }\n",
       "\n",
       "    .dataframe thead th {\n",
       "        text-align: right;\n",
       "    }\n",
       "</style>\n",
       "<table border=\"1\" class=\"dataframe\">\n",
       "  <thead>\n",
       "    <tr style=\"text-align: right;\">\n",
       "      <th></th>\n",
       "      <th>year</th>\n",
       "      <th>population (Bil.)</th>\n",
       "      <th>water_use (Bil. gal)</th>\n",
       "    </tr>\n",
       "  </thead>\n",
       "  <tbody>\n",
       "    <tr>\n",
       "      <th>count</th>\n",
       "      <td>210</td>\n",
       "      <td>210.000000</td>\n",
       "      <td>210.000000</td>\n",
       "    </tr>\n",
       "    <tr>\n",
       "      <th>mean</th>\n",
       "      <td>2017-07-02 07:12:00</td>\n",
       "      <td>0.009983</td>\n",
       "      <td>158.091808</td>\n",
       "    </tr>\n",
       "    <tr>\n",
       "      <th>min</th>\n",
       "      <td>2013-01-01 00:00:00</td>\n",
       "      <td>0.009915</td>\n",
       "      <td>0.000000</td>\n",
       "    </tr>\n",
       "    <tr>\n",
       "      <th>25%</th>\n",
       "      <td>2015-01-01 00:00:00</td>\n",
       "      <td>0.009934</td>\n",
       "      <td>0.994774</td>\n",
       "    </tr>\n",
       "    <tr>\n",
       "      <th>50%</th>\n",
       "      <td>2017-07-02 12:00:00</td>\n",
       "      <td>0.009981</td>\n",
       "      <td>6.507803</td>\n",
       "    </tr>\n",
       "    <tr>\n",
       "      <th>75%</th>\n",
       "      <td>2020-01-01 00:00:00</td>\n",
       "      <td>0.010033</td>\n",
       "      <td>86.786002</td>\n",
       "    </tr>\n",
       "    <tr>\n",
       "      <th>max</th>\n",
       "      <td>2022-01-01 00:00:00</td>\n",
       "      <td>0.010071</td>\n",
       "      <td>2783.510658</td>\n",
       "    </tr>\n",
       "    <tr>\n",
       "      <th>std</th>\n",
       "      <td>NaN</td>\n",
       "      <td>0.000049</td>\n",
       "      <td>490.555693</td>\n",
       "    </tr>\n",
       "  </tbody>\n",
       "</table>\n",
       "</div>"
      ],
      "text/plain": [
       "                      year  population (Bil.)  water_use (Bil. gal)\n",
       "count                  210         210.000000            210.000000\n",
       "mean   2017-07-02 07:12:00           0.009983            158.091808\n",
       "min    2013-01-01 00:00:00           0.009915              0.000000\n",
       "25%    2015-01-01 00:00:00           0.009934              0.994774\n",
       "50%    2017-07-02 12:00:00           0.009981              6.507803\n",
       "75%    2020-01-01 00:00:00           0.010033             86.786002\n",
       "max    2022-01-01 00:00:00           0.010071           2783.510658\n",
       "std                    NaN           0.000049            490.555693"
      ]
     },
     "execution_count": 68,
     "metadata": {},
     "output_type": "execute_result"
    }
   ],
   "source": [
    "df.describe()"
   ]
  },
  {
   "cell_type": "markdown",
   "id": "f664b7c6-7eae-4f7d-bea9-ad83c6eedf19",
   "metadata": {},
   "source": [
    "## Outliers\n",
    "\n",
    "Even though no outliers are expected with a "
   ]
  },
  {
   "cell_type": "code",
   "execution_count": 70,
   "id": "8d4010ec-7cd6-494b-bb65-ded7501d1bf4",
   "metadata": {},
   "outputs": [
    {
     "data": {
      "image/png": "[encoded data removed]",
      "text/plain": [
       "<Figure size 500x500 with 1 Axes>"
      ]
     },
     "metadata": {},
     "output_type": "display_data"
    }
   ],
   "source": [
    "sns.catplot(data = df, y = 'water_use (Bil. gal)', x = 'industry', kind = 'box')\n",
    "plt.xticks(rotation = 90)\n",
    "plt.tight_layout()\n",
    "plt.show()"
   ]
  },
  {
   "cell_type": "markdown",
   "id": "00e74a6e-c24e-4c33-85df-426aca030fc1",
   "metadata": {},
   "source": [
    "# Exploratory Data Analysis\n",
    "\n",
    "The goal of this project is to forecast Michigan's water use; using industries as a potential explanatory feature. To better understand this, water use data for each industry will be plotted over the years to understand how it changes over time. Additionally, correlations between industries must be drawn to see if there are any underlying relationships between changes over time. Lastly, each industry will be analyzed using the autocorrelation function to show any relationships from the data within itself over time.\n",
    "\n",
    "* How does water use change over time?\n",
    "* What relationships exist between industry, water source, and population?\n",
    "* Are there annual changes in water usage?"
   ]
  },
  {
   "cell_type": "markdown",
   "id": "bac3353a-89be-4725-a19e-9c60bd78aeb7",
   "metadata": {},
   "source": [
    "## How does water use change over time?\n",
    "\n",
    "To answer this question, industry water use data for each of the water sources (Great Lakes, Groundwater, Inland, and Total) will be plotted over years to show the industry trends. Initial regression will be analyzed to see whether or not linear relationships exist by industry. "
   ]
  },
  {
   "cell_type": "markdown",
   "id": "3091b4c8-751a-4970-b155-dd07557e47a3",
   "metadata": {},
   "source": [
    "### Water Use"
   ]
  },
  {
   "cell_type": "code",
   "execution_count": 74,
   "id": "e5416c2d-eb9d-4424-bfbc-2c3adfacee2b",
   "metadata": {},
   "outputs": [
    {
     "data": {
      "image/png": "[encoded data removed]",
      "text/plain": [
       "<Figure size 1200x1200 with 8 Axes>"
      ]
     },
     "metadata": {},
     "output_type": "display_data"
    }
   ],
   "source": [
    "ind_val = df['industry'].unique()\n",
    "\n",
    "fig, ax = plt.subplots(4, 2, figsize = (12, 12))\n",
    "ax = ax.flatten()\n",
    "\n",
    "for i, ind in enumerate(ind_val):\n",
    "    sns.lineplot(\n",
    "        data = df[df['industry'] == ind],\n",
    "        x = 'year',\n",
    "        y = 'water_use (Bil. gal)',\n",
    "        hue = 'water_source',\n",
    "        legend = False,\n",
    "        ax = ax[i]\n",
    "    ).set_title(ind)\n",
    "    ax[i].set_ylabel('Water Use (Bil. Gal)')\n",
    "    ax[i].set_xlabel('Year')\n",
    "ax[7].axis('off')\n",
    "\n",
    "df_zeros = df.set_index('year')\n",
    "numeric_cols = df_zeros.select_dtypes(include = [np.number]).columns\n",
    "df_zeros[numeric_cols] = -np.inf\n",
    "df_zeros = df_zeros.reset_index()\n",
    "\n",
    "sns.lineplot(\n",
    "    data = df_zeros,\n",
    "    x = None,\n",
    "    y = 'water_use (Bil. gal)',\n",
    "    hue = 'water_source',\n",
    "    legend = True,\n",
    "    ax = ax[-1]\n",
    ").set_title(ind)\n",
    "ax[-1].set_ylim([0, 1])\n",
    "sns.move_legend(ax[-1], 'center', frameon = False, fontsize = 'large', title_fontsize = 'x-large')\n",
    "\n",
    "fig.suptitle('Industry Water Use By Water Sources Over Time', fontsize = 16)\n",
    "plt.tight_layout()\n",
    "\n",
    "plt.savefig('figures/fig_1.png')\n",
    "plt.show()"
   ]
  },
  {
   "cell_type": "markdown",
   "id": "332ba2b0-7f9d-4ef3-bfeb-9f608a35462f",
   "metadata": {},
   "source": [
    "Overall only the inland water source for industrial manufacturing and general use; and groundwater for general use increased. The public water supply from all water sources had the least variability; whereas industrial manufacturing had some of the highest variability over the years. Electrical power generation had the largest water consumption out of all the industries, followed by the public water supply. Both industries were the only ones to be mainly sourced by the Great Lakes. The agricultural industries (irrigation and livestock) pulled most of there water from groundwater and inland sources. This may be due to the vast expanse of low urban areas being further from coastal regions near the Great Lakes."
   ]
  },
  {
   "cell_type": "markdown",
   "id": "9f080c7a-bc6e-4466-b2f0-86ad72b5f904",
   "metadata": {},
   "source": [
    "### Population"
   ]
  },
  {
   "cell_type": "code",
   "execution_count": 77,
   "id": "b2294c8c-6751-4182-a82a-65dda9aeab5a",
   "metadata": {},
   "outputs": [
    {
     "data": {
      "image/png": "[encoded data removed]",
      "text/plain": [
       "<Figure size 640x480 with 2 Axes>"
      ]
     },
     "metadata": {},
     "output_type": "display_data"
    }
   ],
   "source": [
    "fig, ax1 = plt.subplots()\n",
    "\n",
    "color = 'tab:red'\n",
    "ax1.plot(df['year'], df['population (Bil.)'], color = color)\n",
    "ax1.set_xlabel('Year')\n",
    "ax1.set_ylabel('Billions of People', color = color)\n",
    "ax1.tick_params(axis = 'y', labelcolor = color)\n",
    "\n",
    "ax2 = ax1.twinx()\n",
    "\n",
    "wu = df.groupby('year')['water_use (Bil. gal)'].sum()\n",
    "\n",
    "color = 'tab:blue'\n",
    "ax2.plot(wu.index, wu, color = color)\n",
    "ax2.set_ylabel('Billions of Gallons', color = color)\n",
    "ax2.tick_params(axis = 'y', labelcolor = color)\n",
    "\n",
    "plt.title('Population Growth Compared with Total Water Use from 2013 - 2022')\n",
    "plt.savefig('figures/fig_2.png')\n",
    "plt.show()"
   ]
  },
  {
   "cell_type": "markdown",
   "id": "87368ec0-3207-45dc-b7f9-12e6ec9c44e9",
   "metadata": {},
   "source": [
    "The Michigan population increased 1.2% from 9.9 million to 10.0 million people. Compared to the global growth rate in 2022 (0.83%), this is a major increase in the population. Despite the population increasing, total water use decreased at a similar rate. Although the result contradicts the initial assumption that an increasing population may increase water use demands, a real relationship between population and water use may still exist. To understand the relationship between the two features, linear regression is required."
   ]
  },
  {
   "cell_type": "markdown",
   "id": "4686f2d8-0eb4-4276-bba6-f0da05052ce4",
   "metadata": {},
   "source": [
    "## What relationships exist between industry, water source, and population?\n",
    "\n",
    "As shown by the preliminary time plotting, a negative linear relationship may exist between total water use and population. To understand whether population may be related to other factors, correlations will be calculated by water source for each industry."
   ]
  },
  {
   "cell_type": "markdown",
   "id": "3f159f18-d6fb-440c-8ec5-8cf8c9fc1e6e",
   "metadata": {},
   "source": [
    "### How does population relate to general water use?"
   ]
  },
  {
   "cell_type": "code",
   "execution_count": 81,
   "id": "5169cd82-0a31-469e-a0fc-b81753b1d64b",
   "metadata": {},
   "outputs": [],
   "source": [
    "pop1 = df.groupby('year')['population (Bil.)'].mean().reset_index()\n",
    "wu2 = wu.reset_index()\n",
    "wp = pop1.merge(wu2, on = 'year')"
   ]
  },
  {
   "cell_type": "code",
   "execution_count": 82,
   "id": "c9a0f6d2-67df-46d5-b987-8b24d41181e5",
   "metadata": {},
   "outputs": [],
   "source": [
    "wp2 = wp[['population (Bil.)']]\n",
    "wp3 = sm.add_constant(wp2)"
   ]
  },
  {
   "cell_type": "code",
   "execution_count": 83,
   "id": "d0caa18c-f664-4fd5-94d5-f1622cd73cee",
   "metadata": {},
   "outputs": [
    {
     "name": "stdout",
     "output_type": "stream",
     "text": [
      "                             OLS Regression Results                             \n",
      "================================================================================\n",
      "Dep. Variable:     water_use (Bil. gal)   R-squared:                       0.619\n",
      "Model:                              OLS   Adj. R-squared:                  0.571\n",
      "Method:                   Least Squares   F-statistic:                     13.00\n",
      "Date:                  Sat, 03 Aug 2024   Prob (F-statistic):            0.00693\n",
      "Time:                          15:34:58   Log-Likelihood:                -67.486\n",
      "No. Observations:                    10   AIC:                             139.0\n",
      "Df Residuals:                         8   BIC:                             139.6\n",
      "Df Model:                             1                                         \n",
      "Covariance Type:              nonrobust                                         \n",
      "=====================================================================================\n",
      "                        coef    std err          t      P>|t|      [0.025      0.975]\n",
      "-------------------------------------------------------------------------------------\n",
      "const              5.721e+04   1.49e+04      3.827      0.005    2.27e+04    9.17e+04\n",
      "population (Bil.) -5.398e+06    1.5e+06     -3.605      0.007   -8.85e+06   -1.95e+06\n",
      "==============================================================================\n",
      "Omnibus:                        6.025   Durbin-Watson:                   2.908\n",
      "Prob(Omnibus):                  0.049   Jarque-Bera (JB):                2.091\n",
      "Skew:                           1.009   Prob(JB):                        0.352\n",
      "Kurtosis:                       3.973   Cond. No.                     2.05e+04\n",
      "==============================================================================\n",
      "\n",
      "Notes:\n",
      "[1] Standard Errors assume that the covariance matrix of the errors is correctly specified.\n",
      "[2] The condition number is large, 2.05e+04. This might indicate that there are\n",
      "strong multicollinearity or other numerical problems.\n"
     ]
    }
   ],
   "source": [
    "results = sm.OLS(wp['water_use (Bil. gal)'], wp3).fit()\n",
    "print(results.summary())"
   ]
  },
  {
   "cell_type": "code",
   "execution_count": 84,
   "id": "b3b43079-b23a-4427-9d8e-04089ede757e",
   "metadata": {},
   "outputs": [
    {
     "name": "stdout",
     "output_type": "stream",
     "text": [
      "Intercept: 57207.685869625566\n",
      "Slope: -5398152.759593913\n"
     ]
    }
   ],
   "source": [
    "wp_b = results.params['const']\n",
    "wp_a = results.params['population (Bil.)']\n",
    "print(f'Intercept: {wp_b}')\n",
    "print(f'Slope: {wp_a}')"
   ]
  },
  {
   "cell_type": "code",
   "execution_count": 85,
   "id": "66443cf9-b061-4bb5-ba4c-548e8a30bbfd",
   "metadata": {},
   "outputs": [],
   "source": [
    "wp_x_theor = np.linspace(wp['population (Bil.)'].min(), wp['population (Bil.)'].max(), 100)\n",
    "wp_y_theor = (wp_a * wp_x_theor) + wp_b"
   ]
  },
  {
   "cell_type": "code",
   "execution_count": 86,
   "id": "0950adf4-3744-4b6c-9833-70b58d4d446c",
   "metadata": {},
   "outputs": [
    {
     "data": {
      "image/png": "[encoded data removed]",
      "text/plain": [
       "<Figure size 640x480 with 1 Axes>"
      ]
     },
     "metadata": {},
     "output_type": "display_data"
    }
   ],
   "source": [
    "wp_reg = sns.lineplot(x = wp_x_theor, y = wp_y_theor, color = 'blue', alpha = 0.5)\n",
    "wp_reg = sns.scatterplot(y = wp['water_use (Bil. gal)'], x = wp['population (Bil.)'])\n",
    "wp_reg = plt.ylabel('Billions of Gallons')\n",
    "wp_reg = plt.xlabel('Billions of People')\n",
    "wp_reg = plt.title('Relationship Between Water Use and Population')\n",
    "plt.savefig('figures/fig_3.png')\n",
    "plt.show()"
   ]
  },
  {
   "cell_type": "markdown",
   "id": "90128fbe-4ec1-4537-b02f-5c8c6c338feb",
   "metadata": {},
   "source": [
    "As expected, there is a significant (p-value = 0.007) negative linear relationship (adjusted r-squared = 0.571) between the population and total water use. The relationship indicates that for every one new person in Michigan, the total number of gallons used drops by about 0.005 billion. The sample size is low, so more archived data and experimentation would be able to reveal any causal relationship. With the total water use relationship established, the different industries should show a similar trend."
   ]
  },
  {
   "cell_type": "markdown",
   "id": "cb4dcc2b-7ac7-4654-9376-4d1a79e771f2",
   "metadata": {},
   "source": [
    "### How does population relate to each industry?"
   ]
  },
  {
   "cell_type": "code",
   "execution_count": 89,
   "id": "f8c976a0-e65c-40dd-9c6a-bba40674dc50",
   "metadata": {},
   "outputs": [],
   "source": [
    "pop2 = pop1[['population (Bil.)']]\n",
    "pop = sm.add_constant(pop2)\n",
    "y1 = df.groupby(['year', 'industry'])['water_use (Bil. gal)'].sum().reset_index()"
   ]
  },
  {
   "cell_type": "code",
   "execution_count": 90,
   "id": "1a11d741-60d7-4e88-b61c-59026020a916",
   "metadata": {},
   "outputs": [],
   "source": [
    "pi_list = []\n",
    "\n",
    "for ind in ind_val:\n",
    "    y = y1[y1['industry'] == ind].reset_index()\n",
    "    results = sm.OLS(y['water_use (Bil. gal)'], pop).fit()\n",
    "    pi_dict = {\n",
    "        'industry': ind,\n",
    "        'slope': results.params['population (Bil.)'],\n",
    "        'intercept': results.params['const'],\n",
    "        'R-squared': results.rsquared,\n",
    "        'Adj. R-squared': results.rsquared_adj,\n",
    "        'Prob (F-statistic)': results.f_pvalue\n",
    "    }\n",
    "    pi_list.append(pi_dict)"
   ]
  },
  {
   "cell_type": "code",
   "execution_count": 91,
   "id": "2b9e9c14-c48a-4ebb-92c5-8ebab4eea3db",
   "metadata": {},
   "outputs": [
    {
     "data": {
      "text/html": [
       "<div>\n",
       "<style scoped>\n",
       "    .dataframe tbody tr th:only-of-type {\n",
       "        vertical-align: middle;\n",
       "    }\n",
       "\n",
       "    .dataframe tbody tr th {\n",
       "        vertical-align: top;\n",
       "    }\n",
       "\n",
       "    .dataframe thead th {\n",
       "        text-align: right;\n",
       "    }\n",
       "</style>\n",
       "<table border=\"1\" class=\"dataframe\">\n",
       "  <thead>\n",
       "    <tr style=\"text-align: right;\">\n",
       "      <th></th>\n",
       "      <th>industry</th>\n",
       "      <th>slope</th>\n",
       "      <th>intercept</th>\n",
       "      <th>R-squared</th>\n",
       "      <th>Adj. R-squared</th>\n",
       "      <th>Prob (F-statistic)</th>\n",
       "    </tr>\n",
       "  </thead>\n",
       "  <tbody>\n",
       "    <tr>\n",
       "      <th>0</th>\n",
       "      <td>Commercial-Institutional</td>\n",
       "      <td>-1.475124e+04</td>\n",
       "      <td>149.468799</td>\n",
       "      <td>0.695470</td>\n",
       "      <td>0.657404</td>\n",
       "      <td>0.002708</td>\n",
       "    </tr>\n",
       "    <tr>\n",
       "      <th>1</th>\n",
       "      <td>Public Water Supply</td>\n",
       "      <td>-3.271474e+05</td>\n",
       "      <td>3606.327297</td>\n",
       "      <td>0.673922</td>\n",
       "      <td>0.633162</td>\n",
       "      <td>0.003602</td>\n",
       "    </tr>\n",
       "    <tr>\n",
       "      <th>2</th>\n",
       "      <td>Electric Power Generation</td>\n",
       "      <td>-4.598570e+06</td>\n",
       "      <td>48464.624618</td>\n",
       "      <td>0.544615</td>\n",
       "      <td>0.487692</td>\n",
       "      <td>0.014819</td>\n",
       "    </tr>\n",
       "    <tr>\n",
       "      <th>3</th>\n",
       "      <td>Other</td>\n",
       "      <td>2.904343e+04</td>\n",
       "      <td>-283.958503</td>\n",
       "      <td>0.470636</td>\n",
       "      <td>0.404466</td>\n",
       "      <td>0.028498</td>\n",
       "    </tr>\n",
       "    <tr>\n",
       "      <th>4</th>\n",
       "      <td>Irrigation</td>\n",
       "      <td>-3.191146e+05</td>\n",
       "      <td>3316.240230</td>\n",
       "      <td>0.379757</td>\n",
       "      <td>0.302227</td>\n",
       "      <td>0.057793</td>\n",
       "    </tr>\n",
       "    <tr>\n",
       "      <th>5</th>\n",
       "      <td>Livestock</td>\n",
       "      <td>-2.042918e+04</td>\n",
       "      <td>219.821621</td>\n",
       "      <td>0.068883</td>\n",
       "      <td>-0.047506</td>\n",
       "      <td>0.463817</td>\n",
       "    </tr>\n",
       "    <tr>\n",
       "      <th>6</th>\n",
       "      <td>Industrial-Manufacturing</td>\n",
       "      <td>-1.471843e+05</td>\n",
       "      <td>1735.161808</td>\n",
       "      <td>0.029759</td>\n",
       "      <td>-0.091521</td>\n",
       "      <td>0.633671</td>\n",
       "    </tr>\n",
       "  </tbody>\n",
       "</table>\n",
       "</div>"
      ],
      "text/plain": [
       "                    industry         slope     intercept  R-squared  \\\n",
       "0   Commercial-Institutional -1.475124e+04    149.468799   0.695470   \n",
       "1        Public Water Supply -3.271474e+05   3606.327297   0.673922   \n",
       "2  Electric Power Generation -4.598570e+06  48464.624618   0.544615   \n",
       "3                      Other  2.904343e+04   -283.958503   0.470636   \n",
       "4                 Irrigation -3.191146e+05   3316.240230   0.379757   \n",
       "5                  Livestock -2.042918e+04    219.821621   0.068883   \n",
       "6   Industrial-Manufacturing -1.471843e+05   1735.161808   0.029759   \n",
       "\n",
       "   Adj. R-squared  Prob (F-statistic)  \n",
       "0        0.657404            0.002708  \n",
       "1        0.633162            0.003602  \n",
       "2        0.487692            0.014819  \n",
       "3        0.404466            0.028498  \n",
       "4        0.302227            0.057793  \n",
       "5       -0.047506            0.463817  \n",
       "6       -0.091521            0.633671  "
      ]
     },
     "execution_count": 91,
     "metadata": {},
     "output_type": "execute_result"
    }
   ],
   "source": [
    "pi_df = pd.DataFrame(pi_list).sort_values(by = 'Prob (F-statistic)').reset_index(drop = True)\n",
    "save_table(pi_df, 'figures/table_1.png')\n",
    "pi_df"
   ]
  },
  {
   "cell_type": "markdown",
   "id": "ff8d22a3-ce44-472f-91c4-f3884538f657",
   "metadata": {},
   "source": [
    "In relation to an increasing population, commercial, public water supplies, and electric power all decrease in water use. General use is the only industry that scaled with population growth. Surprisingly, the agricultural industries did not scale as much with the growing population. This may be due to an increased reliance on those industries creating a weak negative linear relationship. Industrial manufacturing also had a weak relationship with population. Industrial manufacturing may account for demand out of state, and so may not be as heavily influenced by the growing population."
   ]
  },
  {
   "cell_type": "markdown",
   "id": "a1cc3711-1c8b-4186-94b9-cd9d2c057f8c",
   "metadata": {},
   "source": [
    "### How does population relate to each water source?"
   ]
  },
  {
   "cell_type": "code",
   "execution_count": 94,
   "id": "d533a8c6-d711-42c3-9fee-ed8210fd7366",
   "metadata": {},
   "outputs": [],
   "source": [
    "y2 = df.groupby(['year', 'water_source'])['water_use (Bil. gal)'].sum().reset_index()\n",
    "wat_val = df['water_source'].unique()"
   ]
  },
  {
   "cell_type": "code",
   "execution_count": 95,
   "id": "2ee8af2e-01db-4bd1-83a4-627886d204be",
   "metadata": {},
   "outputs": [
    {
     "data": {
      "text/html": [
       "<div>\n",
       "<style scoped>\n",
       "    .dataframe tbody tr th:only-of-type {\n",
       "        vertical-align: middle;\n",
       "    }\n",
       "\n",
       "    .dataframe tbody tr th {\n",
       "        vertical-align: top;\n",
       "    }\n",
       "\n",
       "    .dataframe thead th {\n",
       "        text-align: right;\n",
       "    }\n",
       "</style>\n",
       "<table border=\"1\" class=\"dataframe\">\n",
       "  <thead>\n",
       "    <tr style=\"text-align: right;\">\n",
       "      <th></th>\n",
       "      <th>water_source</th>\n",
       "      <th>slope</th>\n",
       "      <th>intercept</th>\n",
       "      <th>R-squared</th>\n",
       "      <th>Adj. R-squared</th>\n",
       "      <th>Prob (F-statistic)</th>\n",
       "    </tr>\n",
       "  </thead>\n",
       "  <tbody>\n",
       "    <tr>\n",
       "      <th>0</th>\n",
       "      <td>inland</td>\n",
       "      <td>-1.630446e+06</td>\n",
       "      <td>16697.765387</td>\n",
       "      <td>0.822980</td>\n",
       "      <td>0.800853</td>\n",
       "      <td>0.000290</td>\n",
       "    </tr>\n",
       "    <tr>\n",
       "      <th>1</th>\n",
       "      <td>great_lakes</td>\n",
       "      <td>-3.544232e+06</td>\n",
       "      <td>38047.915600</td>\n",
       "      <td>0.449927</td>\n",
       "      <td>0.381168</td>\n",
       "      <td>0.033750</td>\n",
       "    </tr>\n",
       "    <tr>\n",
       "      <th>2</th>\n",
       "      <td>groundwater</td>\n",
       "      <td>-2.234743e+05</td>\n",
       "      <td>2462.004882</td>\n",
       "      <td>0.140219</td>\n",
       "      <td>0.032747</td>\n",
       "      <td>0.286388</td>\n",
       "    </tr>\n",
       "  </tbody>\n",
       "</table>\n",
       "</div>"
      ],
      "text/plain": [
       "  water_source         slope     intercept  R-squared  Adj. R-squared  \\\n",
       "0       inland -1.630446e+06  16697.765387   0.822980        0.800853   \n",
       "1  great_lakes -3.544232e+06  38047.915600   0.449927        0.381168   \n",
       "2  groundwater -2.234743e+05   2462.004882   0.140219        0.032747   \n",
       "\n",
       "   Prob (F-statistic)  \n",
       "0            0.000290  \n",
       "1            0.033750  \n",
       "2            0.286388  "
      ]
     },
     "execution_count": 95,
     "metadata": {},
     "output_type": "execute_result"
    }
   ],
   "source": [
    "pw_list = []\n",
    "\n",
    "for wat in wat_val:\n",
    "    y = y2[y2['water_source'] == wat].reset_index()\n",
    "    results = sm.OLS(y['water_use (Bil. gal)'], pop).fit()\n",
    "    pw_dict = {\n",
    "        'water_source': wat,\n",
    "        'slope': results.params['population (Bil.)'],\n",
    "        'intercept': results.params['const'],\n",
    "        'R-squared': results.rsquared,\n",
    "        'Adj. R-squared': results.rsquared_adj,\n",
    "        'Prob (F-statistic)': results.f_pvalue\n",
    "    }\n",
    "    pw_list.append(pw_dict)\n",
    "\n",
    "pw_df = pd.DataFrame(pw_list).sort_values(by = 'Prob (F-statistic)').reset_index(drop = True)\n",
    "save_table(pw_df, 'figures/table_2.png')\n",
    "pw_df"
   ]
  },
  {
   "cell_type": "markdown",
   "id": "e5367bb2-4542-47cb-a85c-bc59fe312b30",
   "metadata": {},
   "source": [
    "Groundwater is the least related to population growth which may be represented by the less publicly accessible industries like commercial irrigation. The most impacted water source is inland sources which may be explained by the geographic distribution of the population. Only so many people can aggregate near the Great Lakes so taking advantage of rivers and lakes across the state makes the most sense. What is interesting is that there exists a negative relationship between all water use by source and industry across the years. More experimentation would be required to identify the reason for this downward trend."
   ]
  },
  {
   "cell_type": "markdown",
   "id": "21729a39-9f58-4ba2-b9fc-98e412e667bc",
   "metadata": {},
   "source": [
    "### How do the different industries relate internally?"
   ]
  },
  {
   "cell_type": "code",
   "execution_count": 98,
   "id": "fa4108d8-fd2c-46be-8a2b-b919ef455a84",
   "metadata": {},
   "outputs": [
    {
     "data": {
      "text/html": [
       "<div>\n",
       "<style scoped>\n",
       "    .dataframe tbody tr th:only-of-type {\n",
       "        vertical-align: middle;\n",
       "    }\n",
       "\n",
       "    .dataframe tbody tr th {\n",
       "        vertical-align: top;\n",
       "    }\n",
       "\n",
       "    .dataframe thead th {\n",
       "        text-align: right;\n",
       "    }\n",
       "</style>\n",
       "<table border=\"1\" class=\"dataframe\">\n",
       "  <thead>\n",
       "    <tr style=\"text-align: right;\">\n",
       "      <th>water_source</th>\n",
       "      <th>great_lakes</th>\n",
       "      <th>groundwater</th>\n",
       "      <th>inland</th>\n",
       "    </tr>\n",
       "    <tr>\n",
       "      <th>industry</th>\n",
       "      <th></th>\n",
       "      <th></th>\n",
       "      <th></th>\n",
       "    </tr>\n",
       "  </thead>\n",
       "  <tbody>\n",
       "    <tr>\n",
       "      <th>Commercial-Institutional</th>\n",
       "      <td>0.430743</td>\n",
       "      <td>17.272733</td>\n",
       "      <td>4.423199</td>\n",
       "    </tr>\n",
       "    <tr>\n",
       "      <th>Electric Power Generation</th>\n",
       "      <td>23052.422024</td>\n",
       "      <td>11.880038</td>\n",
       "      <td>2523.795037</td>\n",
       "    </tr>\n",
       "    <tr>\n",
       "      <th>Industrial-Manufacturing</th>\n",
       "      <td>1038.728813</td>\n",
       "      <td>397.538748</td>\n",
       "      <td>1222.488999</td>\n",
       "    </tr>\n",
       "    <tr>\n",
       "      <th>Irrigation</th>\n",
       "      <td>2.100234</td>\n",
       "      <td>993.139743</td>\n",
       "      <td>311.137998</td>\n",
       "    </tr>\n",
       "    <tr>\n",
       "      <th>Livestock</th>\n",
       "      <td>0.000000</td>\n",
       "      <td>71.871307</td>\n",
       "      <td>86.975118</td>\n",
       "    </tr>\n",
       "    <tr>\n",
       "      <th>Other</th>\n",
       "      <td>0.723699</td>\n",
       "      <td>43.086659</td>\n",
       "      <td>15.902927</td>\n",
       "    </tr>\n",
       "    <tr>\n",
       "      <th>Public Water Supply</th>\n",
       "      <td>2577.159004</td>\n",
       "      <td>776.646383</td>\n",
       "      <td>51.556252</td>\n",
       "    </tr>\n",
       "  </tbody>\n",
       "</table>\n",
       "</div>"
      ],
      "text/plain": [
       "water_source                great_lakes  groundwater       inland\n",
       "industry                                                         \n",
       "Commercial-Institutional       0.430743    17.272733     4.423199\n",
       "Electric Power Generation  23052.422024    11.880038  2523.795037\n",
       "Industrial-Manufacturing    1038.728813   397.538748  1222.488999\n",
       "Irrigation                     2.100234   993.139743   311.137998\n",
       "Livestock                      0.000000    71.871307    86.975118\n",
       "Other                          0.723699    43.086659    15.902927\n",
       "Public Water Supply         2577.159004   776.646383    51.556252"
      ]
     },
     "execution_count": 98,
     "metadata": {},
     "output_type": "execute_result"
    }
   ],
   "source": [
    "wi_df1 = df.pivot_table(values = 'water_use (Bil. gal)', index = 'industry', columns = 'water_source', aggfunc = 'sum')\n",
    "wi_df1"
   ]
  },
  {
   "cell_type": "code",
   "execution_count": 99,
   "id": "a13fa4be-61b2-4c91-a8c1-1c7307850a09",
   "metadata": {},
   "outputs": [],
   "source": [
    "ind_cor = wi_df1.transpose().corr()"
   ]
  },
  {
   "cell_type": "code",
   "execution_count": 100,
   "id": "43b88e3b-1097-4d9a-aa2c-d75103d383a0",
   "metadata": {},
   "outputs": [
    {
     "data": {
      "image/png": "[encoded data removed]",
      "text/plain": [
       "<Figure size 640x480 with 2 Axes>"
      ]
     },
     "metadata": {},
     "output_type": "display_data"
    }
   ],
   "source": [
    "sns.heatmap(ind_cor, annot = True, fmt = '.3f')\n",
    "plt.title('Industry Correlations')\n",
    "plt.savefig('figures/fig_4.png')\n",
    "plt.show()"
   ]
  },
  {
   "cell_type": "code",
   "execution_count": 101,
   "id": "15f3e446-4cdc-42da-b3c1-9f97cb77d008",
   "metadata": {},
   "outputs": [],
   "source": [
    "ind_rel = [\n",
    "    ('Commercial-Institutional', 'Industrial-Manufacturing'),\n",
    "    ('Commercial-Institutional', 'Irrigation'),\n",
    "    ('Electric Power Generation', 'Public Water Supply'),\n",
    "    ('Electric Power Generation', 'Livestock'),\n",
    "    ('Industrial-Manufacturing', 'Irrigation'),\n",
    "    ('Irrigation', 'Other'),\n",
    "    ('Livestock', 'Public Water Supply')\n",
    "]"
   ]
  },
  {
   "cell_type": "code",
   "execution_count": 102,
   "id": "37e71302-e6af-445c-80e6-30f2dabddc92",
   "metadata": {},
   "outputs": [],
   "source": [
    "i_list = []\n",
    "\n",
    "for x_feature, y_feature in ind_rel:\n",
    "    model = run_ols(wi_df1.transpose(), x_feature, y_feature)\n",
    "    i_dict = {\n",
    "        'explanatory': x_feature,\n",
    "        'response': y_feature,\n",
    "        'slope': model.params.iloc[1],\n",
    "        'intercept': model.params.iloc[0],\n",
    "        'R-squared': model.rsquared,\n",
    "        'Adj. R-squared': model.rsquared_adj,\n",
    "        'Prob (F-statistic)': model.f_pvalue\n",
    "    }\n",
    "    i_list.append(i_dict)\n",
    "    model = run_ols(wi_df1.transpose(), y_feature, x_feature)\n",
    "    i_dict = {\n",
    "        'explanatory': y_feature,\n",
    "        'response': x_feature,\n",
    "        'slope': model.params.iloc[1],\n",
    "        'intercept': model.params.iloc[0],\n",
    "        'R-squared': model.rsquared,\n",
    "        'Adj. R-squared': model.rsquared_adj,\n",
    "        'Prob (F-statistic)': model.f_pvalue\n",
    "    }\n",
    "    i_list.append(i_dict)"
   ]
  },
  {
   "cell_type": "code",
   "execution_count": 103,
   "id": "48b6c1a6-6fa2-4903-b200-bf6f115505e9",
   "metadata": {},
   "outputs": [
    {
     "data": {
      "text/html": [
       "<div>\n",
       "<style scoped>\n",
       "    .dataframe tbody tr th:only-of-type {\n",
       "        vertical-align: middle;\n",
       "    }\n",
       "\n",
       "    .dataframe tbody tr th {\n",
       "        vertical-align: top;\n",
       "    }\n",
       "\n",
       "    .dataframe thead th {\n",
       "        text-align: right;\n",
       "    }\n",
       "</style>\n",
       "<table border=\"1\" class=\"dataframe\">\n",
       "  <thead>\n",
       "    <tr style=\"text-align: right;\">\n",
       "      <th></th>\n",
       "      <th>explanatory</th>\n",
       "      <th>response</th>\n",
       "      <th>slope</th>\n",
       "      <th>intercept</th>\n",
       "      <th>R-squared</th>\n",
       "      <th>Adj. R-squared</th>\n",
       "      <th>Prob (F-statistic)</th>\n",
       "    </tr>\n",
       "  </thead>\n",
       "  <tbody>\n",
       "    <tr>\n",
       "      <th>0</th>\n",
       "      <td>Irrigation</td>\n",
       "      <td>Other</td>\n",
       "      <td>0.042270</td>\n",
       "      <td>1.497580</td>\n",
       "      <td>0.997321</td>\n",
       "      <td>0.994642</td>\n",
       "      <td>0.032967</td>\n",
       "    </tr>\n",
       "    <tr>\n",
       "      <th>1</th>\n",
       "      <td>Other</td>\n",
       "      <td>Irrigation</td>\n",
       "      <td>23.594080</td>\n",
       "      <td>-34.167352</td>\n",
       "      <td>0.997321</td>\n",
       "      <td>0.994642</td>\n",
       "      <td>0.032967</td>\n",
       "    </tr>\n",
       "    <tr>\n",
       "      <th>2</th>\n",
       "      <td>Irrigation</td>\n",
       "      <td>Commercial-Institutional</td>\n",
       "      <td>0.017299</td>\n",
       "      <td>-0.157333</td>\n",
       "      <td>0.993481</td>\n",
       "      <td>0.986963</td>\n",
       "      <td>0.051456</td>\n",
       "    </tr>\n",
       "    <tr>\n",
       "      <th>3</th>\n",
       "      <td>Commercial-Institutional</td>\n",
       "      <td>Irrigation</td>\n",
       "      <td>57.430896</td>\n",
       "      <td>11.874392</td>\n",
       "      <td>0.993481</td>\n",
       "      <td>0.986963</td>\n",
       "      <td>0.051456</td>\n",
       "    </tr>\n",
       "    <tr>\n",
       "      <th>4</th>\n",
       "      <td>Public Water Supply</td>\n",
       "      <td>Livestock</td>\n",
       "      <td>-0.035483</td>\n",
       "      <td>93.226436</td>\n",
       "      <td>0.985832</td>\n",
       "      <td>0.971664</td>\n",
       "      <td>0.075957</td>\n",
       "    </tr>\n",
       "    <tr>\n",
       "      <th>5</th>\n",
       "      <td>Livestock</td>\n",
       "      <td>Public Water Supply</td>\n",
       "      <td>-27.783115</td>\n",
       "      <td>2606.203398</td>\n",
       "      <td>0.985832</td>\n",
       "      <td>0.971664</td>\n",
       "      <td>0.075957</td>\n",
       "    </tr>\n",
       "    <tr>\n",
       "      <th>6</th>\n",
       "      <td>Livestock</td>\n",
       "      <td>Electric Power Generation</td>\n",
       "      <td>-262.650123</td>\n",
       "      <td>22436.376833</td>\n",
       "      <td>0.932534</td>\n",
       "      <td>0.865069</td>\n",
       "      <td>0.167275</td>\n",
       "    </tr>\n",
       "    <tr>\n",
       "      <th>7</th>\n",
       "      <td>Electric Power Generation</td>\n",
       "      <td>Livestock</td>\n",
       "      <td>-0.003550</td>\n",
       "      <td>83.232161</td>\n",
       "      <td>0.932534</td>\n",
       "      <td>0.865069</td>\n",
       "      <td>0.167275</td>\n",
       "    </tr>\n",
       "    <tr>\n",
       "      <th>8</th>\n",
       "      <td>Electric Power Generation</td>\n",
       "      <td>Public Water Supply</td>\n",
       "      <td>0.095463</td>\n",
       "      <td>320.884655</td>\n",
       "      <td>0.860991</td>\n",
       "      <td>0.721981</td>\n",
       "      <td>0.243232</td>\n",
       "    </tr>\n",
       "    <tr>\n",
       "      <th>9</th>\n",
       "      <td>Public Water Supply</td>\n",
       "      <td>Electric Power Generation</td>\n",
       "      <td>9.019134</td>\n",
       "      <td>-1708.439062</td>\n",
       "      <td>0.860991</td>\n",
       "      <td>0.721981</td>\n",
       "      <td>0.243232</td>\n",
       "    </tr>\n",
       "    <tr>\n",
       "      <th>10</th>\n",
       "      <td>Industrial-Manufacturing</td>\n",
       "      <td>Commercial-Institutional</td>\n",
       "      <td>-0.018362</td>\n",
       "      <td>23.649113</td>\n",
       "      <td>0.816574</td>\n",
       "      <td>0.633148</td>\n",
       "      <td>0.281763</td>\n",
       "    </tr>\n",
       "    <tr>\n",
       "      <th>11</th>\n",
       "      <td>Commercial-Institutional</td>\n",
       "      <td>Industrial-Manufacturing</td>\n",
       "      <td>-44.470327</td>\n",
       "      <td>1214.245689</td>\n",
       "      <td>0.816574</td>\n",
       "      <td>0.633148</td>\n",
       "      <td>0.281763</td>\n",
       "    </tr>\n",
       "    <tr>\n",
       "      <th>12</th>\n",
       "      <td>Irrigation</td>\n",
       "      <td>Industrial-Manufacturing</td>\n",
       "      <td>-0.739746</td>\n",
       "      <td>1208.381652</td>\n",
       "      <td>0.750157</td>\n",
       "      <td>0.500313</td>\n",
       "      <td>0.333218</td>\n",
       "    </tr>\n",
       "    <tr>\n",
       "      <th>13</th>\n",
       "      <td>Industrial-Manufacturing</td>\n",
       "      <td>Irrigation</td>\n",
       "      <td>-1.014073</td>\n",
       "      <td>1334.183491</td>\n",
       "      <td>0.750157</td>\n",
       "      <td>0.500313</td>\n",
       "      <td>0.333218</td>\n",
       "    </tr>\n",
       "  </tbody>\n",
       "</table>\n",
       "</div>"
      ],
      "text/plain": [
       "                  explanatory                   response       slope  \\\n",
       "0                  Irrigation                      Other    0.042270   \n",
       "1                       Other                 Irrigation   23.594080   \n",
       "2                  Irrigation   Commercial-Institutional    0.017299   \n",
       "3    Commercial-Institutional                 Irrigation   57.430896   \n",
       "4         Public Water Supply                  Livestock   -0.035483   \n",
       "5                   Livestock        Public Water Supply  -27.783115   \n",
       "6                   Livestock  Electric Power Generation -262.650123   \n",
       "7   Electric Power Generation                  Livestock   -0.003550   \n",
       "8   Electric Power Generation        Public Water Supply    0.095463   \n",
       "9         Public Water Supply  Electric Power Generation    9.019134   \n",
       "10   Industrial-Manufacturing   Commercial-Institutional   -0.018362   \n",
       "11   Commercial-Institutional   Industrial-Manufacturing  -44.470327   \n",
       "12                 Irrigation   Industrial-Manufacturing   -0.739746   \n",
       "13   Industrial-Manufacturing                 Irrigation   -1.014073   \n",
       "\n",
       "       intercept  R-squared  Adj. R-squared  Prob (F-statistic)  \n",
       "0       1.497580   0.997321        0.994642            0.032967  \n",
       "1     -34.167352   0.997321        0.994642            0.032967  \n",
       "2      -0.157333   0.993481        0.986963            0.051456  \n",
       "3      11.874392   0.993481        0.986963            0.051456  \n",
       "4      93.226436   0.985832        0.971664            0.075957  \n",
       "5    2606.203398   0.985832        0.971664            0.075957  \n",
       "6   22436.376833   0.932534        0.865069            0.167275  \n",
       "7      83.232161   0.932534        0.865069            0.167275  \n",
       "8     320.884655   0.860991        0.721981            0.243232  \n",
       "9   -1708.439062   0.860991        0.721981            0.243232  \n",
       "10     23.649113   0.816574        0.633148            0.281763  \n",
       "11   1214.245689   0.816574        0.633148            0.281763  \n",
       "12   1208.381652   0.750157        0.500313            0.333218  \n",
       "13   1334.183491   0.750157        0.500313            0.333218  "
      ]
     },
     "execution_count": 103,
     "metadata": {},
     "output_type": "execute_result"
    }
   ],
   "source": [
    "i_df = pd.DataFrame(i_list).sort_values(by = ['Prob (F-statistic)', 'slope']).reset_index(drop = True)\n",
    "save_table(i_df, 'figures/table_3.png')\n",
    "i_df"
   ]
  },
  {
   "cell_type": "markdown",
   "id": "924516a1-d685-4b68-be4d-1481e50e8085",
   "metadata": {},
   "source": [
    "The some of the strongest relationships identfied were between irrigation and general (corr = 0.999), livestock and public water supply (corr = -0.993), irrigation and commercial (corr = 0.997),commercial and general (corr = 0.991), electric power and livestock (corr = -0.966), and electric power and public water supply (corr = 0.928).\n",
    "\n",
    "Despite the strong correlations, only irrigation and general industries had explanatory power (Adj. R-squared = 0.995, p-value = 0.033) towards the other. The general industry has a much more noticeable effect on the change of irrigation water use (slope = 23.594) than the inverse (slope = 0.042). This may just be due to the scale difference between the two features."
   ]
  },
  {
   "cell_type": "code",
   "execution_count": 105,
   "id": "564ccd78-56f8-4875-b104-e70d246e8af7",
   "metadata": {},
   "outputs": [
    {
     "data": {
      "image/png": "[encoded data removed]",
      "text/plain": [
       "<Figure size 640x480 with 1 Axes>"
      ]
     },
     "metadata": {},
     "output_type": "display_data"
    }
   ],
   "source": [
    "io_x_theor = np.linspace(df[df['industry'] == 'Other']['water_use (Bil. gal)'].min(), df[df['industry'] == 'Other']['water_use (Bil. gal)'].max(), 100)\n",
    "io_a = i_df[i_df['explanatory'] == 'Other']['slope'].values[0]\n",
    "io_b = i_df[i_df['explanatory'] == 'Other']['intercept'].values[0]\n",
    "io_y_theor = (io_a * io_x_theor) + io_b\n",
    "io_reg = sns.lineplot(x = io_x_theor, y = io_y_theor, color = 'blue', alpha = 0.5)\n",
    "io_reg = sns.scatterplot(y = df[df['industry'] == 'Irrigation']['water_use (Bil. gal)'].values,\n",
    "                         x = df[df['industry'] == 'Other']['water_use (Bil. gal)'].values)\n",
    "io_reg = plt.ylabel('Irrigation Water Use (Bil. gal)')\n",
    "io_reg = plt.xlabel('Other Water Use (Bil. gal)')\n",
    "io_reg = plt.title('Water Use Relationship Between Irrigation and Other')\n",
    "plt.savefig('figures/fig_6.png')\n",
    "plt.show()"
   ]
  },
  {
   "cell_type": "markdown",
   "id": "d336fad2-ba7d-4c3c-9efe-6dec0300b9a9",
   "metadata": {},
   "source": [
    "### How do the different water sources relate internally?"
   ]
  },
  {
   "cell_type": "code",
   "execution_count": 107,
   "id": "ea56c3c3-4c58-4b1f-ac0b-0689cca3ea44",
   "metadata": {},
   "outputs": [
    {
     "data": {
      "image/png": "[encoded data removed]",
      "text/plain": [
       "<Figure size 640x480 with 2 Axes>"
      ]
     },
     "metadata": {},
     "output_type": "display_data"
    }
   ],
   "source": [
    "wat_cor = wi_df1.corr()\n",
    "sns.heatmap(wat_cor, annot = True, fmt = '.3f')\n",
    "plt.title('Water Source Correlations')\n",
    "plt.savefig('figures/fig_5.png')\n",
    "plt.show()"
   ]
  },
  {
   "cell_type": "code",
   "execution_count": 108,
   "id": "29895f11-1504-4bcc-a2fc-6c33a00ab012",
   "metadata": {},
   "outputs": [],
   "source": [
    "wat_rel = [\n",
    "    ('great_lakes', 'inland'),\n",
    "    ('great_lakes', 'groundwater'),\n",
    "    ('groundwater', 'inland')\n",
    "]"
   ]
  },
  {
   "cell_type": "code",
   "execution_count": 109,
   "id": "f3626b31-1e7c-465d-9db6-7e73050c0e95",
   "metadata": {},
   "outputs": [],
   "source": [
    "w_list = []\n",
    "\n",
    "for x_feature, y_feature in wat_rel:\n",
    "    model = run_ols(wi_df1, x_feature, y_feature)\n",
    "    w_dict = {\n",
    "        'explanatory': x_feature,\n",
    "        'response': y_feature,\n",
    "        'slope': model.params.iloc[1],\n",
    "        'intercept': model.params.iloc[0],\n",
    "        'R-squared': model.rsquared,\n",
    "        'Adj. R-squared': model.rsquared_adj,\n",
    "        'Prob (F-statistic)': model.f_pvalue\n",
    "    }\n",
    "    w_list.append(w_dict)\n",
    "    model = run_ols(wi_df1, y_feature, x_feature)\n",
    "    w_dict = {\n",
    "        'explanatory': y_feature,\n",
    "        'response': x_feature,\n",
    "        'slope': model.params.iloc[1],\n",
    "        'intercept': model.params.iloc[0],\n",
    "        'R-squared': model.rsquared,\n",
    "        'Adj. R-squared': model.rsquared_adj,\n",
    "        'Prob (F-statistic)': model.f_pvalue\n",
    "    }\n",
    "    w_list.append(w_dict)"
   ]
  },
  {
   "cell_type": "code",
   "execution_count": 110,
   "id": "1639991f-b9d1-4c7b-8192-963a76e48973",
   "metadata": {},
   "outputs": [
    {
     "data": {
      "text/html": [
       "<div>\n",
       "<style scoped>\n",
       "    .dataframe tbody tr th:only-of-type {\n",
       "        vertical-align: middle;\n",
       "    }\n",
       "\n",
       "    .dataframe tbody tr th {\n",
       "        vertical-align: top;\n",
       "    }\n",
       "\n",
       "    .dataframe thead th {\n",
       "        text-align: right;\n",
       "    }\n",
       "</style>\n",
       "<table border=\"1\" class=\"dataframe\">\n",
       "  <thead>\n",
       "    <tr style=\"text-align: right;\">\n",
       "      <th></th>\n",
       "      <th>explanatory</th>\n",
       "      <th>response</th>\n",
       "      <th>slope</th>\n",
       "      <th>intercept</th>\n",
       "      <th>R-squared</th>\n",
       "      <th>Adj. R-squared</th>\n",
       "      <th>Prob (F-statistic)</th>\n",
       "    </tr>\n",
       "  </thead>\n",
       "  <tbody>\n",
       "    <tr>\n",
       "      <th>0</th>\n",
       "      <td>great_lakes</td>\n",
       "      <td>inland</td>\n",
       "      <td>0.099467</td>\n",
       "      <td>223.332762</td>\n",
       "      <td>0.796911</td>\n",
       "      <td>0.756293</td>\n",
       "      <td>0.006832</td>\n",
       "    </tr>\n",
       "    <tr>\n",
       "      <th>1</th>\n",
       "      <td>inland</td>\n",
       "      <td>great_lakes</td>\n",
       "      <td>8.011782</td>\n",
       "      <td>-1015.478083</td>\n",
       "      <td>0.796911</td>\n",
       "      <td>0.756293</td>\n",
       "      <td>0.006832</td>\n",
       "    </tr>\n",
       "    <tr>\n",
       "      <th>2</th>\n",
       "      <td>groundwater</td>\n",
       "      <td>great_lakes</td>\n",
       "      <td>-6.167461</td>\n",
       "      <td>5846.750636</td>\n",
       "      <td>0.086224</td>\n",
       "      <td>-0.096531</td>\n",
       "      <td>0.522712</td>\n",
       "    </tr>\n",
       "    <tr>\n",
       "      <th>3</th>\n",
       "      <td>great_lakes</td>\n",
       "      <td>groundwater</td>\n",
       "      <td>-0.013981</td>\n",
       "      <td>383.474004</td>\n",
       "      <td>0.086224</td>\n",
       "      <td>-0.096531</td>\n",
       "      <td>0.522712</td>\n",
       "    </tr>\n",
       "    <tr>\n",
       "      <th>4</th>\n",
       "      <td>groundwater</td>\n",
       "      <td>inland</td>\n",
       "      <td>-0.524534</td>\n",
       "      <td>775.529487</td>\n",
       "      <td>0.050236</td>\n",
       "      <td>-0.139717</td>\n",
       "      <td>0.628984</td>\n",
       "    </tr>\n",
       "    <tr>\n",
       "      <th>5</th>\n",
       "      <td>inland</td>\n",
       "      <td>groundwater</td>\n",
       "      <td>-0.095772</td>\n",
       "      <td>387.891108</td>\n",
       "      <td>0.050236</td>\n",
       "      <td>-0.139717</td>\n",
       "      <td>0.628984</td>\n",
       "    </tr>\n",
       "  </tbody>\n",
       "</table>\n",
       "</div>"
      ],
      "text/plain": [
       "   explanatory     response     slope    intercept  R-squared  Adj. R-squared  \\\n",
       "0  great_lakes       inland  0.099467   223.332762   0.796911        0.756293   \n",
       "1       inland  great_lakes  8.011782 -1015.478083   0.796911        0.756293   \n",
       "2  groundwater  great_lakes -6.167461  5846.750636   0.086224       -0.096531   \n",
       "3  great_lakes  groundwater -0.013981   383.474004   0.086224       -0.096531   \n",
       "4  groundwater       inland -0.524534   775.529487   0.050236       -0.139717   \n",
       "5       inland  groundwater -0.095772   387.891108   0.050236       -0.139717   \n",
       "\n",
       "   Prob (F-statistic)  \n",
       "0            0.006832  \n",
       "1            0.006832  \n",
       "2            0.522712  \n",
       "3            0.522712  \n",
       "4            0.628984  \n",
       "5            0.628984  "
      ]
     },
     "execution_count": 110,
     "metadata": {},
     "output_type": "execute_result"
    }
   ],
   "source": [
    "w_df = pd.DataFrame(w_list).sort_values(by = ['Prob (F-statistic)', 'slope']).reset_index(drop = True)\n",
    "save_table(w_df, 'figures/table_4.png')\n",
    "w_df"
   ]
  },
  {
   "cell_type": "markdown",
   "id": "b7f2685e-ace5-406b-9c71-a973927e128b",
   "metadata": {},
   "source": [
    "The inland water source had the most noticeable relationship (slope = 8.012, Adj. R-squared = 0.756, p-value = 0.007) with the Great Lakes. No other sources had any signifcant nor strong enough (corr > 0.893) to compare with inland and Great Lake water sources. Many of the inland sources may be sourced or connected to the Great Lakes so changes in one may be more noticeable in the other. For industries more reliant on the Great Lakes or inland water sources like electric power generation, industrial manufacturing, and the public water supply; as water use increases from one source, the use also increases with the other. This is important information to plot out future planning for water supplies."
   ]
  },
  {
   "cell_type": "code",
   "execution_count": 188,
   "id": "6499da92-fa44-4952-8de6-8e23ba499be1",
   "metadata": {},
   "outputs": [
    {
     "data": {
      "image/png": "[encoded data removed]",
      "text/plain": [
       "<Figure size 640x480 with 1 Axes>"
      ]
     },
     "metadata": {},
     "output_type": "display_data"
    }
   ],
   "source": [
    "water_df = df.drop(columns = ['industry', 'population (Bil.)']).groupby(['year', 'water_source']).agg('sum').sort_values(by = ['water_source', 'year']).reset_index()\n",
    "\n",
    "w_x_theor = np.linspace(water_df[water_df['water_source'] == 'inland']['water_use (Bil. gal)'].min(),\n",
    "                        water_df[water_df['water_source'] == 'inland']['water_use (Bil. gal)'].max(), 100)\n",
    "w_a = w_df.iloc[1, 2]\n",
    "w_b = w_df.iloc[1, 3]\n",
    "w_y_theor = (w_a * w_x_theor) + w_b\n",
    "\n",
    "w_reg = sns.lineplot(x = w_x_theor, y = w_y_theor, color = 'blue', alpha = 0.5)\n",
    "\n",
    "w_reg = sns.scatterplot(y = water_df[water_df['water_source'] == 'great_lakes' ]['water_use (Bil. gal)'].values,\n",
    "                         x = water_df[water_df['water_source'] == 'inland' ]['water_use (Bil. gal)'].values)\n",
    "w_reg = plt.ylabel('Great Lakes Water Use (Bil. gal)')\n",
    "w_reg = plt.xlabel('Inland Water Use (Bil. gal)')\n",
    "w_reg = plt.title('Water Use Relationship Between Inland and Great Lakes Water Sources')\n",
    "plt.savefig('figures/fig_7.png')\n",
    "plt.tight_layout()\n",
    "plt.show()"
   ]
  },
  {
   "cell_type": "markdown",
   "id": "d6638001-ae36-4e9c-9831-7f76ede69e6c",
   "metadata": {},
   "source": [
    "## Are there annual changes in water usage?"
   ]
  },
  {
   "cell_type": "code",
   "execution_count": 227,
   "id": "81594fb4-d2dc-45d8-ad99-2c706864e53d",
   "metadata": {},
   "outputs": [
    {
     "data": {
      "text/plain": [
       "array(['great_lakes', 'groundwater', 'inland'], dtype=object)"
      ]
     },
     "execution_count": 227,
     "metadata": {},
     "output_type": "execute_result"
    }
   ],
   "source": [
    "wat_val"
   ]
  },
  {
   "cell_type": "code",
   "execution_count": 241,
   "id": "25f2d5fd-8d29-49ac-a7ad-3a89d8dc4652",
   "metadata": {},
   "outputs": [
    {
     "data": {
      "text/plain": [
       "[        year  population (Bil.)\n",
       " 0 2013-01-01           0.009915\n",
       " 1 2014-01-01           0.009932\n",
       " 2 2015-01-01           0.009934\n",
       " 3 2016-01-01           0.009954\n",
       " 4 2017-01-01           0.009977\n",
       " 5 2018-01-01           0.009987\n",
       " 6 2019-01-01           0.009985\n",
       " 7 2020-01-01           0.010071\n",
       " 8 2021-01-01           0.010038\n",
       " 9 2022-01-01           0.010033,\n",
       "         year  water_use (Bil. gal)\n",
       " 0 2013-01-01           3744.287382\n",
       " 1 2014-01-01           3657.359892\n",
       " 2 2015-01-01           3587.948253\n",
       " 3 2016-01-01           3293.358384\n",
       " 4 2017-01-01           3285.630033\n",
       " 5 2018-01-01           3793.213877\n",
       " 6 2019-01-01           3004.694320\n",
       " 7 2020-01-01           2969.826234\n",
       " 8 2021-01-01           2965.066005\n",
       " 9 2022-01-01           2897.895277,\n",
       "         year  water_use (Bil. gal)\n",
       " 0 2013-01-01              2.922133\n",
       " 1 2014-01-01              3.623277\n",
       " 2 2015-01-01              2.850977\n",
       " 3 2016-01-01              3.449187\n",
       " 4 2017-01-01              1.927060\n",
       " 5 2018-01-01              1.785522\n",
       " 6 2019-01-01              1.429021\n",
       " 7 2020-01-01              1.369753\n",
       " 8 2021-01-01              1.244784\n",
       " 9 2022-01-01              1.524960,\n",
       "         year  water_use (Bil. gal)\n",
       " 0 2013-01-01           2924.107252\n",
       " 1 2014-01-01           2887.161982\n",
       " 2 2015-01-01           2846.147121\n",
       " 3 2016-01-01           2464.006057\n",
       " 4 2017-01-01           2412.540955\n",
       " 5 2018-01-01           3013.942764\n",
       " 6 2019-01-01           2272.994357\n",
       " 7 2020-01-01           2245.389679\n",
       " 8 2021-01-01           2299.973411\n",
       " 9 2022-01-01           2221.833521,\n",
       "         year  water_use (Bil. gal)\n",
       " 0 2013-01-01            270.004316\n",
       " 1 2014-01-01            252.544738\n",
       " 2 2015-01-01            206.708086\n",
       " 3 2016-01-01            289.557673\n",
       " 4 2017-01-01            342.188232\n",
       " 5 2018-01-01            310.402966\n",
       " 6 2019-01-01            293.483452\n",
       " 7 2020-01-01            255.317257\n",
       " 8 2021-01-01            218.136828\n",
       " 9 2022-01-01            220.413011,\n",
       "         year  water_use (Bil. gal)\n",
       " 0 2013-01-01            164.443001\n",
       " 1 2014-01-01            136.182849\n",
       " 2 2015-01-01            139.524014\n",
       " 3 2016-01-01            162.371997\n",
       " 4 2017-01-01            164.587973\n",
       " 5 2018-01-01            105.907372\n",
       " 6 2019-01-01             97.045704\n",
       " 7 2020-01-01            121.781478\n",
       " 8 2021-01-01            102.623415\n",
       " 9 2022-01-01            111.910173,\n",
       "         year  water_use (Bil. gal)\n",
       " 0 2013-01-01             18.227727\n",
       " 1 2014-01-01             18.039707\n",
       " 2 2015-01-01             12.028758\n",
       " 3 2016-01-01             14.107031\n",
       " 4 2017-01-01             16.359919\n",
       " 5 2018-01-01             24.799076\n",
       " 6 2019-01-01             15.634985\n",
       " 7 2020-01-01             13.603192\n",
       " 8 2021-01-01             15.700646\n",
       " 9 2022-01-01             10.345387,\n",
       "         year  water_use (Bil. gal)\n",
       " 0 2013-01-01              2.988713\n",
       " 1 2014-01-01              3.540820\n",
       " 2 2015-01-01              3.944853\n",
       " 3 2016-01-01              6.885401\n",
       " 4 2017-01-01              7.258632\n",
       " 5 2018-01-01              5.391353\n",
       " 6 2019-01-01              6.580500\n",
       " 7 2020-01-01              6.402581\n",
       " 8 2021-01-01             10.462657\n",
       " 9 2022-01-01              6.257775,\n",
       "         year  water_use (Bil. gal)\n",
       " 0 2013-01-01            361.594240\n",
       " 1 2014-01-01            356.266519\n",
       " 2 2015-01-01            376.744444\n",
       " 3 2016-01-01            352.981039\n",
       " 4 2017-01-01            340.767263\n",
       " 5 2018-01-01            330.984825\n",
       " 6 2019-01-01            317.526301\n",
       " 7 2020-01-01            325.962295\n",
       " 8 2021-01-01            316.924263\n",
       " 9 2022-01-01            325.610450,\n",
       "         year  water_use (Bil. gal)\n",
       " 0 2013-01-01           2918.280030\n",
       " 1 2014-01-01           2894.820096\n",
       " 2 2015-01-01           2872.646875\n",
       " 3 2016-01-01           2575.955051\n",
       " 4 2017-01-01           2567.672843\n",
       " 5 2018-01-01           3156.515218\n",
       " 6 2019-01-01           2470.241282\n",
       " 7 2020-01-01           2403.331826\n",
       " 8 2021-01-01           2446.532029\n",
       " 9 2022-01-01           2365.569270,\n",
       "         year  water_use (Bil. gal)\n",
       " 0 2013-01-01            258.016743\n",
       " 1 2014-01-01            229.837749\n",
       " 2 2015-01-01            217.776744\n",
       " 3 2016-01-01            251.809789\n",
       " 4 2017-01-01            299.014250\n",
       " 5 2018-01-01            217.051220\n",
       " 6 2019-01-01            197.330949\n",
       " 7 2020-01-01            224.463253\n",
       " 8 2021-01-01            202.242003\n",
       " 9 2022-01-01            213.892911,\n",
       "         year  water_use (Bil. gal)\n",
       " 0 2013-01-01            567.990609\n",
       " 1 2014-01-01            532.702048\n",
       " 2 2015-01-01            497.524634\n",
       " 3 2016-01-01            465.593544\n",
       " 4 2017-01-01            418.942940\n",
       " 5 2018-01-01            419.647439\n",
       " 6 2019-01-01            337.122089\n",
       " 7 2020-01-01            342.031156\n",
       " 8 2021-01-01            316.291974\n",
       " 9 2022-01-01            318.433096]"
      ]
     },
     "execution_count": 241,
     "metadata": {},
     "output_type": "execute_result"
    }
   ],
   "source": [
    "ci = df[df['industry'] == ind_val[0]].groupby('year').agg('sum').drop(columns = ['population (Bil.)', 'water_source', 'industry']).reset_index()\n",
    "epg = df[df['industry'] == ind_val[1]].groupby('year').agg('sum').drop(columns = ['population (Bil.)', 'water_source', 'industry']).reset_index()\n",
    "im = df[df['industry'] == ind_val[2]].groupby('year').agg('sum').drop(columns = ['population (Bil.)', 'water_source', 'industry']).reset_index()\n",
    "ir = df[df['industry'] == ind_val[3]].groupby('year').agg('sum').drop(columns = ['population (Bil.)', 'water_source', 'industry']).reset_index()\n",
    "li = df[df['industry'] == ind_val[4]].groupby('year').agg('sum').drop(columns = ['population (Bil.)', 'water_source', 'industry']).reset_index()\n",
    "ot = df[df['industry'] == ind_val[5]].groupby('year').agg('sum').drop(columns = ['population (Bil.)', 'water_source', 'industry']).reset_index()\n",
    "pws = df[df['industry'] == ind_val[6]].groupby('year').agg('sum').drop(columns = ['population (Bil.)', 'water_source', 'industry']).reset_index()\n",
    "gl = df[df['water_source'] == wat_val[0]].groupby('year').agg('sum').drop(columns = ['population (Bil.)', 'water_source', 'industry']).reset_index()\n",
    "gr = df[df['water_source'] == wat_val[1]].groupby('year').agg('sum').drop(columns = ['population (Bil.)', 'water_source', 'industry']).reset_index()\n",
    "inl = df[df['water_source'] == wat_val[2]].groupby('year').agg('sum').drop(columns = ['population (Bil.)', 'water_source', 'industry']).reset_index()\n",
    "\n",
    "df_list = [pop1, wu2, ci, epg, im, ir, li, ot, pws, gl, gr, inl]\n",
    "df_list"
   ]
  },
  {
   "cell_type": "markdown",
   "id": "73328b25-8be3-4871-8cd6-e0567f1baca0",
   "metadata": {},
   "source": [
    "Water use in Michigan has had a steady decline from 2013 to 2022 which negatively correlates with the state's population growth during that time. If a causal relationship is identified, population growth has the biggest impacts on water used from the Great Lakes and inland sources on the commercial, public, electrical generation, and general industries. This indicates that a encouraging population growth for Michigan may reduce the usage of water in these industries, leaving resources available for new organizations and innovations. The data is limited by not being able to account for the available water in each of these sources and efficiency advancements for industry demands.\n",
    "\n",
    "Groundwater sources seem to be the most inaccessible water source which may account for it being used, at most, 130 billion gallons in any one year by a single industry. Agricultural and industrial manufacturing industries must have confounding features that drive their water usage. These industries may have a majority of their goods exported to other regions that influence their demand on local resources; or their demand for water is minimal compared to the other resources required to produce their goods and services.\n",
    "\n",
    "Inter-feature correlations also indicate that irrigation and general use industries are positively correlated with one another. These two industries account for over 99% of the variation for each other. This means that instilling regulations to limit or promote the use of resources in one may result in a change in the other. Similarly, the use of the Great Lakes and surface-level water sources are linked to one another. If the water uses impact one source too much, regulations on the other water sources may mitigate the damages."
   ]
  }
 ],
 "metadata": {
  "kernelspec": {
   "display_name": "Python 3 (ipykernel)",
   "language": "python",
   "name": "python3"
  },
  "language_info": {
   "codemirror_mode": {
    "name": "ipython",
    "version": 3
   },
   "file_extension": ".py",
   "mimetype": "text/x-python",
   "name": "python",
   "nbconvert_exporter": "python",
   "pygments_lexer": "ipython3",
   "version": "3.11.9"
  }
 },
 "nbformat": 4,
 "nbformat_minor": 5
}
